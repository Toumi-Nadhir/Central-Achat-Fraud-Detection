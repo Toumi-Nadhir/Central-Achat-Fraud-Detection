{
 "cells": [
  {
   "cell_type": "markdown",
   "id": "af74ba8d",
   "metadata": {
    "papermill": {
     "duration": 0.074845,
     "end_time": "2022-01-18T08:21:34.609648",
     "exception": false,
     "start_time": "2022-01-18T08:21:34.534803",
     "status": "completed"
    },
    "tags": []
   },
   "source": [
    "# Dataset Fraud E-Commerce"
   ]
  },
  {
   "cell_type": "markdown",
   "id": "e9d3a3b4",
   "metadata": {
    "papermill": {
     "duration": 0.07374,
     "end_time": "2022-01-18T08:21:34.756405",
     "exception": false,
     "start_time": "2022-01-18T08:21:34.682665",
     "status": "completed"
    },
    "tags": []
   },
   "source": [
    "### Import Library"
   ]
  },
  {
   "cell_type": "code",
   "execution_count": 1,
   "id": "dcf814b6",
   "metadata": {
    "execution": {
     "iopub.execute_input": "2022-01-18T08:21:34.908435Z",
     "iopub.status.busy": "2022-01-18T08:21:34.907182Z",
     "iopub.status.idle": "2022-01-18T08:21:35.927537Z",
     "shell.execute_reply": "2022-01-18T08:21:35.926850Z",
     "shell.execute_reply.started": "2022-01-18T08:10:03.684788Z"
    },
    "papermill": {
     "duration": 1.098806,
     "end_time": "2022-01-18T08:21:35.927704",
     "exception": false,
     "start_time": "2022-01-18T08:21:34.828898",
     "status": "completed"
    },
    "tags": []
   },
   "outputs": [],
   "source": [
    "# This Python 3 environment comes with many helpful analytics libraries installed\n",
    "# It is defined by the kaggle/python Docker image: https://github.com/kaggle/docker-python\n",
    "# For example, here's several helpful packages to load\n",
    "\n",
    "import numpy as np # linear algebra\n",
    "import pandas as pd # data processing, CSV file I/O (e.g. pd.read_csv)\n",
    "import matplotlib.pyplot as plt\n",
    "import seaborn as sns\n",
    "import warnings\n",
    "warnings.filterwarnings('ignore')\n",
    "plt.style.use('seaborn')\n",
    "# Input data files are available in the read-only \"../input/\" directory\n",
    "# For example, running this (by clicking run or pressing Shift+Enter) will list all files under the input directory\n",
    "\n",
    "import os\n",
    "for dirname, _, filenames in os.walk('/kaggle/input'):\n",
    "    for filename in filenames:\n",
    "        print(os.path.join(dirname, filename))\n",
    "\n",
    "# You can write up to 20GB to the current directory (/kaggle/working/) that gets preserved as output when you create a version using \"Save & Run All\" \n",
    "# You can also write temporary files to /kaggle/temp/, but they won't be saved outside of the current session"
   ]
  },
  {
   "cell_type": "code",
   "execution_count": 2,
   "id": "d8dc304c",
   "metadata": {
    "execution": {
     "iopub.execute_input": "2022-01-18T08:21:36.078302Z",
     "iopub.status.busy": "2022-01-18T08:21:36.077638Z",
     "iopub.status.idle": "2022-01-18T08:21:36.082032Z",
     "shell.execute_reply": "2022-01-18T08:21:36.081532Z",
     "shell.execute_reply.started": "2022-01-18T08:10:03.697722Z"
    },
    "papermill": {
     "duration": 0.081032,
     "end_time": "2022-01-18T08:21:36.082188",
     "exception": false,
     "start_time": "2022-01-18T08:21:36.001156",
     "status": "completed"
    },
    "tags": []
   },
   "outputs": [],
   "source": [
    "pd.set_option('display.max_columns', 40)"
   ]
  },
  {
   "cell_type": "markdown",
   "id": "9222693e",
   "metadata": {
    "papermill": {
     "duration": 0.072429,
     "end_time": "2022-01-18T08:21:36.227376",
     "exception": false,
     "start_time": "2022-01-18T08:21:36.154947",
     "status": "completed"
    },
    "tags": []
   },
   "source": [
    "### Import Dataset"
   ]
  },
  {
   "cell_type": "code",
   "execution_count": 3,
   "id": "b2fbf2b3",
   "metadata": {
    "execution": {
     "iopub.execute_input": "2022-01-18T08:21:36.376275Z",
     "iopub.status.busy": "2022-01-18T08:21:36.375591Z",
     "iopub.status.idle": "2022-01-18T08:21:36.408590Z",
     "shell.execute_reply": "2022-01-18T08:21:36.408007Z",
     "shell.execute_reply.started": "2022-01-18T08:10:03.704711Z"
    },
    "papermill": {
     "duration": 0.108083,
     "end_time": "2022-01-18T08:21:36.408763",
     "exception": false,
     "start_time": "2022-01-18T08:21:36.300680",
     "status": "completed"
    },
    "tags": []
   },
   "outputs": [],
   "source": [
    "data1 = pd.read_csv('./Customer_DF.csv')\n",
    "data2= pd.read_csv('./cust_transaction_details.csv')"
   ]
  },
  {
   "cell_type": "code",
   "execution_count": 4,
   "id": "4a4f591a",
   "metadata": {
    "execution": {
     "iopub.execute_input": "2022-01-18T08:21:36.556792Z",
     "iopub.status.busy": "2022-01-18T08:21:36.556146Z",
     "iopub.status.idle": "2022-01-18T08:21:36.577383Z",
     "shell.execute_reply": "2022-01-18T08:21:36.577924Z",
     "shell.execute_reply.started": "2022-01-18T08:10:03.729717Z"
    },
    "papermill": {
     "duration": 0.096753,
     "end_time": "2022-01-18T08:21:36.578114",
     "exception": false,
     "start_time": "2022-01-18T08:21:36.481361",
     "status": "completed"
    },
    "tags": []
   },
   "outputs": [
    {
     "data": {
      "text/html": [
       "<div>\n",
       "<style scoped>\n",
       "    .dataframe tbody tr th:only-of-type {\n",
       "        vertical-align: middle;\n",
       "    }\n",
       "\n",
       "    .dataframe tbody tr th {\n",
       "        vertical-align: top;\n",
       "    }\n",
       "\n",
       "    .dataframe thead th {\n",
       "        text-align: right;\n",
       "    }\n",
       "</style>\n",
       "<table border=\"1\" class=\"dataframe\">\n",
       "  <thead>\n",
       "    <tr style=\"text-align: right;\">\n",
       "      <th></th>\n",
       "      <th>Unnamed: 0</th>\n",
       "      <th>customerEmail</th>\n",
       "      <th>customerPhone</th>\n",
       "      <th>customerDevice</th>\n",
       "      <th>customerIPAddress</th>\n",
       "      <th>customerBillingAddress</th>\n",
       "      <th>No_Transactions</th>\n",
       "      <th>No_Orders</th>\n",
       "      <th>No_Payments</th>\n",
       "      <th>Fraud</th>\n",
       "    </tr>\n",
       "  </thead>\n",
       "  <tbody>\n",
       "    <tr>\n",
       "      <th>0</th>\n",
       "      <td>0</td>\n",
       "      <td>josephhoward@yahoo.com</td>\n",
       "      <td>400-108-5415</td>\n",
       "      <td>yyeiaxpltf82440jnb3v</td>\n",
       "      <td>8.129.104.40</td>\n",
       "      <td>5493 Jones Islands\\nBrownside, CA 51896</td>\n",
       "      <td>2</td>\n",
       "      <td>2</td>\n",
       "      <td>1</td>\n",
       "      <td>False</td>\n",
       "    </tr>\n",
       "    <tr>\n",
       "      <th>1</th>\n",
       "      <td>1</td>\n",
       "      <td>evansjeffery@yahoo.com</td>\n",
       "      <td>1-788-091-7546</td>\n",
       "      <td>r0jpm7xaeqqa3kr6mzum</td>\n",
       "      <td>219.173.211.202</td>\n",
       "      <td>356 Elizabeth Inlet Suite 120\\nPort Joshuabury...</td>\n",
       "      <td>3</td>\n",
       "      <td>3</td>\n",
       "      <td>7</td>\n",
       "      <td>True</td>\n",
       "    </tr>\n",
       "    <tr>\n",
       "      <th>2</th>\n",
       "      <td>2</td>\n",
       "      <td>andersonwilliam@yahoo.com</td>\n",
       "      <td>024.420.0375</td>\n",
       "      <td>4m7h5ipl1shyavt6vv2r</td>\n",
       "      <td>67b7:3db8:67e0:3bea:b9d0:90c1:2b60:b9f0</td>\n",
       "      <td>8478 Sean Ridges Apt. 441\\nDavisberg, PR 72250</td>\n",
       "      <td>5</td>\n",
       "      <td>3</td>\n",
       "      <td>2</td>\n",
       "      <td>False</td>\n",
       "    </tr>\n",
       "    <tr>\n",
       "      <th>3</th>\n",
       "      <td>3</td>\n",
       "      <td>rubenjuarez@yahoo.com</td>\n",
       "      <td>670.664.8168x94985</td>\n",
       "      <td>slovx60t0i558may4ks0</td>\n",
       "      <td>95de:8565:5a66:792c:26e0:6cfb:7d87:11af</td>\n",
       "      <td>7769 Elizabeth Bridge Apt. 343\\nNortonstad, FM...</td>\n",
       "      <td>3</td>\n",
       "      <td>3</td>\n",
       "      <td>1</td>\n",
       "      <td>False</td>\n",
       "    </tr>\n",
       "    <tr>\n",
       "      <th>4</th>\n",
       "      <td>4</td>\n",
       "      <td>uchen@malone.com</td>\n",
       "      <td>1-981-877-0870</td>\n",
       "      <td>j0pd24k5h8dl2fqu0cz4</td>\n",
       "      <td>196.89.235.192</td>\n",
       "      <td>148 Russell Lodge Apt. 445\\nPort Jenniferside,...</td>\n",
       "      <td>7</td>\n",
       "      <td>7</td>\n",
       "      <td>6</td>\n",
       "      <td>True</td>\n",
       "    </tr>\n",
       "  </tbody>\n",
       "</table>\n",
       "</div>"
      ],
      "text/plain": [
       "   Unnamed: 0              customerEmail       customerPhone  \\\n",
       "0           0     josephhoward@yahoo.com        400-108-5415   \n",
       "1           1     evansjeffery@yahoo.com      1-788-091-7546   \n",
       "2           2  andersonwilliam@yahoo.com        024.420.0375   \n",
       "3           3      rubenjuarez@yahoo.com  670.664.8168x94985   \n",
       "4           4           uchen@malone.com      1-981-877-0870   \n",
       "\n",
       "         customerDevice                        customerIPAddress  \\\n",
       "0  yyeiaxpltf82440jnb3v                             8.129.104.40   \n",
       "1  r0jpm7xaeqqa3kr6mzum                          219.173.211.202   \n",
       "2  4m7h5ipl1shyavt6vv2r  67b7:3db8:67e0:3bea:b9d0:90c1:2b60:b9f0   \n",
       "3  slovx60t0i558may4ks0  95de:8565:5a66:792c:26e0:6cfb:7d87:11af   \n",
       "4  j0pd24k5h8dl2fqu0cz4                           196.89.235.192   \n",
       "\n",
       "                              customerBillingAddress  No_Transactions  \\\n",
       "0            5493 Jones Islands\\nBrownside, CA 51896                2   \n",
       "1  356 Elizabeth Inlet Suite 120\\nPort Joshuabury...                3   \n",
       "2     8478 Sean Ridges Apt. 441\\nDavisberg, PR 72250                5   \n",
       "3  7769 Elizabeth Bridge Apt. 343\\nNortonstad, FM...                3   \n",
       "4  148 Russell Lodge Apt. 445\\nPort Jenniferside,...                7   \n",
       "\n",
       "   No_Orders  No_Payments  Fraud  \n",
       "0          2            1  False  \n",
       "1          3            7   True  \n",
       "2          3            2  False  \n",
       "3          3            1  False  \n",
       "4          7            6   True  "
      ]
     },
     "execution_count": 4,
     "metadata": {},
     "output_type": "execute_result"
    }
   ],
   "source": [
    "data1.head()"
   ]
  },
  {
   "cell_type": "code",
   "execution_count": 5,
   "id": "1bed3400",
   "metadata": {
    "execution": {
     "iopub.execute_input": "2022-01-18T08:21:36.727262Z",
     "iopub.status.busy": "2022-01-18T08:21:36.726584Z",
     "iopub.status.idle": "2022-01-18T08:21:36.739961Z",
     "shell.execute_reply": "2022-01-18T08:21:36.740540Z",
     "shell.execute_reply.started": "2022-01-18T08:10:03.772057Z"
    },
    "papermill": {
     "duration": 0.08955,
     "end_time": "2022-01-18T08:21:36.740747",
     "exception": false,
     "start_time": "2022-01-18T08:21:36.651197",
     "status": "completed"
    },
    "tags": []
   },
   "outputs": [
    {
     "data": {
      "text/html": [
       "<div>\n",
       "<style scoped>\n",
       "    .dataframe tbody tr th:only-of-type {\n",
       "        vertical-align: middle;\n",
       "    }\n",
       "\n",
       "    .dataframe tbody tr th {\n",
       "        vertical-align: top;\n",
       "    }\n",
       "\n",
       "    .dataframe thead th {\n",
       "        text-align: right;\n",
       "    }\n",
       "</style>\n",
       "<table border=\"1\" class=\"dataframe\">\n",
       "  <thead>\n",
       "    <tr style=\"text-align: right;\">\n",
       "      <th></th>\n",
       "      <th>Unnamed: 0</th>\n",
       "      <th>customerEmail</th>\n",
       "      <th>transactionId</th>\n",
       "      <th>orderId</th>\n",
       "      <th>paymentMethodId</th>\n",
       "      <th>paymentMethodRegistrationFailure</th>\n",
       "      <th>paymentMethodType</th>\n",
       "      <th>paymentMethodProvider</th>\n",
       "      <th>transactionAmount</th>\n",
       "      <th>transactionFailed</th>\n",
       "      <th>orderState</th>\n",
       "    </tr>\n",
       "  </thead>\n",
       "  <tbody>\n",
       "    <tr>\n",
       "      <th>0</th>\n",
       "      <td>0</td>\n",
       "      <td>josephhoward@yahoo.com</td>\n",
       "      <td>a9lcj51r</td>\n",
       "      <td>vjbdvd</td>\n",
       "      <td>wt07xm68b</td>\n",
       "      <td>1</td>\n",
       "      <td>card</td>\n",
       "      <td>JCB 16 digit</td>\n",
       "      <td>18</td>\n",
       "      <td>0</td>\n",
       "      <td>pending</td>\n",
       "    </tr>\n",
       "    <tr>\n",
       "      <th>1</th>\n",
       "      <td>1</td>\n",
       "      <td>josephhoward@yahoo.com</td>\n",
       "      <td>y4wcv03i</td>\n",
       "      <td>yp6x27</td>\n",
       "      <td>wt07xm68b</td>\n",
       "      <td>1</td>\n",
       "      <td>card</td>\n",
       "      <td>JCB 16 digit</td>\n",
       "      <td>26</td>\n",
       "      <td>0</td>\n",
       "      <td>fulfilled</td>\n",
       "    </tr>\n",
       "    <tr>\n",
       "      <th>2</th>\n",
       "      <td>2</td>\n",
       "      <td>evansjeffery@yahoo.com</td>\n",
       "      <td>5mi94sfw</td>\n",
       "      <td>nlghpa</td>\n",
       "      <td>41ug157xz</td>\n",
       "      <td>0</td>\n",
       "      <td>bitcoin</td>\n",
       "      <td>American Express</td>\n",
       "      <td>45</td>\n",
       "      <td>0</td>\n",
       "      <td>fulfilled</td>\n",
       "    </tr>\n",
       "    <tr>\n",
       "      <th>3</th>\n",
       "      <td>3</td>\n",
       "      <td>evansjeffery@yahoo.com</td>\n",
       "      <td>br8ba1nu</td>\n",
       "      <td>uw0eeb</td>\n",
       "      <td>41ug157xz</td>\n",
       "      <td>0</td>\n",
       "      <td>bitcoin</td>\n",
       "      <td>American Express</td>\n",
       "      <td>23</td>\n",
       "      <td>0</td>\n",
       "      <td>fulfilled</td>\n",
       "    </tr>\n",
       "    <tr>\n",
       "      <th>4</th>\n",
       "      <td>4</td>\n",
       "      <td>evansjeffery@yahoo.com</td>\n",
       "      <td>a33145ss</td>\n",
       "      <td>bn44oh</td>\n",
       "      <td>y3xp697jx</td>\n",
       "      <td>1</td>\n",
       "      <td>bitcoin</td>\n",
       "      <td>VISA 16 digit</td>\n",
       "      <td>43</td>\n",
       "      <td>1</td>\n",
       "      <td>fulfilled</td>\n",
       "    </tr>\n",
       "  </tbody>\n",
       "</table>\n",
       "</div>"
      ],
      "text/plain": [
       "   Unnamed: 0           customerEmail transactionId orderId paymentMethodId  \\\n",
       "0           0  josephhoward@yahoo.com      a9lcj51r  vjbdvd       wt07xm68b   \n",
       "1           1  josephhoward@yahoo.com      y4wcv03i  yp6x27       wt07xm68b   \n",
       "2           2  evansjeffery@yahoo.com      5mi94sfw  nlghpa       41ug157xz   \n",
       "3           3  evansjeffery@yahoo.com      br8ba1nu  uw0eeb       41ug157xz   \n",
       "4           4  evansjeffery@yahoo.com      a33145ss  bn44oh       y3xp697jx   \n",
       "\n",
       "   paymentMethodRegistrationFailure paymentMethodType paymentMethodProvider  \\\n",
       "0                                 1              card          JCB 16 digit   \n",
       "1                                 1              card          JCB 16 digit   \n",
       "2                                 0           bitcoin      American Express   \n",
       "3                                 0           bitcoin      American Express   \n",
       "4                                 1           bitcoin         VISA 16 digit   \n",
       "\n",
       "   transactionAmount  transactionFailed orderState  \n",
       "0                 18                  0    pending  \n",
       "1                 26                  0  fulfilled  \n",
       "2                 45                  0  fulfilled  \n",
       "3                 23                  0  fulfilled  \n",
       "4                 43                  1  fulfilled  "
      ]
     },
     "execution_count": 5,
     "metadata": {},
     "output_type": "execute_result"
    }
   ],
   "source": [
    "data2.head()"
   ]
  },
  {
   "cell_type": "code",
   "execution_count": 6,
   "id": "854c5fde",
   "metadata": {
    "execution": {
     "iopub.execute_input": "2022-01-18T08:21:36.892347Z",
     "iopub.status.busy": "2022-01-18T08:21:36.891671Z",
     "iopub.status.idle": "2022-01-18T08:21:36.896307Z",
     "shell.execute_reply": "2022-01-18T08:21:36.896866Z",
     "shell.execute_reply.started": "2022-01-18T08:10:03.787469Z"
    },
    "papermill": {
     "duration": 0.081382,
     "end_time": "2022-01-18T08:21:36.897060",
     "exception": false,
     "start_time": "2022-01-18T08:21:36.815678",
     "status": "completed"
    },
    "tags": []
   },
   "outputs": [
    {
     "data": {
      "text/plain": [
       "((168, 10), (623, 11))"
      ]
     },
     "execution_count": 6,
     "metadata": {},
     "output_type": "execute_result"
    }
   ],
   "source": [
    "data1.shape ,data2.shape "
   ]
  },
  {
   "cell_type": "code",
   "execution_count": 7,
   "id": "743c253a",
   "metadata": {
    "execution": {
     "iopub.execute_input": "2022-01-18T08:21:37.048625Z",
     "iopub.status.busy": "2022-01-18T08:21:37.047927Z",
     "iopub.status.idle": "2022-01-18T08:21:37.068790Z",
     "shell.execute_reply": "2022-01-18T08:21:37.069345Z",
     "shell.execute_reply.started": "2022-01-18T08:10:03.799752Z"
    },
    "papermill": {
     "duration": 0.098303,
     "end_time": "2022-01-18T08:21:37.069520",
     "exception": false,
     "start_time": "2022-01-18T08:21:36.971217",
     "status": "completed"
    },
    "tags": []
   },
   "outputs": [
    {
     "name": "stdout",
     "output_type": "stream",
     "text": [
      "<class 'pandas.core.frame.DataFrame'>\n",
      "RangeIndex: 168 entries, 0 to 167\n",
      "Data columns (total 10 columns):\n",
      " #   Column                  Non-Null Count  Dtype \n",
      "---  ------                  --------------  ----- \n",
      " 0   Unnamed: 0              168 non-null    int64 \n",
      " 1   customerEmail           168 non-null    object\n",
      " 2   customerPhone           168 non-null    object\n",
      " 3   customerDevice          168 non-null    object\n",
      " 4   customerIPAddress       168 non-null    object\n",
      " 5   customerBillingAddress  168 non-null    object\n",
      " 6   No_Transactions         168 non-null    int64 \n",
      " 7   No_Orders               168 non-null    int64 \n",
      " 8   No_Payments             168 non-null    int64 \n",
      " 9   Fraud                   168 non-null    bool  \n",
      "dtypes: bool(1), int64(4), object(5)\n",
      "memory usage: 12.1+ KB\n"
     ]
    }
   ],
   "source": [
    "data1.info()"
   ]
  },
  {
   "cell_type": "code",
   "execution_count": 8,
   "id": "addf51ff",
   "metadata": {
    "execution": {
     "iopub.execute_input": "2022-01-18T08:21:37.223626Z",
     "iopub.status.busy": "2022-01-18T08:21:37.222535Z",
     "iopub.status.idle": "2022-01-18T08:21:37.235040Z",
     "shell.execute_reply": "2022-01-18T08:21:37.236072Z",
     "shell.execute_reply.started": "2022-01-18T08:10:03.816584Z"
    },
    "papermill": {
     "duration": 0.092906,
     "end_time": "2022-01-18T08:21:37.236354",
     "exception": false,
     "start_time": "2022-01-18T08:21:37.143448",
     "status": "completed"
    },
    "tags": []
   },
   "outputs": [
    {
     "name": "stdout",
     "output_type": "stream",
     "text": [
      "<class 'pandas.core.frame.DataFrame'>\n",
      "RangeIndex: 623 entries, 0 to 622\n",
      "Data columns (total 11 columns):\n",
      " #   Column                            Non-Null Count  Dtype \n",
      "---  ------                            --------------  ----- \n",
      " 0   Unnamed: 0                        623 non-null    int64 \n",
      " 1   customerEmail                     623 non-null    object\n",
      " 2   transactionId                     623 non-null    object\n",
      " 3   orderId                           623 non-null    object\n",
      " 4   paymentMethodId                   623 non-null    object\n",
      " 5   paymentMethodRegistrationFailure  623 non-null    int64 \n",
      " 6   paymentMethodType                 623 non-null    object\n",
      " 7   paymentMethodProvider             623 non-null    object\n",
      " 8   transactionAmount                 623 non-null    int64 \n",
      " 9   transactionFailed                 623 non-null    int64 \n",
      " 10  orderState                        623 non-null    object\n",
      "dtypes: int64(4), object(7)\n",
      "memory usage: 53.7+ KB\n"
     ]
    }
   ],
   "source": [
    "data2.info()"
   ]
  },
  {
   "cell_type": "markdown",
   "id": "ec564c6e",
   "metadata": {
    "papermill": {
     "duration": 0.074903,
     "end_time": "2022-01-18T08:21:37.386510",
     "exception": false,
     "start_time": "2022-01-18T08:21:37.311607",
     "status": "completed"
    },
    "tags": []
   },
   "source": [
    "## Exploratory Data Analysis (EDA)"
   ]
  },
  {
   "cell_type": "markdown",
   "id": "e40db3a7",
   "metadata": {
    "papermill": {
     "duration": 0.073671,
     "end_time": "2022-01-18T08:21:37.535338",
     "exception": false,
     "start_time": "2022-01-18T08:21:37.461667",
     "status": "completed"
    },
    "tags": []
   },
   "source": [
    "### Data Cleaning"
   ]
  },
  {
   "cell_type": "code",
   "execution_count": 9,
   "id": "9a17daa7",
   "metadata": {
    "execution": {
     "iopub.execute_input": "2022-01-18T08:21:37.690532Z",
     "iopub.status.busy": "2022-01-18T08:21:37.689789Z",
     "iopub.status.idle": "2022-01-18T08:21:37.698418Z",
     "shell.execute_reply": "2022-01-18T08:21:37.698951Z",
     "shell.execute_reply.started": "2022-01-18T08:10:03.937202Z"
    },
    "papermill": {
     "duration": 0.089014,
     "end_time": "2022-01-18T08:21:37.699135",
     "exception": false,
     "start_time": "2022-01-18T08:21:37.610121",
     "status": "completed"
    },
    "tags": []
   },
   "outputs": [
    {
     "data": {
      "text/plain": [
       "False"
      ]
     },
     "execution_count": 9,
     "metadata": {},
     "output_type": "execute_result"
    }
   ],
   "source": [
    "data1.duplicated().any()"
   ]
  },
  {
   "cell_type": "code",
   "execution_count": 10,
   "id": "91fdea56",
   "metadata": {
    "execution": {
     "iopub.execute_input": "2022-01-18T08:21:37.851981Z",
     "iopub.status.busy": "2022-01-18T08:21:37.851170Z",
     "iopub.status.idle": "2022-01-18T08:21:37.858944Z",
     "shell.execute_reply": "2022-01-18T08:21:37.859532Z",
     "shell.execute_reply.started": "2022-01-18T08:10:03.945466Z"
    },
    "papermill": {
     "duration": 0.085792,
     "end_time": "2022-01-18T08:21:37.859710",
     "exception": false,
     "start_time": "2022-01-18T08:21:37.773918",
     "status": "completed"
    },
    "tags": []
   },
   "outputs": [
    {
     "data": {
      "text/plain": [
       "False"
      ]
     },
     "execution_count": 10,
     "metadata": {},
     "output_type": "execute_result"
    }
   ],
   "source": [
    "data2.duplicated().any()"
   ]
  },
  {
   "cell_type": "markdown",
   "id": "2b6567d0",
   "metadata": {
    "papermill": {
     "duration": 0.075418,
     "end_time": "2022-01-18T08:21:38.010328",
     "exception": false,
     "start_time": "2022-01-18T08:21:37.934910",
     "status": "completed"
    },
    "tags": []
   },
   "source": [
    "### Check Missing Value"
   ]
  },
  {
   "cell_type": "code",
   "execution_count": 11,
   "id": "135c356a",
   "metadata": {
    "execution": {
     "iopub.execute_input": "2022-01-18T08:21:38.165354Z",
     "iopub.status.busy": "2022-01-18T08:21:38.164680Z",
     "iopub.status.idle": "2022-01-18T08:21:38.173926Z",
     "shell.execute_reply": "2022-01-18T08:21:38.173408Z",
     "shell.execute_reply.started": "2022-01-18T08:10:03.953776Z"
    },
    "papermill": {
     "duration": 0.087192,
     "end_time": "2022-01-18T08:21:38.174090",
     "exception": false,
     "start_time": "2022-01-18T08:21:38.086898",
     "status": "completed"
    },
    "tags": []
   },
   "outputs": [
    {
     "data": {
      "text/plain": [
       "Unnamed: 0                False\n",
       "customerEmail             False\n",
       "customerPhone             False\n",
       "customerDevice            False\n",
       "customerIPAddress         False\n",
       "customerBillingAddress    False\n",
       "No_Transactions           False\n",
       "No_Orders                 False\n",
       "No_Payments               False\n",
       "Fraud                     False\n",
       "dtype: bool"
      ]
     },
     "execution_count": 11,
     "metadata": {},
     "output_type": "execute_result"
    }
   ],
   "source": [
    "data1.isna().any()"
   ]
  },
  {
   "cell_type": "code",
   "execution_count": 12,
   "id": "5cd492ea",
   "metadata": {
    "execution": {
     "iopub.execute_input": "2022-01-18T08:21:38.330128Z",
     "iopub.status.busy": "2022-01-18T08:21:38.329135Z",
     "iopub.status.idle": "2022-01-18T08:21:38.337759Z",
     "shell.execute_reply": "2022-01-18T08:21:38.338218Z",
     "shell.execute_reply.started": "2022-01-18T08:10:03.963337Z"
    },
    "papermill": {
     "duration": 0.087841,
     "end_time": "2022-01-18T08:21:38.338414",
     "exception": false,
     "start_time": "2022-01-18T08:21:38.250573",
     "status": "completed"
    },
    "scrolled": true,
    "tags": []
   },
   "outputs": [
    {
     "data": {
      "text/plain": [
       "Unnamed: 0                          False\n",
       "customerEmail                       False\n",
       "transactionId                       False\n",
       "orderId                             False\n",
       "paymentMethodId                     False\n",
       "paymentMethodRegistrationFailure    False\n",
       "paymentMethodType                   False\n",
       "paymentMethodProvider               False\n",
       "transactionAmount                   False\n",
       "transactionFailed                   False\n",
       "orderState                          False\n",
       "dtype: bool"
      ]
     },
     "execution_count": 12,
     "metadata": {},
     "output_type": "execute_result"
    }
   ],
   "source": [
    "data2.isna().any()"
   ]
  },
  {
   "cell_type": "code",
   "execution_count": 13,
   "id": "f811e352",
   "metadata": {
    "execution": {
     "iopub.execute_input": "2022-01-18T08:21:38.498915Z",
     "iopub.status.busy": "2022-01-18T08:21:38.498166Z",
     "iopub.status.idle": "2022-01-18T08:21:38.502662Z",
     "shell.execute_reply": "2022-01-18T08:21:38.503271Z",
     "shell.execute_reply.started": "2022-01-18T08:10:03.970812Z"
    },
    "papermill": {
     "duration": 0.089695,
     "end_time": "2022-01-18T08:21:38.503447",
     "exception": false,
     "start_time": "2022-01-18T08:21:38.413752",
     "status": "completed"
    },
    "tags": []
   },
   "outputs": [
    {
     "data": {
      "text/plain": [
       "(161, 136)"
      ]
     },
     "execution_count": 13,
     "metadata": {},
     "output_type": "execute_result"
    }
   ],
   "source": [
    "## See the difference email in data1 and data2\n",
    "data1['customerEmail'].nunique() , data2['customerEmail'].nunique()"
   ]
  },
  {
   "cell_type": "markdown",
   "id": "f51afb06",
   "metadata": {
    "papermill": {
     "duration": 0.076062,
     "end_time": "2022-01-18T08:21:38.656412",
     "exception": false,
     "start_time": "2022-01-18T08:21:38.580350",
     "status": "completed"
    },
    "tags": []
   },
   "source": [
    "## Data Visualization"
   ]
  },
  {
   "cell_type": "markdown",
   "id": "d95e6763",
   "metadata": {
    "papermill": {
     "duration": 0.076204,
     "end_time": "2022-01-18T08:21:38.808747",
     "exception": false,
     "start_time": "2022-01-18T08:21:38.732543",
     "status": "completed"
    },
    "tags": []
   },
   "source": [
    "### Which Payment Methods that the most use??"
   ]
  },
  {
   "cell_type": "code",
   "execution_count": 15,
   "id": "ca170eb0",
   "metadata": {
    "execution": {
     "iopub.execute_input": "2022-01-18T08:21:38.963848Z",
     "iopub.status.busy": "2022-01-18T08:21:38.963184Z",
     "iopub.status.idle": "2022-01-18T08:21:39.186690Z",
     "shell.execute_reply": "2022-01-18T08:21:39.187196Z",
     "shell.execute_reply.started": "2022-01-18T08:10:03.979235Z"
    },
    "papermill": {
     "duration": 0.303189,
     "end_time": "2022-01-18T08:21:39.187407",
     "exception": false,
     "start_time": "2022-01-18T08:21:38.884218",
     "status": "completed"
    },
    "tags": []
   },
   "outputs": [
    {
     "ename": "ValueError",
     "evalue": "could not convert string to float: 'card'",
     "output_type": "error",
     "traceback": [
      "\u001b[1;31m---------------------------------------------------------------------------\u001b[0m",
      "\u001b[1;31mValueError\u001b[0m                                Traceback (most recent call last)",
      "Cell \u001b[1;32mIn[15], line 1\u001b[0m\n\u001b[1;32m----> 1\u001b[0m \u001b[43msns\u001b[49m\u001b[38;5;241;43m.\u001b[39;49m\u001b[43mcountplot\u001b[49m\u001b[43m(\u001b[49m\u001b[43mdata2\u001b[49m\u001b[43m[\u001b[49m\u001b[38;5;124;43m'\u001b[39;49m\u001b[38;5;124;43mpaymentMethodType\u001b[39;49m\u001b[38;5;124;43m'\u001b[39;49m\u001b[43m]\u001b[49m\u001b[43m)\u001b[49m\n\u001b[0;32m      2\u001b[0m ax \u001b[38;5;241m=\u001b[39m plt\u001b[38;5;241m.\u001b[39mgca()\n\u001b[0;32m      4\u001b[0m \u001b[38;5;66;03m# Iterate through the list of axes' patches\u001b[39;00m\n",
      "File \u001b[1;32m~\\anaconda3\\lib\\site-packages\\seaborn\\categorical.py:2943\u001b[0m, in \u001b[0;36mcountplot\u001b[1;34m(data, x, y, hue, order, hue_order, orient, color, palette, saturation, width, dodge, ax, **kwargs)\u001b[0m\n\u001b[0;32m   2940\u001b[0m \u001b[38;5;28;01melif\u001b[39;00m x \u001b[38;5;129;01mis\u001b[39;00m \u001b[38;5;129;01mnot\u001b[39;00m \u001b[38;5;28;01mNone\u001b[39;00m \u001b[38;5;129;01mand\u001b[39;00m y \u001b[38;5;129;01mis\u001b[39;00m \u001b[38;5;129;01mnot\u001b[39;00m \u001b[38;5;28;01mNone\u001b[39;00m:\n\u001b[0;32m   2941\u001b[0m     \u001b[38;5;28;01mraise\u001b[39;00m \u001b[38;5;167;01mValueError\u001b[39;00m(\u001b[38;5;124m\"\u001b[39m\u001b[38;5;124mCannot pass values for both `x` and `y`\u001b[39m\u001b[38;5;124m\"\u001b[39m)\n\u001b[1;32m-> 2943\u001b[0m plotter \u001b[38;5;241m=\u001b[39m \u001b[43m_CountPlotter\u001b[49m\u001b[43m(\u001b[49m\n\u001b[0;32m   2944\u001b[0m \u001b[43m    \u001b[49m\u001b[43mx\u001b[49m\u001b[43m,\u001b[49m\u001b[43m \u001b[49m\u001b[43my\u001b[49m\u001b[43m,\u001b[49m\u001b[43m \u001b[49m\u001b[43mhue\u001b[49m\u001b[43m,\u001b[49m\u001b[43m \u001b[49m\u001b[43mdata\u001b[49m\u001b[43m,\u001b[49m\u001b[43m \u001b[49m\u001b[43morder\u001b[49m\u001b[43m,\u001b[49m\u001b[43m \u001b[49m\u001b[43mhue_order\u001b[49m\u001b[43m,\u001b[49m\n\u001b[0;32m   2945\u001b[0m \u001b[43m    \u001b[49m\u001b[43mestimator\u001b[49m\u001b[43m,\u001b[49m\u001b[43m \u001b[49m\u001b[43merrorbar\u001b[49m\u001b[43m,\u001b[49m\u001b[43m \u001b[49m\u001b[43mn_boot\u001b[49m\u001b[43m,\u001b[49m\u001b[43m \u001b[49m\u001b[43munits\u001b[49m\u001b[43m,\u001b[49m\u001b[43m \u001b[49m\u001b[43mseed\u001b[49m\u001b[43m,\u001b[49m\n\u001b[0;32m   2946\u001b[0m \u001b[43m    \u001b[49m\u001b[43morient\u001b[49m\u001b[43m,\u001b[49m\u001b[43m \u001b[49m\u001b[43mcolor\u001b[49m\u001b[43m,\u001b[49m\u001b[43m \u001b[49m\u001b[43mpalette\u001b[49m\u001b[43m,\u001b[49m\u001b[43m \u001b[49m\u001b[43msaturation\u001b[49m\u001b[43m,\u001b[49m\n\u001b[0;32m   2947\u001b[0m \u001b[43m    \u001b[49m\u001b[43mwidth\u001b[49m\u001b[43m,\u001b[49m\u001b[43m \u001b[49m\u001b[43merrcolor\u001b[49m\u001b[43m,\u001b[49m\u001b[43m \u001b[49m\u001b[43merrwidth\u001b[49m\u001b[43m,\u001b[49m\u001b[43m \u001b[49m\u001b[43mcapsize\u001b[49m\u001b[43m,\u001b[49m\u001b[43m \u001b[49m\u001b[43mdodge\u001b[49m\n\u001b[0;32m   2948\u001b[0m \u001b[43m\u001b[49m\u001b[43m)\u001b[49m\n\u001b[0;32m   2950\u001b[0m plotter\u001b[38;5;241m.\u001b[39mvalue_label \u001b[38;5;241m=\u001b[39m \u001b[38;5;124m\"\u001b[39m\u001b[38;5;124mcount\u001b[39m\u001b[38;5;124m\"\u001b[39m\n\u001b[0;32m   2952\u001b[0m \u001b[38;5;28;01mif\u001b[39;00m ax \u001b[38;5;129;01mis\u001b[39;00m \u001b[38;5;28;01mNone\u001b[39;00m:\n",
      "File \u001b[1;32m~\\anaconda3\\lib\\site-packages\\seaborn\\categorical.py:1530\u001b[0m, in \u001b[0;36m_BarPlotter.__init__\u001b[1;34m(self, x, y, hue, data, order, hue_order, estimator, errorbar, n_boot, units, seed, orient, color, palette, saturation, width, errcolor, errwidth, capsize, dodge)\u001b[0m\n\u001b[0;32m   1525\u001b[0m \u001b[38;5;28;01mdef\u001b[39;00m \u001b[38;5;21m__init__\u001b[39m(\u001b[38;5;28mself\u001b[39m, x, y, hue, data, order, hue_order,\n\u001b[0;32m   1526\u001b[0m              estimator, errorbar, n_boot, units, seed,\n\u001b[0;32m   1527\u001b[0m              orient, color, palette, saturation, width,\n\u001b[0;32m   1528\u001b[0m              errcolor, errwidth, capsize, dodge):\n\u001b[0;32m   1529\u001b[0m \u001b[38;5;250m    \u001b[39m\u001b[38;5;124;03m\"\"\"Initialize the plotter.\"\"\"\u001b[39;00m\n\u001b[1;32m-> 1530\u001b[0m     \u001b[38;5;28;43mself\u001b[39;49m\u001b[38;5;241;43m.\u001b[39;49m\u001b[43mestablish_variables\u001b[49m\u001b[43m(\u001b[49m\u001b[43mx\u001b[49m\u001b[43m,\u001b[49m\u001b[43m \u001b[49m\u001b[43my\u001b[49m\u001b[43m,\u001b[49m\u001b[43m \u001b[49m\u001b[43mhue\u001b[49m\u001b[43m,\u001b[49m\u001b[43m \u001b[49m\u001b[43mdata\u001b[49m\u001b[43m,\u001b[49m\u001b[43m \u001b[49m\u001b[43morient\u001b[49m\u001b[43m,\u001b[49m\n\u001b[0;32m   1531\u001b[0m \u001b[43m                             \u001b[49m\u001b[43morder\u001b[49m\u001b[43m,\u001b[49m\u001b[43m \u001b[49m\u001b[43mhue_order\u001b[49m\u001b[43m,\u001b[49m\u001b[43m \u001b[49m\u001b[43munits\u001b[49m\u001b[43m)\u001b[49m\n\u001b[0;32m   1532\u001b[0m     \u001b[38;5;28mself\u001b[39m\u001b[38;5;241m.\u001b[39mestablish_colors(color, palette, saturation)\n\u001b[0;32m   1533\u001b[0m     \u001b[38;5;28mself\u001b[39m\u001b[38;5;241m.\u001b[39mestimate_statistic(estimator, errorbar, n_boot, seed)\n",
      "File \u001b[1;32m~\\anaconda3\\lib\\site-packages\\seaborn\\categorical.py:516\u001b[0m, in \u001b[0;36m_CategoricalPlotter.establish_variables\u001b[1;34m(self, x, y, hue, data, orient, order, hue_order, units)\u001b[0m\n\u001b[0;32m    513\u001b[0m     plot_data \u001b[38;5;241m=\u001b[39m data\n\u001b[0;32m    515\u001b[0m \u001b[38;5;66;03m# Convert to a list of arrays, the common representation\u001b[39;00m\n\u001b[1;32m--> 516\u001b[0m plot_data \u001b[38;5;241m=\u001b[39m [np\u001b[38;5;241m.\u001b[39masarray(d, \u001b[38;5;28mfloat\u001b[39m) \u001b[38;5;28;01mfor\u001b[39;00m d \u001b[38;5;129;01min\u001b[39;00m plot_data]\n\u001b[0;32m    518\u001b[0m \u001b[38;5;66;03m# The group names will just be numeric indices\u001b[39;00m\n\u001b[0;32m    519\u001b[0m group_names \u001b[38;5;241m=\u001b[39m \u001b[38;5;28mlist\u001b[39m(\u001b[38;5;28mrange\u001b[39m(\u001b[38;5;28mlen\u001b[39m(plot_data)))\n",
      "File \u001b[1;32m~\\anaconda3\\lib\\site-packages\\seaborn\\categorical.py:516\u001b[0m, in \u001b[0;36m<listcomp>\u001b[1;34m(.0)\u001b[0m\n\u001b[0;32m    513\u001b[0m     plot_data \u001b[38;5;241m=\u001b[39m data\n\u001b[0;32m    515\u001b[0m \u001b[38;5;66;03m# Convert to a list of arrays, the common representation\u001b[39;00m\n\u001b[1;32m--> 516\u001b[0m plot_data \u001b[38;5;241m=\u001b[39m [\u001b[43mnp\u001b[49m\u001b[38;5;241;43m.\u001b[39;49m\u001b[43masarray\u001b[49m\u001b[43m(\u001b[49m\u001b[43md\u001b[49m\u001b[43m,\u001b[49m\u001b[43m \u001b[49m\u001b[38;5;28;43mfloat\u001b[39;49m\u001b[43m)\u001b[49m \u001b[38;5;28;01mfor\u001b[39;00m d \u001b[38;5;129;01min\u001b[39;00m plot_data]\n\u001b[0;32m    518\u001b[0m \u001b[38;5;66;03m# The group names will just be numeric indices\u001b[39;00m\n\u001b[0;32m    519\u001b[0m group_names \u001b[38;5;241m=\u001b[39m \u001b[38;5;28mlist\u001b[39m(\u001b[38;5;28mrange\u001b[39m(\u001b[38;5;28mlen\u001b[39m(plot_data)))\n",
      "File \u001b[1;32m~\\anaconda3\\lib\\site-packages\\pandas\\core\\series.py:893\u001b[0m, in \u001b[0;36mSeries.__array__\u001b[1;34m(self, dtype)\u001b[0m\n\u001b[0;32m    846\u001b[0m \u001b[38;5;28;01mdef\u001b[39;00m \u001b[38;5;21m__array__\u001b[39m(\u001b[38;5;28mself\u001b[39m, dtype: npt\u001b[38;5;241m.\u001b[39mDTypeLike \u001b[38;5;241m|\u001b[39m \u001b[38;5;28;01mNone\u001b[39;00m \u001b[38;5;241m=\u001b[39m \u001b[38;5;28;01mNone\u001b[39;00m) \u001b[38;5;241m-\u001b[39m\u001b[38;5;241m>\u001b[39m np\u001b[38;5;241m.\u001b[39mndarray:\n\u001b[0;32m    847\u001b[0m \u001b[38;5;250m    \u001b[39m\u001b[38;5;124;03m\"\"\"\u001b[39;00m\n\u001b[0;32m    848\u001b[0m \u001b[38;5;124;03m    Return the values as a NumPy array.\u001b[39;00m\n\u001b[0;32m    849\u001b[0m \n\u001b[1;32m   (...)\u001b[0m\n\u001b[0;32m    891\u001b[0m \u001b[38;5;124;03m          dtype='datetime64[ns]')\u001b[39;00m\n\u001b[0;32m    892\u001b[0m \u001b[38;5;124;03m    \"\"\"\u001b[39;00m\n\u001b[1;32m--> 893\u001b[0m     \u001b[38;5;28;01mreturn\u001b[39;00m \u001b[43mnp\u001b[49m\u001b[38;5;241;43m.\u001b[39;49m\u001b[43masarray\u001b[49m\u001b[43m(\u001b[49m\u001b[38;5;28;43mself\u001b[39;49m\u001b[38;5;241;43m.\u001b[39;49m\u001b[43m_values\u001b[49m\u001b[43m,\u001b[49m\u001b[43m \u001b[49m\u001b[43mdtype\u001b[49m\u001b[43m)\u001b[49m\n",
      "\u001b[1;31mValueError\u001b[0m: could not convert string to float: 'card'"
     ]
    }
   ],
   "source": [
    "sns.countplot(data2['paymentMethodType'],data = data2)\n",
    "ax = plt.gca()\n",
    "\n",
    "# Iterate through the list of axes' patches\n",
    "for p in ax.patches:\n",
    "    ax.text(p.get_x() + p.get_width()/2., p.get_height(), '%d' % int(p.get_height()), \n",
    "            fontsize=12, ha='center', va='bottom')\n",
    "plt.show()"
   ]
  },
  {
   "cell_type": "markdown",
   "id": "16e5229f",
   "metadata": {
    "papermill": {
     "duration": 0.076734,
     "end_time": "2022-01-18T08:21:39.342047",
     "exception": false,
     "start_time": "2022-01-18T08:21:39.265313",
     "status": "completed"
    },
    "tags": []
   },
   "source": [
    "### Result :\n",
    "- Payment Method that the most use is card\n",
    "- For other payment methods are relatively the same in use"
   ]
  },
  {
   "cell_type": "markdown",
   "id": "4a47fa26",
   "metadata": {
    "papermill": {
     "duration": 0.076406,
     "end_time": "2022-01-18T08:21:39.494832",
     "exception": false,
     "start_time": "2022-01-18T08:21:39.418426",
     "status": "completed"
    },
    "tags": []
   },
   "source": [
    "### which payment status appears most often??"
   ]
  },
  {
   "cell_type": "code",
   "execution_count": null,
   "id": "f2d13020",
   "metadata": {
    "execution": {
     "iopub.execute_input": "2022-01-18T08:21:39.658325Z",
     "iopub.status.busy": "2022-01-18T08:21:39.657192Z",
     "iopub.status.idle": "2022-01-18T08:21:39.929976Z",
     "shell.execute_reply": "2022-01-18T08:21:39.929389Z",
     "shell.execute_reply.started": "2022-01-18T08:10:04.117511Z"
    },
    "papermill": {
     "duration": 0.358141,
     "end_time": "2022-01-18T08:21:39.930126",
     "exception": false,
     "start_time": "2022-01-18T08:21:39.571985",
     "status": "completed"
    },
    "scrolled": true,
    "tags": []
   },
   "outputs": [],
   "source": [
    "sns.countplot(x='paymentMethodType',hue='orderState',data = data2)\n",
    "ax = plt.gca()\n",
    "\n",
    "# Iterate through the list of axes' patches\n",
    "for p in ax.patches:\n",
    "    ax.text(p.get_x() + p.get_width()/2., p.get_height(), '%d' % int(p.get_height()), \n",
    "            fontsize=12, ha='center', va='bottom')\n",
    "plt.show()"
   ]
  },
  {
   "cell_type": "markdown",
   "id": "7c90ab66",
   "metadata": {
    "papermill": {
     "duration": 0.077679,
     "end_time": "2022-01-18T08:21:40.085582",
     "exception": false,
     "start_time": "2022-01-18T08:21:40.007903",
     "status": "completed"
    },
    "tags": []
   },
   "source": [
    "### which payment providers the most 'failure' ???"
   ]
  },
  {
   "cell_type": "code",
   "execution_count": null,
   "id": "1c7c0b31",
   "metadata": {
    "execution": {
     "iopub.execute_input": "2022-01-18T08:21:40.253297Z",
     "iopub.status.busy": "2022-01-18T08:21:40.252274Z",
     "iopub.status.idle": "2022-01-18T08:21:40.581660Z",
     "shell.execute_reply": "2022-01-18T08:21:40.582164Z",
     "shell.execute_reply.started": "2022-01-18T08:10:04.336287Z"
    },
    "papermill": {
     "duration": 0.417498,
     "end_time": "2022-01-18T08:21:40.582360",
     "exception": false,
     "start_time": "2022-01-18T08:21:40.164862",
     "status": "completed"
    },
    "scrolled": true,
    "tags": []
   },
   "outputs": [],
   "source": [
    "plt.figure(figsize=(15,5))\n",
    "sns.countplot(x='paymentMethodProvider',hue = 'paymentMethodRegistrationFailure',data=data2)\n",
    "plt.legend (['Success','Fail'])\n",
    "ax = plt.gca()\n",
    "\n",
    "# Iterate through the list of axes' patches\n",
    "for p in ax.patches:\n",
    "    height = np.nan_to_num(p.get_height(), 0)\n",
    "    ax.text(p.get_x()+0.2, p.get_y() + height, '%d' % height, \n",
    "            fontsize=12, ha='center', va='bottom')\n",
    "## tambahkan prameter angka\n",
    "plt.show()"
   ]
  },
  {
   "cell_type": "markdown",
   "id": "3f83096f",
   "metadata": {
    "papermill": {
     "duration": 0.081416,
     "end_time": "2022-01-18T08:21:40.744025",
     "exception": false,
     "start_time": "2022-01-18T08:21:40.662609",
     "status": "completed"
    },
    "tags": []
   },
   "source": [
    "### Total number of payments per Fraud Transactions"
   ]
  },
  {
   "cell_type": "code",
   "execution_count": null,
   "id": "8d4955bb",
   "metadata": {
    "execution": {
     "iopub.execute_input": "2022-01-18T08:21:40.908493Z",
     "iopub.status.busy": "2022-01-18T08:21:40.907469Z",
     "iopub.status.idle": "2022-01-18T08:21:41.242206Z",
     "shell.execute_reply": "2022-01-18T08:21:41.242761Z",
     "shell.execute_reply.started": "2022-01-18T08:10:04.622195Z"
    },
    "papermill": {
     "duration": 0.418127,
     "end_time": "2022-01-18T08:21:41.242940",
     "exception": false,
     "start_time": "2022-01-18T08:21:40.824813",
     "status": "completed"
    },
    "tags": []
   },
   "outputs": [],
   "source": [
    "plt.figure(figsize=(15,5))\n",
    "sns.countplot(x = 'No_Payments',hue = 'Fraud',data=data1)\n",
    "ax = plt.gca()\n",
    "\n",
    "# Iterate through the list of axes' patches\n",
    "for p in ax.patches:\n",
    "    height = np.nan_to_num(p.get_height(), 0)\n",
    "    ax.text(p.get_x()+0.2, p.get_y() + height, '%d' % height, \n",
    "            fontsize=12, ha='center', va='bottom')\n",
    "## tambahkan prameter angka\n",
    "plt.show()"
   ]
  },
  {
   "cell_type": "markdown",
   "id": "edbef795",
   "metadata": {
    "papermill": {
     "duration": 0.079298,
     "end_time": "2022-01-18T08:21:41.402884",
     "exception": false,
     "start_time": "2022-01-18T08:21:41.323586",
     "status": "completed"
    },
    "tags": []
   },
   "source": [
    "### Result \n",
    "if no of payment more than 4 is Fraud"
   ]
  },
  {
   "cell_type": "markdown",
   "id": "73a2f823",
   "metadata": {
    "papermill": {
     "duration": 0.07917,
     "end_time": "2022-01-18T08:21:41.561693",
     "exception": false,
     "start_time": "2022-01-18T08:21:41.482523",
     "status": "completed"
    },
    "tags": []
   },
   "source": [
    "## Distribution of Transaction Amount"
   ]
  },
  {
   "cell_type": "code",
   "execution_count": null,
   "id": "93b75268",
   "metadata": {
    "execution": {
     "iopub.execute_input": "2022-01-18T08:21:41.724494Z",
     "iopub.status.busy": "2022-01-18T08:21:41.723772Z",
     "iopub.status.idle": "2022-01-18T08:21:42.169228Z",
     "shell.execute_reply": "2022-01-18T08:21:42.169752Z",
     "shell.execute_reply.started": "2022-01-18T08:10:04.840456Z"
    },
    "papermill": {
     "duration": 0.528726,
     "end_time": "2022-01-18T08:21:42.169943",
     "exception": false,
     "start_time": "2022-01-18T08:21:41.641217",
     "status": "completed"
    },
    "tags": []
   },
   "outputs": [],
   "source": [
    "sns.displot(data2['transactionAmount'])"
   ]
  },
  {
   "cell_type": "code",
   "execution_count": null,
   "id": "04a8357b",
   "metadata": {
    "execution": {
     "iopub.execute_input": "2022-01-18T08:21:42.337009Z",
     "iopub.status.busy": "2022-01-18T08:21:42.335967Z",
     "iopub.status.idle": "2022-01-18T08:21:42.350342Z",
     "shell.execute_reply": "2022-01-18T08:21:42.350891Z",
     "shell.execute_reply.started": "2022-01-18T08:10:05.124884Z"
    },
    "papermill": {
     "duration": 0.100237,
     "end_time": "2022-01-18T08:21:42.351062",
     "exception": false,
     "start_time": "2022-01-18T08:21:42.250825",
     "status": "completed"
    },
    "tags": []
   },
   "outputs": [],
   "source": [
    "data2[data2['transactionAmount'] > 100]"
   ]
  },
  {
   "cell_type": "code",
   "execution_count": null,
   "id": "bd0a3f09",
   "metadata": {
    "execution": {
     "iopub.execute_input": "2022-01-18T08:21:42.518709Z",
     "iopub.status.busy": "2022-01-18T08:21:42.517692Z",
     "iopub.status.idle": "2022-01-18T08:21:42.525557Z",
     "shell.execute_reply": "2022-01-18T08:21:42.526105Z",
     "shell.execute_reply.started": "2022-01-18T08:10:05.137819Z"
    },
    "papermill": {
     "duration": 0.093409,
     "end_time": "2022-01-18T08:21:42.526295",
     "exception": false,
     "start_time": "2022-01-18T08:21:42.432886",
     "status": "completed"
    },
    "tags": []
   },
   "outputs": [],
   "source": [
    "data1[data1['customerEmail']=='uguzman@yahoo.com']['Fraud']"
   ]
  },
  {
   "cell_type": "markdown",
   "id": "b2dd541a",
   "metadata": {
    "papermill": {
     "duration": 0.081134,
     "end_time": "2022-01-18T08:21:42.688939",
     "exception": false,
     "start_time": "2022-01-18T08:21:42.607805",
     "status": "completed"
    },
    "tags": []
   },
   "source": [
    "### Result\n",
    "There is 1 transaction above 100 USD and also is Fraud"
   ]
  },
  {
   "cell_type": "markdown",
   "id": "726bef2c",
   "metadata": {
    "papermill": {
     "duration": 0.082269,
     "end_time": "2022-01-18T08:21:42.854634",
     "exception": false,
     "start_time": "2022-01-18T08:21:42.772365",
     "status": "completed"
    },
    "tags": []
   },
   "source": [
    "## Comparasion fraud & non fraud transactions"
   ]
  },
  {
   "cell_type": "code",
   "execution_count": null,
   "id": "74f60ae9",
   "metadata": {
    "execution": {
     "iopub.execute_input": "2022-01-18T08:21:43.024317Z",
     "iopub.status.busy": "2022-01-18T08:21:43.023313Z",
     "iopub.status.idle": "2022-01-18T08:21:43.187908Z",
     "shell.execute_reply": "2022-01-18T08:21:43.188542Z",
     "shell.execute_reply.started": "2022-01-18T08:10:05.151804Z"
    },
    "papermill": {
     "duration": 0.251509,
     "end_time": "2022-01-18T08:21:43.188721",
     "exception": false,
     "start_time": "2022-01-18T08:21:42.937212",
     "status": "completed"
    },
    "tags": []
   },
   "outputs": [],
   "source": [
    "sns.countplot(x= 'Fraud',data=data1)\n",
    "ax = plt.gca()\n",
    "\n",
    "# Iterate through the list of axes' patches\n",
    "for p in ax.patches:\n",
    "    height = np.nan_to_num(p.get_height(), 0)\n",
    "    ax.text(p.get_x()+0.4, p.get_y() + height, '%d' % height, \n",
    "            fontsize=15, ha='center', va='bottom')\n",
    "plt.show()"
   ]
  },
  {
   "cell_type": "markdown",
   "id": "9907bd1f",
   "metadata": {
    "papermill": {
     "duration": 0.082889,
     "end_time": "2022-01-18T08:21:43.353674",
     "exception": false,
     "start_time": "2022-01-18T08:21:43.270785",
     "status": "completed"
    },
    "tags": []
   },
   "source": [
    "## Feature Engineering\n",
    "\n",
    "we join the data2 with the data1 because we want to see a pattern for fraud"
   ]
  },
  {
   "cell_type": "code",
   "execution_count": null,
   "id": "530382a5",
   "metadata": {
    "execution": {
     "iopub.execute_input": "2022-01-18T08:21:43.522391Z",
     "iopub.status.busy": "2022-01-18T08:21:43.521415Z",
     "iopub.status.idle": "2022-01-18T08:21:43.528810Z",
     "shell.execute_reply": "2022-01-18T08:21:43.529443Z",
     "shell.execute_reply.started": "2022-01-18T08:10:05.250082Z"
    },
    "papermill": {
     "duration": 0.093742,
     "end_time": "2022-01-18T08:21:43.529609",
     "exception": false,
     "start_time": "2022-01-18T08:21:43.435867",
     "status": "completed"
    },
    "tags": []
   },
   "outputs": [],
   "source": [
    "final = data1[data1['customerEmail'].isin(data2['customerEmail'])== True].reset_index(drop=True)\n",
    "final.shape"
   ]
  },
  {
   "cell_type": "code",
   "execution_count": null,
   "id": "146edd8a",
   "metadata": {
    "execution": {
     "iopub.execute_input": "2022-01-18T08:21:43.708957Z",
     "iopub.status.busy": "2022-01-18T08:21:43.698073Z",
     "iopub.status.idle": "2022-01-18T08:21:43.711207Z",
     "shell.execute_reply": "2022-01-18T08:21:43.711687Z",
     "shell.execute_reply.started": "2022-01-18T08:10:05.261355Z"
    },
    "papermill": {
     "duration": 0.099483,
     "end_time": "2022-01-18T08:21:43.711862",
     "exception": false,
     "start_time": "2022-01-18T08:21:43.612379",
     "status": "completed"
    },
    "tags": []
   },
   "outputs": [],
   "source": [
    "final.head()"
   ]
  },
  {
   "cell_type": "markdown",
   "id": "304469d1",
   "metadata": {
    "papermill": {
     "duration": 0.084678,
     "end_time": "2022-01-18T08:21:43.880279",
     "exception": false,
     "start_time": "2022-01-18T08:21:43.795601",
     "status": "completed"
    },
    "tags": []
   },
   "source": [
    "we drop columns that have no effect"
   ]
  },
  {
   "cell_type": "code",
   "execution_count": null,
   "id": "1653b082",
   "metadata": {
    "execution": {
     "iopub.execute_input": "2022-01-18T08:21:44.050259Z",
     "iopub.status.busy": "2022-01-18T08:21:44.049562Z",
     "iopub.status.idle": "2022-01-18T08:21:44.054201Z",
     "shell.execute_reply": "2022-01-18T08:21:44.054731Z",
     "shell.execute_reply.started": "2022-01-18T08:10:05.279308Z"
    },
    "papermill": {
     "duration": 0.091008,
     "end_time": "2022-01-18T08:21:44.054907",
     "exception": false,
     "start_time": "2022-01-18T08:21:43.963899",
     "status": "completed"
    },
    "tags": []
   },
   "outputs": [],
   "source": [
    "final.drop('Unnamed: 0',axis = 1, inplace = True)"
   ]
  },
  {
   "cell_type": "code",
   "execution_count": null,
   "id": "2a089724",
   "metadata": {
    "execution": {
     "iopub.execute_input": "2022-01-18T08:21:44.258761Z",
     "iopub.status.busy": "2022-01-18T08:21:44.248348Z",
     "iopub.status.idle": "2022-01-18T08:21:45.603169Z",
     "shell.execute_reply": "2022-01-18T08:21:45.602592Z",
     "shell.execute_reply.started": "2022-01-18T08:10:05.289022Z"
    },
    "papermill": {
     "duration": 1.464741,
     "end_time": "2022-01-18T08:21:45.603354",
     "exception": false,
     "start_time": "2022-01-18T08:21:44.138613",
     "status": "completed"
    },
    "tags": []
   },
   "outputs": [],
   "source": [
    "No_transactionsFail = []\n",
    "for i in range(0,143):\n",
    "    s=0\n",
    "    for j in range(0,623):\n",
    "        if(final['customerEmail'][i]==data2['customerEmail'][j]):\n",
    "            s += data2['transactionFailed'][j]\n",
    "    No_transactionsFail.append(s)\n",
    "final['No_transactionsFail'] = No_transactionsFail"
   ]
  },
  {
   "cell_type": "code",
   "execution_count": null,
   "id": "f519fc47",
   "metadata": {
    "execution": {
     "iopub.execute_input": "2022-01-18T08:21:45.779574Z",
     "iopub.status.busy": "2022-01-18T08:21:45.778767Z",
     "iopub.status.idle": "2022-01-18T08:21:47.133208Z",
     "shell.execute_reply": "2022-01-18T08:21:47.133718Z",
     "shell.execute_reply.started": "2022-01-18T08:10:06.352598Z"
    },
    "papermill": {
     "duration": 1.446744,
     "end_time": "2022-01-18T08:21:47.133904",
     "exception": false,
     "start_time": "2022-01-18T08:21:45.687160",
     "status": "completed"
    },
    "tags": []
   },
   "outputs": [],
   "source": [
    "Total_transaction_amt = []\n",
    "for i in range(0,143):\n",
    "    s=0\n",
    "    for j in range(0,623):\n",
    "        if(final['customerEmail'][i]==data2['customerEmail'][j]):\n",
    "            s += data2['transactionAmount'][j]\n",
    "    Total_transaction_amt.append(s)   \n",
    "final['Total_transaction_amt'] = Total_transaction_amt"
   ]
  },
  {
   "cell_type": "code",
   "execution_count": null,
   "id": "c5c2b559",
   "metadata": {
    "execution": {
     "iopub.execute_input": "2022-01-18T08:21:47.311802Z",
     "iopub.status.busy": "2022-01-18T08:21:47.311106Z",
     "iopub.status.idle": "2022-01-18T08:21:48.662837Z",
     "shell.execute_reply": "2022-01-18T08:21:48.662268Z",
     "shell.execute_reply.started": "2022-01-18T08:10:07.368399Z"
    },
    "papermill": {
     "duration": 1.444204,
     "end_time": "2022-01-18T08:21:48.663014",
     "exception": false,
     "start_time": "2022-01-18T08:21:47.218810",
     "status": "completed"
    },
    "tags": []
   },
   "outputs": [],
   "source": [
    "paymentRegFailure = []\n",
    "for i in range(0,143):\n",
    "    s=0\n",
    "    for j in range(0,623):\n",
    "        if(final['customerEmail'][i]==data2['customerEmail'][j]):\n",
    "            s += data2['paymentMethodRegistrationFailure'][j]\n",
    "    paymentRegFailure.append(s)   \n",
    "final['PaymentRegFail'] = paymentRegFailure"
   ]
  },
  {
   "cell_type": "code",
   "execution_count": null,
   "id": "0b8fe8ab",
   "metadata": {
    "execution": {
     "iopub.execute_input": "2022-01-18T08:21:48.837781Z",
     "iopub.status.busy": "2022-01-18T08:21:48.836734Z",
     "iopub.status.idle": "2022-01-18T08:21:48.839026Z",
     "shell.execute_reply": "2022-01-18T08:21:48.839685Z",
     "shell.execute_reply.started": "2022-01-18T08:10:09.107804Z"
    },
    "papermill": {
     "duration": 0.093181,
     "end_time": "2022-01-18T08:21:48.839866",
     "exception": false,
     "start_time": "2022-01-18T08:21:48.746685",
     "status": "completed"
    },
    "tags": []
   },
   "outputs": [],
   "source": [
    "def col_make(column_name,category):\n",
    "    array = []\n",
    "    for i in range(0,143):\n",
    "        s=0\n",
    "        for j in range(0,623):\n",
    "            if(final['customerEmail'][i]==data2['customerEmail'][j]):\n",
    "                if data2[column_name][j]==category:\n",
    "                    s+=1\n",
    "        array.append(s)\n",
    "    return array "
   ]
  },
  {
   "cell_type": "code",
   "execution_count": null,
   "id": "dd1385c6",
   "metadata": {
    "execution": {
     "iopub.execute_input": "2022-01-18T08:21:49.010510Z",
     "iopub.status.busy": "2022-01-18T08:21:49.009402Z",
     "iopub.status.idle": "2022-01-18T08:21:54.331455Z",
     "shell.execute_reply": "2022-01-18T08:21:54.330836Z",
     "shell.execute_reply.started": "2022-01-18T08:10:09.115150Z"
    },
    "papermill": {
     "duration": 5.408569,
     "end_time": "2022-01-18T08:21:54.331634",
     "exception": false,
     "start_time": "2022-01-18T08:21:48.923065",
     "status": "completed"
    },
    "tags": []
   },
   "outputs": [],
   "source": [
    "PaypalPayments = col_make('paymentMethodType','paypal')\n",
    "ApplePayments = col_make('paymentMethodType','apple pay')\n",
    "BitcoinPayments = col_make('paymentMethodType','bitcoin')\n",
    "CardPayments = col_make('paymentMethodType','card')\n",
    "\n",
    "final['PaypalPayments']= PaypalPayments\n",
    "final['ApplePayments']= ApplePayments\n",
    "final['CardPayments']= CardPayments\n",
    "final['BitcoinPayments']= BitcoinPayments"
   ]
  },
  {
   "cell_type": "code",
   "execution_count": null,
   "id": "96c7ffbc",
   "metadata": {
    "execution": {
     "iopub.execute_input": "2022-01-18T08:21:54.503535Z",
     "iopub.status.busy": "2022-01-18T08:21:54.502481Z",
     "iopub.status.idle": "2022-01-18T08:21:58.527972Z",
     "shell.execute_reply": "2022-01-18T08:21:58.527340Z",
     "shell.execute_reply.started": "2022-01-18T08:10:15.924156Z"
    },
    "papermill": {
     "duration": 4.113259,
     "end_time": "2022-01-18T08:21:58.528113",
     "exception": false,
     "start_time": "2022-01-18T08:21:54.414854",
     "status": "completed"
    },
    "tags": []
   },
   "outputs": [],
   "source": [
    "OrdersFulfilled = col_make('orderState','fulfilled')\n",
    "OrdersFailed =  col_make('orderState','failed')\n",
    "OrdersPending = col_make('orderState','pending')\n",
    "\n",
    "final['OrdersFulfilled'] = OrdersFulfilled\n",
    "final['OrdersPending'] = OrdersPending\n",
    "final['OrdersFailed'] = OrdersFailed"
   ]
  },
  {
   "cell_type": "code",
   "execution_count": null,
   "id": "9df0fbdf",
   "metadata": {
    "execution": {
     "iopub.execute_input": "2022-01-18T08:21:58.714956Z",
     "iopub.status.busy": "2022-01-18T08:21:58.713917Z",
     "iopub.status.idle": "2022-01-18T08:22:12.113511Z",
     "shell.execute_reply": "2022-01-18T08:22:12.112903Z",
     "shell.execute_reply.started": "2022-01-18T08:10:19.793332Z"
    },
    "papermill": {
     "duration": 13.501955,
     "end_time": "2022-01-18T08:22:12.113660",
     "exception": false,
     "start_time": "2022-01-18T08:21:58.611705",
     "status": "completed"
    },
    "tags": []
   },
   "outputs": [],
   "source": [
    "JCB_16 = col_make('paymentMethodProvider','JCB 16 digit')\n",
    "AmericanExp = col_make('paymentMethodProvider','American Express')\n",
    "VISA_16 =  col_make('paymentMethodProvider','VISA 16 digit')\n",
    "Discover =  col_make('paymentMethodProvider','Discover')\n",
    "Voyager = col_make('paymentMethodProvider','Voyager')\n",
    "VISA_13 = col_make('paymentMethodProvider','VISA 13 digit')\n",
    "Maestro = col_make('paymentMethodProvider','Maestro')\n",
    "Mastercard = col_make('paymentMethodProvider','Mastercard')\n",
    "DC_CB =col_make('paymentMethodProvider','Diners Club / Carte Blanche')\n",
    "JCB_15= col_make('paymentMethodProvider','JCB 15 digit')\n",
    "\n",
    "final['JCB_16'] = JCB_16\n",
    "final['AmericanExp'] = AmericanExp \n",
    "final['VISA_16'] = VISA_16 \n",
    "final['Discover'] = Discover\n",
    "final['Voyager'] = Voyager \n",
    "final['VISA_13'] = VISA_13\n",
    "final['Maestro'] = Maestro \n",
    "final['Mastercard'] = Mastercard\n",
    "final['DC_CB'] = DC_CB \n",
    "final['JCB_15'] = JCB_15"
   ]
  },
  {
   "cell_type": "code",
   "execution_count": null,
   "id": "71fd97f9",
   "metadata": {
    "execution": {
     "iopub.execute_input": "2022-01-18T08:22:12.290278Z",
     "iopub.status.busy": "2022-01-18T08:22:12.289289Z",
     "iopub.status.idle": "2022-01-18T08:22:13.637733Z",
     "shell.execute_reply": "2022-01-18T08:22:13.638219Z",
     "shell.execute_reply.started": "2022-01-18T08:10:29.674849Z"
    },
    "papermill": {
     "duration": 1.440996,
     "end_time": "2022-01-18T08:22:13.638434",
     "exception": false,
     "start_time": "2022-01-18T08:22:12.197438",
     "status": "completed"
    },
    "tags": []
   },
   "outputs": [],
   "source": [
    "Trns_fail_order_fulfilled = []\n",
    "for i in range(0,143):\n",
    "    s=0\n",
    "    for j in range(0,623):\n",
    "        if(final['customerEmail'][i]==data2['customerEmail'][j]):\n",
    "            if (data2['orderState'][j]=='fulfilled') & (data2['transactionFailed'][j]==1):\n",
    "                s+=1\n",
    "    Trns_fail_order_fulfilled.append(s)\n",
    "final['Trns_fail_order_fulfilled'] = Trns_fail_order_fulfilled"
   ]
  },
  {
   "cell_type": "code",
   "execution_count": null,
   "id": "3d7ecde5",
   "metadata": {
    "execution": {
     "iopub.execute_input": "2022-01-18T08:22:13.812723Z",
     "iopub.status.busy": "2022-01-18T08:22:13.811614Z",
     "iopub.status.idle": "2022-01-18T08:22:13.831384Z",
     "shell.execute_reply": "2022-01-18T08:22:13.831934Z",
     "shell.execute_reply.started": "2022-01-18T08:10:30.687348Z"
    },
    "papermill": {
     "duration": 0.109609,
     "end_time": "2022-01-18T08:22:13.832110",
     "exception": false,
     "start_time": "2022-01-18T08:22:13.722501",
     "status": "completed"
    },
    "tags": []
   },
   "outputs": [],
   "source": [
    "final.head()"
   ]
  },
  {
   "cell_type": "code",
   "execution_count": null,
   "id": "bef48ca8",
   "metadata": {
    "execution": {
     "iopub.execute_input": "2022-01-18T08:22:14.006168Z",
     "iopub.status.busy": "2022-01-18T08:22:14.005522Z",
     "iopub.status.idle": "2022-01-18T08:22:14.312301Z",
     "shell.execute_reply": "2022-01-18T08:22:14.311651Z",
     "shell.execute_reply.started": "2022-01-18T08:10:30.708386Z"
    },
    "papermill": {
     "duration": 0.395186,
     "end_time": "2022-01-18T08:22:14.312449",
     "exception": false,
     "start_time": "2022-01-18T08:22:13.917263",
     "status": "completed"
    },
    "tags": []
   },
   "outputs": [],
   "source": [
    "Duplicate_IP = []\n",
    "for i in range(0,143):\n",
    "    s=0\n",
    "    for j in range(0,143):\n",
    "        if(final['customerIPAddress'][i]==final['customerIPAddress'][j]):\n",
    "            s+=1\n",
    "    s-=1        \n",
    "    Duplicate_IP.append(s)\n",
    "final['Duplicate_IP'] = Duplicate_IP"
   ]
  },
  {
   "cell_type": "code",
   "execution_count": null,
   "id": "5a7b676a",
   "metadata": {
    "execution": {
     "iopub.execute_input": "2022-01-18T08:22:14.491754Z",
     "iopub.status.busy": "2022-01-18T08:22:14.491008Z",
     "iopub.status.idle": "2022-01-18T08:22:14.794149Z",
     "shell.execute_reply": "2022-01-18T08:22:14.793524Z",
     "shell.execute_reply.started": "2022-01-18T08:10:30.942901Z"
    },
    "papermill": {
     "duration": 0.397369,
     "end_time": "2022-01-18T08:22:14.794314",
     "exception": false,
     "start_time": "2022-01-18T08:22:14.396945",
     "status": "completed"
    },
    "tags": []
   },
   "outputs": [],
   "source": [
    "Duplicate_Address = []\n",
    "for i in range(0,143):\n",
    "    s=0\n",
    "    for j in range(0,143):\n",
    "        if(final['customerBillingAddress'][i]==final['customerBillingAddress'][j]):\n",
    "            s+=1\n",
    "    s-=1        \n",
    "    Duplicate_Address.append(s)\n",
    "final['Duplicate_Address']=Duplicate_Address"
   ]
  },
  {
   "cell_type": "code",
   "execution_count": null,
   "id": "f2b01edf",
   "metadata": {
    "execution": {
     "iopub.execute_input": "2022-01-18T08:22:14.974608Z",
     "iopub.status.busy": "2022-01-18T08:22:14.973912Z",
     "iopub.status.idle": "2022-01-18T08:22:14.998150Z",
     "shell.execute_reply": "2022-01-18T08:22:14.998774Z",
     "shell.execute_reply.started": "2022-01-18T08:10:31.173555Z"
    },
    "papermill": {
     "duration": 0.119113,
     "end_time": "2022-01-18T08:22:14.998945",
     "exception": false,
     "start_time": "2022-01-18T08:22:14.879832",
     "status": "completed"
    },
    "scrolled": true,
    "tags": []
   },
   "outputs": [],
   "source": [
    "final = pd.get_dummies(final,columns=['Fraud'],prefix=['Fraud'],drop_first=True)\n",
    "final = final.rename(columns={\"Fraud_True\": \"Fraud\"})\n",
    "final.head()"
   ]
  },
  {
   "cell_type": "code",
   "execution_count": null,
   "id": "dd557500",
   "metadata": {
    "execution": {
     "iopub.execute_input": "2022-01-18T08:22:15.171881Z",
     "iopub.status.busy": "2022-01-18T08:22:15.171261Z",
     "iopub.status.idle": "2022-01-18T08:22:15.331492Z",
     "shell.execute_reply": "2022-01-18T08:22:15.332034Z",
     "shell.execute_reply.started": "2022-01-18T08:10:31.196088Z"
    },
    "papermill": {
     "duration": 0.248249,
     "end_time": "2022-01-18T08:22:15.332223",
     "exception": false,
     "start_time": "2022-01-18T08:22:15.083974",
     "status": "completed"
    },
    "tags": []
   },
   "outputs": [],
   "source": [
    "sns.countplot(x= 'Fraud',data=final)\n",
    "ax = plt.gca()\n",
    "\n",
    "# Iterate through the list of axes' patches\n",
    "for p in ax.patches:\n",
    "    height = np.nan_to_num(p.get_height(), 0)\n",
    "    ax.text(p.get_x()+0.4, p.get_y() + height, '%d' % height, \n",
    "            fontsize=15, ha='center', va='bottom')\n",
    "plt.show()"
   ]
  },
  {
   "cell_type": "code",
   "execution_count": null,
   "id": "203de87c",
   "metadata": {
    "execution": {
     "iopub.execute_input": "2022-01-18T08:22:15.508393Z",
     "iopub.status.busy": "2022-01-18T08:22:15.507743Z",
     "iopub.status.idle": "2022-01-18T08:22:15.529703Z",
     "shell.execute_reply": "2022-01-18T08:22:15.530340Z",
     "shell.execute_reply.started": "2022-01-18T08:10:31.294896Z"
    },
    "papermill": {
     "duration": 0.111254,
     "end_time": "2022-01-18T08:22:15.530531",
     "exception": false,
     "start_time": "2022-01-18T08:22:15.419277",
     "status": "completed"
    },
    "tags": []
   },
   "outputs": [],
   "source": [
    "final[final['Duplicate_IP']>0]"
   ]
  },
  {
   "cell_type": "markdown",
   "id": "22f38ffd",
   "metadata": {
    "papermill": {
     "duration": 0.086283,
     "end_time": "2022-01-18T08:22:15.706179",
     "exception": false,
     "start_time": "2022-01-18T08:22:15.619896",
     "status": "completed"
    },
    "tags": []
   },
   "source": [
    "There are 4 customers who have the same \"IP Address\" and it is impossible for one device to have the same IP address, so it has to be fraudulent."
   ]
  },
  {
   "cell_type": "code",
   "execution_count": null,
   "id": "046a95cd",
   "metadata": {
    "execution": {
     "iopub.execute_input": "2022-01-18T08:22:15.901549Z",
     "iopub.status.busy": "2022-01-18T08:22:15.900526Z",
     "iopub.status.idle": "2022-01-18T08:22:15.904510Z",
     "shell.execute_reply": "2022-01-18T08:22:15.903978Z",
     "shell.execute_reply.started": "2022-01-18T08:10:31.316715Z"
    },
    "papermill": {
     "duration": 0.112193,
     "end_time": "2022-01-18T08:22:15.904670",
     "exception": false,
     "start_time": "2022-01-18T08:22:15.792477",
     "status": "completed"
    },
    "tags": []
   },
   "outputs": [],
   "source": [
    "final[final['Duplicate_Address']>0]"
   ]
  },
  {
   "cell_type": "markdown",
   "id": "81993195",
   "metadata": {
    "papermill": {
     "duration": 0.088972,
     "end_time": "2022-01-18T08:22:16.080566",
     "exception": false,
     "start_time": "2022-01-18T08:22:15.991594",
     "status": "completed"
    },
    "tags": []
   },
   "source": [
    "There are 3 transactions from different customers but have the same customerBillingAddress, can be done by the same customer"
   ]
  },
  {
   "cell_type": "code",
   "execution_count": null,
   "id": "9dd3d0b0",
   "metadata": {
    "execution": {
     "iopub.execute_input": "2022-01-18T08:22:16.296889Z",
     "iopub.status.busy": "2022-01-18T08:22:16.264922Z",
     "iopub.status.idle": "2022-01-18T08:22:16.575181Z",
     "shell.execute_reply": "2022-01-18T08:22:16.574110Z",
     "shell.execute_reply.started": "2022-01-18T08:10:31.337098Z"
    },
    "papermill": {
     "duration": 0.407042,
     "end_time": "2022-01-18T08:22:16.575373",
     "exception": false,
     "start_time": "2022-01-18T08:22:16.168331",
     "status": "completed"
    },
    "tags": []
   },
   "outputs": [],
   "source": [
    "sns.countplot(x = final['OrdersFulfilled'], hue = final['Fraud'])\n",
    "plt.show()"
   ]
  },
  {
   "cell_type": "markdown",
   "id": "5e047e47",
   "metadata": {
    "papermill": {
     "duration": 0.088024,
     "end_time": "2022-01-18T08:22:16.751572",
     "exception": false,
     "start_time": "2022-01-18T08:22:16.663548",
     "status": "completed"
    },
    "tags": []
   },
   "source": [
    "we can see that if the Fulfilled Order Amount is greater than 8 then the transaction is has to be \"Fraud\""
   ]
  },
  {
   "cell_type": "code",
   "execution_count": null,
   "id": "6815f02c",
   "metadata": {
    "execution": {
     "iopub.execute_input": "2022-01-18T08:22:16.943559Z",
     "iopub.status.busy": "2022-01-18T08:22:16.940539Z",
     "iopub.status.idle": "2022-01-18T08:22:17.625055Z",
     "shell.execute_reply": "2022-01-18T08:22:17.625597Z",
     "shell.execute_reply.started": "2022-01-18T08:10:31.580105Z"
    },
    "papermill": {
     "duration": 0.783922,
     "end_time": "2022-01-18T08:22:17.625778",
     "exception": false,
     "start_time": "2022-01-18T08:22:16.841856",
     "status": "completed"
    },
    "tags": []
   },
   "outputs": [],
   "source": [
    "corr = final.corr()\n",
    "corr2 = corr.iloc[-1:,:]\n",
    "\n",
    "plt.figure(figsize=(20, 5))\n",
    "ax = sns.heatmap(corr2, annot=True, vmin=-1, vmax=1, center=0)\n",
    "bottom, top = ax.get_ylim()\n",
    "ax.set_ylim(bottom + 0.5, top - 0.5)\n",
    "plt.title('Heatmap Correlation for fraud')\n",
    "plt.show()"
   ]
  },
  {
   "cell_type": "markdown",
   "id": "993061c9",
   "metadata": {
    "papermill": {
     "duration": 0.088949,
     "end_time": "2022-01-18T08:22:17.806026",
     "exception": false,
     "start_time": "2022-01-18T08:22:17.717077",
     "status": "completed"
    },
    "tags": []
   },
   "source": [
    "The correlation formed between fraud and other variables tends to be not strong, because the data is too little"
   ]
  },
  {
   "cell_type": "markdown",
   "id": "3773e610",
   "metadata": {
    "papermill": {
     "duration": 0.095179,
     "end_time": "2022-01-18T08:22:18.010746",
     "exception": false,
     "start_time": "2022-01-18T08:22:17.915567",
     "status": "completed"
    },
    "tags": []
   },
   "source": [
    "### Create variable target"
   ]
  },
  {
   "cell_type": "code",
   "execution_count": null,
   "id": "43ca6b3d",
   "metadata": {
    "execution": {
     "iopub.execute_input": "2022-01-18T08:22:18.212570Z",
     "iopub.status.busy": "2022-01-18T08:22:18.211838Z",
     "iopub.status.idle": "2022-01-18T08:22:18.214276Z",
     "shell.execute_reply": "2022-01-18T08:22:18.213750Z",
     "shell.execute_reply.started": "2022-01-18T08:10:32.091883Z"
    },
    "papermill": {
     "duration": 0.110477,
     "end_time": "2022-01-18T08:22:18.214439",
     "exception": false,
     "start_time": "2022-01-18T08:22:18.103962",
     "status": "completed"
    },
    "tags": []
   },
   "outputs": [],
   "source": [
    "x = final.drop(['customerEmail','customerPhone', 'customerDevice', 'customerIPAddress',\n",
    "       'customerBillingAddress','Fraud'], axis=1)\n",
    "y = final['Fraud']"
   ]
  },
  {
   "cell_type": "markdown",
   "id": "a5033ad4",
   "metadata": {
    "papermill": {
     "duration": 0.089152,
     "end_time": "2022-01-18T08:22:18.393826",
     "exception": false,
     "start_time": "2022-01-18T08:22:18.304674",
     "status": "completed"
    },
    "tags": []
   },
   "source": [
    "## Split, Train, Test Data"
   ]
  },
  {
   "cell_type": "code",
   "execution_count": null,
   "id": "03298b13",
   "metadata": {
    "execution": {
     "iopub.execute_input": "2022-01-18T08:22:18.581502Z",
     "iopub.status.busy": "2022-01-18T08:22:18.580765Z",
     "iopub.status.idle": "2022-01-18T08:22:18.751178Z",
     "shell.execute_reply": "2022-01-18T08:22:18.750591Z",
     "shell.execute_reply.started": "2022-01-18T08:10:32.097659Z"
    },
    "papermill": {
     "duration": 0.266395,
     "end_time": "2022-01-18T08:22:18.751351",
     "exception": false,
     "start_time": "2022-01-18T08:22:18.484956",
     "status": "completed"
    },
    "tags": []
   },
   "outputs": [],
   "source": [
    "from sklearn.model_selection import train_test_split"
   ]
  },
  {
   "cell_type": "code",
   "execution_count": null,
   "id": "dca2cbe5",
   "metadata": {
    "execution": {
     "iopub.execute_input": "2022-01-18T08:22:18.939674Z",
     "iopub.status.busy": "2022-01-18T08:22:18.938973Z",
     "iopub.status.idle": "2022-01-18T08:22:18.945787Z",
     "shell.execute_reply": "2022-01-18T08:22:18.946418Z",
     "shell.execute_reply.started": "2022-01-18T08:10:32.106749Z"
    },
    "papermill": {
     "duration": 0.103222,
     "end_time": "2022-01-18T08:22:18.946595",
     "exception": false,
     "start_time": "2022-01-18T08:22:18.843373",
     "status": "completed"
    },
    "tags": []
   },
   "outputs": [],
   "source": [
    "x_train, x_test, y_train, y_test = train_test_split(x, y, test_size=0.2, random_state=42)"
   ]
  },
  {
   "cell_type": "code",
   "execution_count": null,
   "id": "df21b26e",
   "metadata": {
    "execution": {
     "iopub.execute_input": "2022-01-18T08:22:19.131082Z",
     "iopub.status.busy": "2022-01-18T08:22:19.130401Z",
     "iopub.status.idle": "2022-01-18T08:22:19.135914Z",
     "shell.execute_reply": "2022-01-18T08:22:19.136450Z",
     "shell.execute_reply.started": "2022-01-18T08:10:32.116513Z"
    },
    "papermill": {
     "duration": 0.099061,
     "end_time": "2022-01-18T08:22:19.136647",
     "exception": false,
     "start_time": "2022-01-18T08:22:19.037586",
     "status": "completed"
    },
    "tags": []
   },
   "outputs": [],
   "source": [
    "x_train.shape"
   ]
  },
  {
   "cell_type": "code",
   "execution_count": null,
   "id": "f0104ba8",
   "metadata": {
    "execution": {
     "iopub.execute_input": "2022-01-18T08:22:19.327383Z",
     "iopub.status.busy": "2022-01-18T08:22:19.325447Z",
     "iopub.status.idle": "2022-01-18T08:22:19.330747Z",
     "shell.execute_reply": "2022-01-18T08:22:19.331285Z",
     "shell.execute_reply.started": "2022-01-18T08:10:32.128582Z"
    },
    "papermill": {
     "duration": 0.102513,
     "end_time": "2022-01-18T08:22:19.331456",
     "exception": false,
     "start_time": "2022-01-18T08:22:19.228943",
     "status": "completed"
    },
    "tags": []
   },
   "outputs": [],
   "source": [
    "x_test.shape"
   ]
  },
  {
   "cell_type": "markdown",
   "id": "d81688b3",
   "metadata": {
    "papermill": {
     "duration": 0.090475,
     "end_time": "2022-01-18T08:22:19.512852",
     "exception": false,
     "start_time": "2022-01-18T08:22:19.422377",
     "status": "completed"
    },
    "tags": []
   },
   "source": [
    "## Machine Learning"
   ]
  },
  {
   "cell_type": "code",
   "execution_count": null,
   "id": "46f16c18",
   "metadata": {
    "execution": {
     "iopub.execute_input": "2022-01-18T08:22:19.699312Z",
     "iopub.status.busy": "2022-01-18T08:22:19.698582Z",
     "iopub.status.idle": "2022-01-18T08:22:19.888579Z",
     "shell.execute_reply": "2022-01-18T08:22:19.887807Z",
     "shell.execute_reply.started": "2022-01-18T08:10:32.138058Z"
    },
    "papermill": {
     "duration": 0.284259,
     "end_time": "2022-01-18T08:22:19.888732",
     "exception": false,
     "start_time": "2022-01-18T08:22:19.604473",
     "status": "completed"
    },
    "tags": []
   },
   "outputs": [],
   "source": [
    "from sklearn.ensemble import RandomForestClassifier\n",
    "from sklearn.svm import SVC\n",
    "from sklearn.neighbors import KNeighborsClassifier\n",
    "from sklearn.linear_model import LogisticRegression\n",
    "from sklearn.metrics import accuracy_score, confusion_matrix, classification_report, plot_confusion_matrix\n",
    "from sklearn.metrics import accuracy_score,precision_score,recall_score,roc_auc_score\n",
    "from sklearn.model_selection import GridSearchCV , RandomizedSearchCV"
   ]
  },
  {
   "cell_type": "markdown",
   "id": "aeffbd95",
   "metadata": {
    "papermill": {
     "duration": 0.090188,
     "end_time": "2022-01-18T08:22:20.070947",
     "exception": false,
     "start_time": "2022-01-18T08:22:19.980759",
     "status": "completed"
    },
    "tags": []
   },
   "source": [
    "### Logistic Regresion"
   ]
  },
  {
   "cell_type": "code",
   "execution_count": null,
   "id": "d70fe65a",
   "metadata": {
    "execution": {
     "iopub.execute_input": "2022-01-18T08:22:20.259006Z",
     "iopub.status.busy": "2022-01-18T08:22:20.258325Z",
     "iopub.status.idle": "2022-01-18T08:22:20.265532Z",
     "shell.execute_reply": "2022-01-18T08:22:20.265997Z",
     "shell.execute_reply.started": "2022-01-18T08:10:32.145699Z"
    },
    "papermill": {
     "duration": 0.104958,
     "end_time": "2022-01-18T08:22:20.266177",
     "exception": false,
     "start_time": "2022-01-18T08:22:20.161219",
     "status": "completed"
    },
    "tags": []
   },
   "outputs": [],
   "source": [
    "Lr_model = LogisticRegression(solver='liblinear')\n",
    "Lr_model.fit(x_train,y_train)"
   ]
  },
  {
   "cell_type": "code",
   "execution_count": null,
   "id": "2e51840b",
   "metadata": {
    "execution": {
     "iopub.execute_input": "2022-01-18T08:22:20.451802Z",
     "iopub.status.busy": "2022-01-18T08:22:20.451070Z",
     "iopub.status.idle": "2022-01-18T08:22:20.456690Z",
     "shell.execute_reply": "2022-01-18T08:22:20.457208Z",
     "shell.execute_reply.started": "2022-01-18T08:10:32.165625Z"
    },
    "papermill": {
     "duration": 0.100499,
     "end_time": "2022-01-18T08:22:20.457399",
     "exception": false,
     "start_time": "2022-01-18T08:22:20.356900",
     "status": "completed"
    },
    "tags": []
   },
   "outputs": [],
   "source": [
    "y_pred_lr= Lr_model.predict(x_test)"
   ]
  },
  {
   "cell_type": "code",
   "execution_count": null,
   "id": "3bdebdf9",
   "metadata": {
    "execution": {
     "iopub.execute_input": "2022-01-18T08:22:20.643232Z",
     "iopub.status.busy": "2022-01-18T08:22:20.642543Z",
     "iopub.status.idle": "2022-01-18T08:22:20.865356Z",
     "shell.execute_reply": "2022-01-18T08:22:20.864748Z",
     "shell.execute_reply.started": "2022-01-18T08:10:32.172534Z"
    },
    "papermill": {
     "duration": 0.31721,
     "end_time": "2022-01-18T08:22:20.865517",
     "exception": false,
     "start_time": "2022-01-18T08:22:20.548307",
     "status": "completed"
    },
    "tags": []
   },
   "outputs": [],
   "source": [
    "print(classification_report(y_test, y_pred_lr))\n",
    "sns.heatmap(confusion_matrix(y_test, y_pred_lr), annot = True)\n",
    "plt.show()"
   ]
  },
  {
   "cell_type": "markdown",
   "id": "5874c227",
   "metadata": {
    "papermill": {
     "duration": 0.098195,
     "end_time": "2022-01-18T08:22:21.065133",
     "exception": false,
     "start_time": "2022-01-18T08:22:20.966938",
     "status": "completed"
    },
    "tags": []
   },
   "source": [
    "## KNN"
   ]
  },
  {
   "cell_type": "code",
   "execution_count": null,
   "id": "e50043bb",
   "metadata": {
    "execution": {
     "iopub.execute_input": "2022-01-18T08:22:21.254895Z",
     "iopub.status.busy": "2022-01-18T08:22:21.253858Z",
     "iopub.status.idle": "2022-01-18T08:22:21.409394Z",
     "shell.execute_reply": "2022-01-18T08:22:21.408807Z",
     "shell.execute_reply.started": "2022-01-18T08:10:32.338859Z"
    },
    "papermill": {
     "duration": 0.250588,
     "end_time": "2022-01-18T08:22:21.409536",
     "exception": false,
     "start_time": "2022-01-18T08:22:21.158948",
     "status": "completed"
    },
    "tags": []
   },
   "outputs": [],
   "source": [
    "test_error_rate=[]\n",
    "for k in range(1,30):\n",
    "    knn_midel=KNeighborsClassifier(n_neighbors=k)\n",
    "    knn_midel.fit(x_train,y_train)\n",
    "    y_p_test=knn_midel.predict(x_test)\n",
    "    test_error=1-accuracy_score(y_test,y_p_test)\n",
    "    test_error_rate.append(test_error)"
   ]
  },
  {
   "cell_type": "code",
   "execution_count": null,
   "id": "ddffdb2d",
   "metadata": {
    "execution": {
     "iopub.execute_input": "2022-01-18T08:22:21.596951Z",
     "iopub.status.busy": "2022-01-18T08:22:21.595923Z",
     "iopub.status.idle": "2022-01-18T08:22:21.805629Z",
     "shell.execute_reply": "2022-01-18T08:22:21.806133Z",
     "shell.execute_reply.started": "2022-01-18T08:10:32.451184Z"
    },
    "papermill": {
     "duration": 0.305411,
     "end_time": "2022-01-18T08:22:21.806323",
     "exception": false,
     "start_time": "2022-01-18T08:22:21.500912",
     "status": "completed"
    },
    "tags": []
   },
   "outputs": [],
   "source": [
    "plt.figure(figsize=(12,6))\n",
    "plt.plot(range(1,30),test_error_rate,label='test_error')\n",
    "plt.legend()\n",
    "plt.xlabel('k Value')\n",
    "plt.ylabel('Error')\n",
    "plt.show()"
   ]
  },
  {
   "cell_type": "code",
   "execution_count": null,
   "id": "55b4288f",
   "metadata": {
    "execution": {
     "iopub.execute_input": "2022-01-18T08:22:22.009014Z",
     "iopub.status.busy": "2022-01-18T08:22:22.008129Z",
     "iopub.status.idle": "2022-01-18T08:22:22.010970Z",
     "shell.execute_reply": "2022-01-18T08:22:22.011479Z",
     "shell.execute_reply.started": "2022-01-18T08:10:32.593936Z"
    },
    "papermill": {
     "duration": 0.10501,
     "end_time": "2022-01-18T08:22:22.011649",
     "exception": false,
     "start_time": "2022-01-18T08:22:21.906639",
     "status": "completed"
    },
    "tags": []
   },
   "outputs": [],
   "source": [
    "knn_model = KNeighborsClassifier(n_neighbors = 6)\n",
    "knn_model = knn_model.fit(x_train,y_train)"
   ]
  },
  {
   "cell_type": "code",
   "execution_count": null,
   "id": "b248c6e5",
   "metadata": {
    "execution": {
     "iopub.execute_input": "2022-01-18T08:22:22.214716Z",
     "iopub.status.busy": "2022-01-18T08:22:22.213709Z",
     "iopub.status.idle": "2022-01-18T08:22:22.222533Z",
     "shell.execute_reply": "2022-01-18T08:22:22.221847Z",
     "shell.execute_reply.started": "2022-01-18T08:10:32.598900Z"
    },
    "papermill": {
     "duration": 0.11692,
     "end_time": "2022-01-18T08:22:22.222680",
     "exception": false,
     "start_time": "2022-01-18T08:22:22.105760",
     "status": "completed"
    },
    "tags": []
   },
   "outputs": [],
   "source": [
    "y_pred_knn = knn_model.predict(x_test)"
   ]
  },
  {
   "cell_type": "code",
   "execution_count": null,
   "id": "ec2fa54c",
   "metadata": {
    "execution": {
     "iopub.execute_input": "2022-01-18T08:22:22.415703Z",
     "iopub.status.busy": "2022-01-18T08:22:22.414978Z",
     "iopub.status.idle": "2022-01-18T08:22:22.673612Z",
     "shell.execute_reply": "2022-01-18T08:22:22.674104Z",
     "shell.execute_reply.started": "2022-01-18T08:10:32.612290Z"
    },
    "papermill": {
     "duration": 0.358275,
     "end_time": "2022-01-18T08:22:22.674321",
     "exception": false,
     "start_time": "2022-01-18T08:22:22.316046",
     "status": "completed"
    },
    "tags": []
   },
   "outputs": [],
   "source": [
    "print(classification_report(y_test, y_pred_knn))\n",
    "sns.heatmap(confusion_matrix(y_test, y_pred_knn), annot = True)"
   ]
  },
  {
   "cell_type": "markdown",
   "id": "8aa5f214",
   "metadata": {
    "papermill": {
     "duration": 0.098992,
     "end_time": "2022-01-18T08:22:22.870538",
     "exception": false,
     "start_time": "2022-01-18T08:22:22.771546",
     "status": "completed"
    },
    "tags": []
   },
   "source": [
    "## SVM"
   ]
  },
  {
   "cell_type": "code",
   "execution_count": null,
   "id": "4963fab4",
   "metadata": {
    "execution": {
     "iopub.execute_input": "2022-01-18T08:22:23.071347Z",
     "iopub.status.busy": "2022-01-18T08:22:23.070576Z",
     "iopub.status.idle": "2022-01-18T08:22:23.075575Z",
     "shell.execute_reply": "2022-01-18T08:22:23.076223Z",
     "shell.execute_reply.started": "2022-01-18T08:10:32.786515Z"
    },
    "papermill": {
     "duration": 0.109397,
     "end_time": "2022-01-18T08:22:23.076465",
     "exception": false,
     "start_time": "2022-01-18T08:22:22.967068",
     "status": "completed"
    },
    "tags": []
   },
   "outputs": [],
   "source": [
    "svc = SVC()\n",
    "svc = svc.fit(x_train, y_train)\n",
    "y_pred_svc = svc.predict(x_test)"
   ]
  },
  {
   "cell_type": "code",
   "execution_count": null,
   "id": "32cc6372",
   "metadata": {
    "execution": {
     "iopub.execute_input": "2022-01-18T08:22:23.272606Z",
     "iopub.status.busy": "2022-01-18T08:22:23.271922Z",
     "iopub.status.idle": "2022-01-18T08:22:23.525044Z",
     "shell.execute_reply": "2022-01-18T08:22:23.524351Z",
     "shell.execute_reply.started": "2022-01-18T08:10:32.794070Z"
    },
    "papermill": {
     "duration": 0.352501,
     "end_time": "2022-01-18T08:22:23.525196",
     "exception": false,
     "start_time": "2022-01-18T08:22:23.172695",
     "status": "completed"
    },
    "tags": []
   },
   "outputs": [],
   "source": [
    "print(classification_report(y_test, y_pred_svc))\n",
    "sns.heatmap(confusion_matrix(y_test, y_pred_svc), annot = True)"
   ]
  },
  {
   "cell_type": "markdown",
   "id": "25705562",
   "metadata": {
    "papermill": {
     "duration": 0.099289,
     "end_time": "2022-01-18T08:22:23.722572",
     "exception": false,
     "start_time": "2022-01-18T08:22:23.623283",
     "status": "completed"
    },
    "tags": []
   },
   "source": [
    "## Random Forest"
   ]
  },
  {
   "cell_type": "code",
   "execution_count": null,
   "id": "f6ca8d7f",
   "metadata": {
    "execution": {
     "iopub.execute_input": "2022-01-18T08:22:23.918006Z",
     "iopub.status.busy": "2022-01-18T08:22:23.917331Z",
     "iopub.status.idle": "2022-01-18T08:22:24.129288Z",
     "shell.execute_reply": "2022-01-18T08:22:24.128690Z",
     "shell.execute_reply.started": "2022-01-18T08:10:32.967893Z"
    },
    "papermill": {
     "duration": 0.311112,
     "end_time": "2022-01-18T08:22:24.129456",
     "exception": false,
     "start_time": "2022-01-18T08:22:23.818344",
     "status": "completed"
    },
    "tags": []
   },
   "outputs": [],
   "source": [
    "model_rf = RandomForestClassifier()\n",
    "model_rf = model_rf.fit(x_train, y_train)\n",
    "y_pred_rd = model_rf.predict(x_test)"
   ]
  },
  {
   "cell_type": "code",
   "execution_count": null,
   "id": "b0da87cd",
   "metadata": {
    "execution": {
     "iopub.execute_input": "2022-01-18T08:22:24.328715Z",
     "iopub.status.busy": "2022-01-18T08:22:24.327952Z",
     "iopub.status.idle": "2022-01-18T08:22:24.560834Z",
     "shell.execute_reply": "2022-01-18T08:22:24.561404Z",
     "shell.execute_reply.started": "2022-01-18T08:10:33.166045Z"
    },
    "papermill": {
     "duration": 0.332743,
     "end_time": "2022-01-18T08:22:24.561587",
     "exception": false,
     "start_time": "2022-01-18T08:22:24.228844",
     "status": "completed"
    },
    "tags": []
   },
   "outputs": [],
   "source": [
    "print(classification_report(y_test, y_pred_rd))\n",
    "sns.heatmap(confusion_matrix(y_test, y_pred_rd), annot = True)"
   ]
  },
  {
   "cell_type": "code",
   "execution_count": null,
   "id": "e6125b30",
   "metadata": {
    "execution": {
     "iopub.execute_input": "2022-01-18T08:22:24.768955Z",
     "iopub.status.busy": "2022-01-18T08:22:24.760447Z",
     "iopub.status.idle": "2022-01-18T08:22:24.793373Z",
     "shell.execute_reply": "2022-01-18T08:22:24.793956Z",
     "shell.execute_reply.started": "2022-01-18T08:10:33.335966Z"
    },
    "papermill": {
     "duration": 0.13456,
     "end_time": "2022-01-18T08:22:24.794134",
     "exception": false,
     "start_time": "2022-01-18T08:22:24.659574",
     "status": "completed"
    },
    "tags": []
   },
   "outputs": [],
   "source": [
    "accuracy, precision, recall, roc = [],[],[],[]\n",
    "predictions = [y_pred_rd,y_pred_knn,y_pred_svc,y_pred_lr]\n",
    "\n",
    "               \n",
    "for i in range (len(predictions)):\n",
    "    accuracy.append(accuracy_score(y_test, predictions[i]))\n",
    "    precision.append(precision_score(y_test, predictions[i]))\n",
    "    recall.append(recall_score(y_test, predictions[i]))\n",
    "    roc.append(roc_auc_score(y_test, predictions[i]))\n",
    "\n",
    "compare = pd.DataFrame ({'Accuracy': accuracy, 'Precision': precision, 'Recall': recall, 'ROC_score':roc}, index=['rf','knn',\"svm\",'lr'])\n",
    "compare.sort_values('Accuracy', ascending=False)"
   ]
  },
  {
   "cell_type": "code",
   "execution_count": null,
   "id": "08aac54e",
   "metadata": {
    "execution": {
     "iopub.execute_input": "2022-01-18T08:22:24.992264Z",
     "iopub.status.busy": "2022-01-18T08:22:24.991585Z",
     "iopub.status.idle": "2022-01-18T08:22:25.001992Z",
     "shell.execute_reply": "2022-01-18T08:22:25.002544Z",
     "shell.execute_reply.started": "2022-01-18T08:10:33.367127Z"
    },
    "papermill": {
     "duration": 0.111278,
     "end_time": "2022-01-18T08:22:25.002723",
     "exception": false,
     "start_time": "2022-01-18T08:22:24.891445",
     "status": "completed"
    },
    "tags": []
   },
   "outputs": [],
   "source": [
    "model_params = {\n",
    "     'svm': {\n",
    "        'model': SVC(),\n",
    "        'params' : {\n",
    "            'C' : [1.0, 2.0, 4.0, 6.0, 8.0, 10.0],\n",
    "            'kernel': ['rbf'],\n",
    "            'gamma' : ['scale', 'auto']\n",
    "        }  \n",
    "    },\n",
    "    'knn': {\n",
    "        'model' : KNeighborsClassifier(),\n",
    "        'params' : {\n",
    "            'n_neighbors' : [i for i in range(1,50,1)],\n",
    "            'weights' : ['uniform', 'distance'],\n",
    "            'algorithm' : ['auto', 'ball_tree', 'kd_tree', 'brute'],\n",
    "            'n_jobs' : [-1]   \n",
    "        }  \n",
    "    },\n",
    "    'random_forest': {\n",
    "        'model': RandomForestClassifier(),\n",
    "        'params' : {\n",
    "            'n_estimators': [i for i in range(1,100,5)],\n",
    "            'criterion' : ['gini', 'entropy'],\n",
    "            'max_features' : ['auto', 'sqrt', 'log2'],\n",
    "            'n_jobs' : [-1]\n",
    "        }\n",
    "    },\n",
    "    'logistic_regression' : {\n",
    "        'model': LogisticRegression(),\n",
    "        'params': {\n",
    "            'C': [1.0, 2.0, 4.0, 6.0, 8.0, 10.0],\n",
    "            'penalty' : ['l1', 'l2', 'elasticnet'],\n",
    "            'solver' : ['newton-cg', 'lbfgs', 'liblinear', 'sag', 'saga'],\n",
    "            'multi_class' : ['auto', 'ovr', 'multinomial'],\n",
    "            'n_jobs' : [-1]\n",
    "        }\n",
    "    }\n",
    "}"
   ]
  },
  {
   "cell_type": "markdown",
   "id": "b1ccf535",
   "metadata": {
    "papermill": {
     "duration": 0.09742,
     "end_time": "2022-01-18T08:22:25.198741",
     "exception": false,
     "start_time": "2022-01-18T08:22:25.101321",
     "status": "completed"
    },
    "tags": []
   },
   "source": [
    "## GridSearchCV"
   ]
  },
  {
   "cell_type": "code",
   "execution_count": null,
   "id": "7cd06605",
   "metadata": {
    "execution": {
     "iopub.execute_input": "2022-01-18T08:22:25.398759Z",
     "iopub.status.busy": "2022-01-18T08:22:25.398041Z",
     "iopub.status.idle": "2022-01-18T08:28:40.851510Z",
     "shell.execute_reply": "2022-01-18T08:28:40.850712Z",
     "shell.execute_reply.started": "2022-01-18T08:10:33.375647Z"
    },
    "papermill": {
     "duration": 375.554599,
     "end_time": "2022-01-18T08:28:40.851714",
     "exception": false,
     "start_time": "2022-01-18T08:22:25.297115",
     "status": "completed"
    },
    "tags": []
   },
   "outputs": [],
   "source": [
    "%%time\n",
    "scores = []\n",
    "\n",
    "for model_name, mp in model_params.items():\n",
    "    clf =  GridSearchCV(mp['model'], mp['params'], cv=5, return_train_score=False)\n",
    "    clf.fit(x_train, y_train)\n",
    "    scores.append({\n",
    "        'model': model_name,\n",
    "        'best_score': clf.best_score_,\n",
    "        'best_params': clf.best_params_\n",
    "    })\n",
    "    \n",
    "data = pd.DataFrame(scores,columns=['model','best_score','best_params'])\n",
    "data"
   ]
  },
  {
   "cell_type": "markdown",
   "id": "cfeb7799",
   "metadata": {
    "papermill": {
     "duration": 0.098254,
     "end_time": "2022-01-18T08:28:41.048429",
     "exception": false,
     "start_time": "2022-01-18T08:28:40.950175",
     "status": "completed"
    },
    "tags": []
   },
   "source": [
    "## RandomizedSearchCV"
   ]
  },
  {
   "cell_type": "code",
   "execution_count": null,
   "id": "dde8fa05",
   "metadata": {
    "execution": {
     "iopub.execute_input": "2022-01-18T08:28:41.250983Z",
     "iopub.status.busy": "2022-01-18T08:28:41.250304Z",
     "iopub.status.idle": "2022-01-18T08:29:09.905461Z",
     "shell.execute_reply": "2022-01-18T08:29:09.905959Z",
     "shell.execute_reply.started": "2022-01-18T08:15:55.321478Z"
    },
    "papermill": {
     "duration": 28.757566,
     "end_time": "2022-01-18T08:29:09.906141",
     "exception": false,
     "start_time": "2022-01-18T08:28:41.148575",
     "status": "completed"
    },
    "tags": []
   },
   "outputs": [],
   "source": [
    "%%time\n",
    "scores = []\n",
    "\n",
    "for model_name, mp in model_params.items():\n",
    "    clf_random =  RandomizedSearchCV(mp['model'], mp['params'], cv=5, return_train_score=False)\n",
    "    clf_random.fit(x_train, y_train)\n",
    "    scores.append({\n",
    "        'model': model_name,\n",
    "        'best_score': clf_random.best_score_,\n",
    "        'best_params': clf_random.best_params_\n",
    "    })\n",
    "    \n",
    "data1 = pd.DataFrame(scores,columns=['model','best_score','best_params'])\n",
    "data1"
   ]
  },
  {
   "cell_type": "code",
   "execution_count": null,
   "id": "aa48101c",
   "metadata": {
    "execution": {
     "iopub.execute_input": "2022-01-18T08:29:10.113546Z",
     "iopub.status.busy": "2022-01-18T08:29:10.112492Z",
     "iopub.status.idle": "2022-01-18T08:29:10.118910Z",
     "shell.execute_reply": "2022-01-18T08:29:10.119542Z",
     "shell.execute_reply.started": "2022-01-18T08:16:05.700047Z"
    },
    "papermill": {
     "duration": 0.110751,
     "end_time": "2022-01-18T08:29:10.119721",
     "exception": false,
     "start_time": "2022-01-18T08:29:10.008970",
     "status": "completed"
    },
    "tags": []
   },
   "outputs": [],
   "source": [
    "data['best_params'][2]"
   ]
  },
  {
   "cell_type": "code",
   "execution_count": null,
   "id": "e182c1c1",
   "metadata": {
    "execution": {
     "iopub.execute_input": "2022-01-18T08:29:10.324224Z",
     "iopub.status.busy": "2022-01-18T08:29:10.323216Z",
     "iopub.status.idle": "2022-01-18T08:29:10.327570Z",
     "shell.execute_reply": "2022-01-18T08:29:10.328166Z",
     "shell.execute_reply.started": "2022-01-18T08:16:57.676378Z"
    },
    "papermill": {
     "duration": 0.107868,
     "end_time": "2022-01-18T08:29:10.328355",
     "exception": false,
     "start_time": "2022-01-18T08:29:10.220487",
     "status": "completed"
    },
    "tags": []
   },
   "outputs": [],
   "source": [
    "model = RandomForestClassifier(n_jobs = -1, n_estimators = 16, max_features = 'auto', criterion = 'gini')"
   ]
  },
  {
   "cell_type": "code",
   "execution_count": null,
   "id": "2da42b30",
   "metadata": {
    "execution": {
     "iopub.execute_input": "2022-01-18T08:29:10.534669Z",
     "iopub.status.busy": "2022-01-18T08:29:10.533670Z",
     "iopub.status.idle": "2022-01-18T08:29:10.654069Z",
     "shell.execute_reply": "2022-01-18T08:29:10.653451Z",
     "shell.execute_reply.started": "2022-01-18T08:17:00.882262Z"
    },
    "papermill": {
     "duration": 0.224097,
     "end_time": "2022-01-18T08:29:10.654213",
     "exception": false,
     "start_time": "2022-01-18T08:29:10.430116",
     "status": "completed"
    },
    "tags": []
   },
   "outputs": [],
   "source": [
    "model.fit(x_train, y_train)"
   ]
  },
  {
   "cell_type": "code",
   "execution_count": null,
   "id": "b5e4c64b",
   "metadata": {
    "execution": {
     "iopub.execute_input": "2022-01-18T08:29:10.862888Z",
     "iopub.status.busy": "2022-01-18T08:29:10.861924Z",
     "iopub.status.idle": "2022-01-18T08:29:10.969233Z",
     "shell.execute_reply": "2022-01-18T08:29:10.968693Z",
     "shell.execute_reply.started": "2022-01-18T08:17:03.934700Z"
    },
    "papermill": {
     "duration": 0.213096,
     "end_time": "2022-01-18T08:29:10.969454",
     "exception": false,
     "start_time": "2022-01-18T08:29:10.756358",
     "status": "completed"
    },
    "tags": []
   },
   "outputs": [],
   "source": [
    "importance = model.feature_importances_"
   ]
  },
  {
   "cell_type": "code",
   "execution_count": null,
   "id": "169fd4c2",
   "metadata": {
    "execution": {
     "iopub.execute_input": "2022-01-18T08:29:11.175230Z",
     "iopub.status.busy": "2022-01-18T08:29:11.174230Z",
     "iopub.status.idle": "2022-01-18T08:29:11.180073Z",
     "shell.execute_reply": "2022-01-18T08:29:11.180696Z",
     "shell.execute_reply.started": "2022-01-18T08:17:06.463120Z"
    },
    "papermill": {
     "duration": 0.110973,
     "end_time": "2022-01-18T08:29:11.180863",
     "exception": false,
     "start_time": "2022-01-18T08:29:11.069890",
     "status": "completed"
    },
    "tags": []
   },
   "outputs": [],
   "source": [
    "kolom = list(x.columns)\n",
    "kolom"
   ]
  },
  {
   "cell_type": "code",
   "execution_count": null,
   "id": "7268fdd0",
   "metadata": {
    "execution": {
     "iopub.execute_input": "2022-01-18T08:29:11.385154Z",
     "iopub.status.busy": "2022-01-18T08:29:11.384165Z",
     "iopub.status.idle": "2022-01-18T08:29:11.388735Z",
     "shell.execute_reply": "2022-01-18T08:29:11.389348Z",
     "shell.execute_reply.started": "2022-01-18T08:17:09.699602Z"
    },
    "papermill": {
     "duration": 0.108526,
     "end_time": "2022-01-18T08:29:11.389523",
     "exception": false,
     "start_time": "2022-01-18T08:29:11.280997",
     "status": "completed"
    },
    "tags": []
   },
   "outputs": [],
   "source": [
    "df_imp = pd.DataFrame({'columns' : kolom,\n",
    "                      'Importance' : importance})"
   ]
  },
  {
   "cell_type": "code",
   "execution_count": null,
   "id": "7b643a14",
   "metadata": {
    "execution": {
     "iopub.execute_input": "2022-01-18T08:29:11.594709Z",
     "iopub.status.busy": "2022-01-18T08:29:11.593736Z",
     "iopub.status.idle": "2022-01-18T08:29:11.604446Z",
     "shell.execute_reply": "2022-01-18T08:29:11.605038Z",
     "shell.execute_reply.started": "2022-01-18T08:17:12.988469Z"
    },
    "papermill": {
     "duration": 0.115412,
     "end_time": "2022-01-18T08:29:11.605206",
     "exception": false,
     "start_time": "2022-01-18T08:29:11.489794",
     "status": "completed"
    },
    "tags": []
   },
   "outputs": [],
   "source": [
    "df_imp"
   ]
  },
  {
   "cell_type": "code",
   "execution_count": null,
   "id": "a2c1106e",
   "metadata": {
    "execution": {
     "iopub.execute_input": "2022-01-18T08:29:11.816760Z",
     "iopub.status.busy": "2022-01-18T08:29:11.815774Z",
     "iopub.status.idle": "2022-01-18T08:29:12.245942Z",
     "shell.execute_reply": "2022-01-18T08:29:12.246511Z",
     "shell.execute_reply.started": "2022-01-18T08:17:19.732850Z"
    },
    "papermill": {
     "duration": 0.53872,
     "end_time": "2022-01-18T08:29:12.246688",
     "exception": false,
     "start_time": "2022-01-18T08:29:11.707968",
     "status": "completed"
    },
    "tags": []
   },
   "outputs": [],
   "source": [
    "df_imp.set_index('columns').sort_values('Importance',ascending=False\n",
    "                                       ).plot(kind='bar')\n",
    "plt.show()"
   ]
  },
  {
   "cell_type": "code",
   "execution_count": null,
   "id": "458dda29",
   "metadata": {
    "execution": {
     "iopub.execute_input": "2022-01-18T08:29:12.463027Z",
     "iopub.status.busy": "2022-01-18T08:29:12.461986Z",
     "iopub.status.idle": "2022-01-18T08:29:12.467528Z",
     "shell.execute_reply": "2022-01-18T08:29:12.468117Z",
     "shell.execute_reply.started": "2022-01-18T08:17:26.440864Z"
    },
    "papermill": {
     "duration": 0.114017,
     "end_time": "2022-01-18T08:29:12.468313",
     "exception": false,
     "start_time": "2022-01-18T08:29:12.354296",
     "status": "completed"
    },
    "tags": []
   },
   "outputs": [],
   "source": [
    "df_imp['persen'] = round(df_imp['Importance']*100,2)"
   ]
  },
  {
   "cell_type": "code",
   "execution_count": null,
   "id": "e5b82017",
   "metadata": {
    "execution": {
     "iopub.execute_input": "2022-01-18T08:29:12.693882Z",
     "iopub.status.busy": "2022-01-18T08:29:12.692886Z",
     "iopub.status.idle": "2022-01-18T08:29:12.709063Z",
     "shell.execute_reply": "2022-01-18T08:29:12.708473Z",
     "shell.execute_reply.started": "2022-01-18T08:17:29.917665Z"
    },
    "papermill": {
     "duration": 0.121813,
     "end_time": "2022-01-18T08:29:12.709204",
     "exception": false,
     "start_time": "2022-01-18T08:29:12.587391",
     "status": "completed"
    },
    "scrolled": true,
    "tags": []
   },
   "outputs": [],
   "source": [
    "df_imp.sort_values('persen',ascending=False)"
   ]
  },
  {
   "cell_type": "markdown",
   "id": "a1a7b7b3",
   "metadata": {
    "papermill": {
     "duration": 0.104856,
     "end_time": "2022-01-18T08:29:12.917501",
     "exception": false,
     "start_time": "2022-01-18T08:29:12.812645",
     "status": "completed"
    },
    "tags": []
   },
   "source": [
    "## Conclusion \n",
    "\n",
    "- There are 2 variables that have the most influence in determining fraud or not , that is Total Transaction Amount and Number of Payment\n",
    "- This model will be more perfect if more data is trained"
   ]
  }
 ],
 "metadata": {
  "kernelspec": {
   "display_name": "Python 3 (ipykernel)",
   "language": "python",
   "name": "python3"
  },
  "language_info": {
   "codemirror_mode": {
    "name": "ipython",
    "version": 3
   },
   "file_extension": ".py",
   "mimetype": "text/x-python",
   "name": "python",
   "nbconvert_exporter": "python",
   "pygments_lexer": "ipython3",
   "version": "3.9.7"
  },
  "papermill": {
   "default_parameters": {},
   "duration": 469.559465,
   "end_time": "2022-01-18T08:29:14.138179",
   "environment_variables": {},
   "exception": null,
   "input_path": "__notebook__.ipynb",
   "output_path": "__notebook__.ipynb",
   "parameters": {},
   "start_time": "2022-01-18T08:21:24.578714",
   "version": "2.3.3"
  }
 },
 "nbformat": 4,
 "nbformat_minor": 5
}
