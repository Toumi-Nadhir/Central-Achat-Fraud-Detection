{
 "cells": [
  {
   "cell_type": "markdown",
   "id": "af74ba8d",
   "metadata": {
    "id": "af74ba8d",
    "papermill": {
     "duration": 0.074845,
     "end_time": "2022-01-18T08:21:34.609648",
     "exception": false,
     "start_time": "2022-01-18T08:21:34.534803",
     "status": "completed"
    },
    "tags": []
   },
   "source": [
    "#### <font color='blue'> <h1 align=\"center\"> PI : Data Mining Phase [Transaction Fraud Classification Model] <br> 4GL_2022/2023 <br> <font color='red'> Nadhir Toumi</font> </h1> </font>"
   ]
  },
  {
   "cell_type": "markdown",
   "id": "e9d3a3b4",
   "metadata": {
    "id": "e9d3a3b4",
    "papermill": {
     "duration": 0.07374,
     "end_time": "2022-01-18T08:21:34.756405",
     "exception": false,
     "start_time": "2022-01-18T08:21:34.682665",
     "status": "completed"
    },
    "tags": []
   },
   "source": [
    "# Import libraries and data"
   ]
  },
  {
   "cell_type": "code",
   "execution_count": 1,
   "id": "dcf814b6",
   "metadata": {
    "execution": {
     "iopub.execute_input": "2022-01-18T08:21:34.908435Z",
     "iopub.status.busy": "2022-01-18T08:21:34.907182Z",
     "iopub.status.idle": "2022-01-18T08:21:35.927537Z",
     "shell.execute_reply": "2022-01-18T08:21:35.926850Z",
     "shell.execute_reply.started": "2022-01-18T08:10:03.684788Z"
    },
    "id": "dcf814b6",
    "papermill": {
     "duration": 1.098806,
     "end_time": "2022-01-18T08:21:35.927704",
     "exception": false,
     "start_time": "2022-01-18T08:21:34.828898",
     "status": "completed"
    },
    "tags": []
   },
   "outputs": [],
   "source": [
    "# Import libraries\n",
    "import numpy as np \n",
    "import pandas as pd \n",
    "import matplotlib.pyplot as plt\n",
    "import seaborn as sns\n",
    "import warnings\n",
    "warnings.filterwarnings('ignore')\n",
    "plt.style.use('seaborn')\n",
    "import os"
   ]
  },
  {
   "cell_type": "code",
   "execution_count": 2,
   "id": "b2fbf2b3",
   "metadata": {
    "execution": {
     "iopub.execute_input": "2022-01-18T08:21:36.376275Z",
     "iopub.status.busy": "2022-01-18T08:21:36.375591Z",
     "iopub.status.idle": "2022-01-18T08:21:36.408590Z",
     "shell.execute_reply": "2022-01-18T08:21:36.408007Z",
     "shell.execute_reply.started": "2022-01-18T08:10:03.704711Z"
    },
    "id": "b2fbf2b3",
    "papermill": {
     "duration": 0.108083,
     "end_time": "2022-01-18T08:21:36.408763",
     "exception": false,
     "start_time": "2022-01-18T08:21:36.300680",
     "status": "completed"
    },
    "tags": []
   },
   "outputs": [],
   "source": [
    "# Load Datasets\n",
    "data1 = pd.read_csv('./Customer_DF.csv')\n",
    "data2= pd.read_csv('./cust_transaction_details.csv')"
   ]
  },
  {
   "cell_type": "markdown",
   "id": "57988941",
   "metadata": {},
   "source": [
    "# Data exploration\n",
    "## Data dictionary:\n",
    "### Our first dataset [Representing the customers] has 168 entries in function of 10 features which are:\n",
    "    Unnamed= Index\n",
    "    customerEmail= Customer Email Address \n",
    "    customerPhone= Customer Phone Number\n",
    "    customerDevice= Customer Device Code\n",
    "    customerIPAddress= Customer IP Address\n",
    "    customerBillingAddress= Customer Billing Addres\n",
    "    No_Transactions= Number of transactions\n",
    "    No_Orders= Number of orders \n",
    "    No_Payments= Number of Payments\n",
    "    Fraud= Target result\n",
    "    \n",
    "### Our second dataset [Representing the transactions] has 623 entries in function of 11 features which are:\n",
    "    Unnamed= Index\n",
    "    customerEmail= Customer Email Address\n",
    "    transactionId= Transaction\n",
    "    orderId= Order ID\n",
    "    paymentMethodId= ID payment Method\n",
    "    paymentMethodRegistrationFailure= Verification for the registration of the payment method\n",
    "    paymentMethodType= Type of payment\n",
    "    paymentMethodProvider= Provider\n",
    "    transactionAmount= Amount\n",
    "    transactionFailed= Transaction state \n",
    "    orderState= Order state"
   ]
  },
  {
   "cell_type": "code",
   "execution_count": 3,
   "id": "a14c1c1e",
   "metadata": {},
   "outputs": [
    {
     "data": {
      "text/plain": [
       "((168, 10), (623, 11))"
      ]
     },
     "execution_count": 3,
     "metadata": {},
     "output_type": "execute_result"
    }
   ],
   "source": [
    "# Dataset size\n",
    "data1.shape, data2.shape"
   ]
  },
  {
   "cell_type": "code",
   "execution_count": 4,
   "id": "22c4be60",
   "metadata": {},
   "outputs": [
    {
     "name": "stdout",
     "output_type": "stream",
     "text": [
      "<class 'pandas.core.frame.DataFrame'>\n",
      "RangeIndex: 168 entries, 0 to 167\n",
      "Data columns (total 10 columns):\n",
      " #   Column                  Non-Null Count  Dtype \n",
      "---  ------                  --------------  ----- \n",
      " 0   Unnamed: 0              168 non-null    int64 \n",
      " 1   customerEmail           168 non-null    object\n",
      " 2   customerPhone           168 non-null    object\n",
      " 3   customerDevice          168 non-null    object\n",
      " 4   customerIPAddress       168 non-null    object\n",
      " 5   customerBillingAddress  168 non-null    object\n",
      " 6   No_Transactions         168 non-null    int64 \n",
      " 7   No_Orders               168 non-null    int64 \n",
      " 8   No_Payments             168 non-null    int64 \n",
      " 9   Fraud                   168 non-null    bool  \n",
      "dtypes: bool(1), int64(4), object(5)\n",
      "memory usage: 12.1+ KB\n"
     ]
    }
   ],
   "source": [
    "# Exploring non null values 1st dataset\n",
    "data1.info()"
   ]
  },
  {
   "cell_type": "code",
   "execution_count": 5,
   "id": "b11f8e81",
   "metadata": {},
   "outputs": [
    {
     "name": "stdout",
     "output_type": "stream",
     "text": [
      "<class 'pandas.core.frame.DataFrame'>\n",
      "RangeIndex: 623 entries, 0 to 622\n",
      "Data columns (total 11 columns):\n",
      " #   Column                            Non-Null Count  Dtype \n",
      "---  ------                            --------------  ----- \n",
      " 0   Unnamed: 0                        623 non-null    int64 \n",
      " 1   customerEmail                     623 non-null    object\n",
      " 2   transactionId                     623 non-null    object\n",
      " 3   orderId                           623 non-null    object\n",
      " 4   paymentMethodId                   623 non-null    object\n",
      " 5   paymentMethodRegistrationFailure  623 non-null    int64 \n",
      " 6   paymentMethodType                 623 non-null    object\n",
      " 7   paymentMethodProvider             623 non-null    object\n",
      " 8   transactionAmount                 623 non-null    int64 \n",
      " 9   transactionFailed                 623 non-null    int64 \n",
      " 10  orderState                        623 non-null    object\n",
      "dtypes: int64(4), object(7)\n",
      "memory usage: 53.7+ KB\n"
     ]
    }
   ],
   "source": [
    "# Exploring non null values 2nd dataset\n",
    "data2.info()"
   ]
  },
  {
   "cell_type": "code",
   "execution_count": 6,
   "id": "4a4f591a",
   "metadata": {
    "execution": {
     "iopub.execute_input": "2022-01-18T08:21:36.556792Z",
     "iopub.status.busy": "2022-01-18T08:21:36.556146Z",
     "iopub.status.idle": "2022-01-18T08:21:36.577383Z",
     "shell.execute_reply": "2022-01-18T08:21:36.577924Z",
     "shell.execute_reply.started": "2022-01-18T08:10:03.729717Z"
    },
    "id": "4a4f591a",
    "papermill": {
     "duration": 0.096753,
     "end_time": "2022-01-18T08:21:36.578114",
     "exception": false,
     "start_time": "2022-01-18T08:21:36.481361",
     "status": "completed"
    },
    "tags": []
   },
   "outputs": [
    {
     "data": {
      "text/html": [
       "<div>\n",
       "<style scoped>\n",
       "    .dataframe tbody tr th:only-of-type {\n",
       "        vertical-align: middle;\n",
       "    }\n",
       "\n",
       "    .dataframe tbody tr th {\n",
       "        vertical-align: top;\n",
       "    }\n",
       "\n",
       "    .dataframe thead th {\n",
       "        text-align: right;\n",
       "    }\n",
       "</style>\n",
       "<table border=\"1\" class=\"dataframe\">\n",
       "  <thead>\n",
       "    <tr style=\"text-align: right;\">\n",
       "      <th></th>\n",
       "      <th>Unnamed: 0</th>\n",
       "      <th>customerEmail</th>\n",
       "      <th>customerPhone</th>\n",
       "      <th>customerDevice</th>\n",
       "      <th>customerIPAddress</th>\n",
       "      <th>customerBillingAddress</th>\n",
       "      <th>No_Transactions</th>\n",
       "      <th>No_Orders</th>\n",
       "      <th>No_Payments</th>\n",
       "      <th>Fraud</th>\n",
       "    </tr>\n",
       "  </thead>\n",
       "  <tbody>\n",
       "    <tr>\n",
       "      <th>0</th>\n",
       "      <td>0</td>\n",
       "      <td>josephhoward@yahoo.com</td>\n",
       "      <td>400-108-5415</td>\n",
       "      <td>yyeiaxpltf82440jnb3v</td>\n",
       "      <td>8.129.104.40</td>\n",
       "      <td>5493 Jones Islands\\nBrownside, CA 51896</td>\n",
       "      <td>2</td>\n",
       "      <td>2</td>\n",
       "      <td>1</td>\n",
       "      <td>False</td>\n",
       "    </tr>\n",
       "    <tr>\n",
       "      <th>1</th>\n",
       "      <td>1</td>\n",
       "      <td>evansjeffery@yahoo.com</td>\n",
       "      <td>1-788-091-7546</td>\n",
       "      <td>r0jpm7xaeqqa3kr6mzum</td>\n",
       "      <td>219.173.211.202</td>\n",
       "      <td>356 Elizabeth Inlet Suite 120\\nPort Joshuabury...</td>\n",
       "      <td>3</td>\n",
       "      <td>3</td>\n",
       "      <td>7</td>\n",
       "      <td>True</td>\n",
       "    </tr>\n",
       "    <tr>\n",
       "      <th>2</th>\n",
       "      <td>2</td>\n",
       "      <td>andersonwilliam@yahoo.com</td>\n",
       "      <td>024.420.0375</td>\n",
       "      <td>4m7h5ipl1shyavt6vv2r</td>\n",
       "      <td>67b7:3db8:67e0:3bea:b9d0:90c1:2b60:b9f0</td>\n",
       "      <td>8478 Sean Ridges Apt. 441\\nDavisberg, PR 72250</td>\n",
       "      <td>5</td>\n",
       "      <td>3</td>\n",
       "      <td>2</td>\n",
       "      <td>False</td>\n",
       "    </tr>\n",
       "    <tr>\n",
       "      <th>3</th>\n",
       "      <td>3</td>\n",
       "      <td>rubenjuarez@yahoo.com</td>\n",
       "      <td>670.664.8168x94985</td>\n",
       "      <td>slovx60t0i558may4ks0</td>\n",
       "      <td>95de:8565:5a66:792c:26e0:6cfb:7d87:11af</td>\n",
       "      <td>7769 Elizabeth Bridge Apt. 343\\nNortonstad, FM...</td>\n",
       "      <td>3</td>\n",
       "      <td>3</td>\n",
       "      <td>1</td>\n",
       "      <td>False</td>\n",
       "    </tr>\n",
       "    <tr>\n",
       "      <th>4</th>\n",
       "      <td>4</td>\n",
       "      <td>uchen@malone.com</td>\n",
       "      <td>1-981-877-0870</td>\n",
       "      <td>j0pd24k5h8dl2fqu0cz4</td>\n",
       "      <td>196.89.235.192</td>\n",
       "      <td>148 Russell Lodge Apt. 445\\nPort Jenniferside,...</td>\n",
       "      <td>7</td>\n",
       "      <td>7</td>\n",
       "      <td>6</td>\n",
       "      <td>True</td>\n",
       "    </tr>\n",
       "  </tbody>\n",
       "</table>\n",
       "</div>"
      ],
      "text/plain": [
       "   Unnamed: 0              customerEmail       customerPhone  \\\n",
       "0           0     josephhoward@yahoo.com        400-108-5415   \n",
       "1           1     evansjeffery@yahoo.com      1-788-091-7546   \n",
       "2           2  andersonwilliam@yahoo.com        024.420.0375   \n",
       "3           3      rubenjuarez@yahoo.com  670.664.8168x94985   \n",
       "4           4           uchen@malone.com      1-981-877-0870   \n",
       "\n",
       "         customerDevice                        customerIPAddress  \\\n",
       "0  yyeiaxpltf82440jnb3v                             8.129.104.40   \n",
       "1  r0jpm7xaeqqa3kr6mzum                          219.173.211.202   \n",
       "2  4m7h5ipl1shyavt6vv2r  67b7:3db8:67e0:3bea:b9d0:90c1:2b60:b9f0   \n",
       "3  slovx60t0i558may4ks0  95de:8565:5a66:792c:26e0:6cfb:7d87:11af   \n",
       "4  j0pd24k5h8dl2fqu0cz4                           196.89.235.192   \n",
       "\n",
       "                              customerBillingAddress  No_Transactions  \\\n",
       "0            5493 Jones Islands\\nBrownside, CA 51896                2   \n",
       "1  356 Elizabeth Inlet Suite 120\\nPort Joshuabury...                3   \n",
       "2     8478 Sean Ridges Apt. 441\\nDavisberg, PR 72250                5   \n",
       "3  7769 Elizabeth Bridge Apt. 343\\nNortonstad, FM...                3   \n",
       "4  148 Russell Lodge Apt. 445\\nPort Jenniferside,...                7   \n",
       "\n",
       "   No_Orders  No_Payments  Fraud  \n",
       "0          2            1  False  \n",
       "1          3            7   True  \n",
       "2          3            2  False  \n",
       "3          3            1  False  \n",
       "4          7            6   True  "
      ]
     },
     "execution_count": 6,
     "metadata": {},
     "output_type": "execute_result"
    }
   ],
   "source": [
    "# Showing first five lines from first dataset\n",
    "data1.head()"
   ]
  },
  {
   "cell_type": "code",
   "execution_count": 7,
   "id": "1bed3400",
   "metadata": {
    "execution": {
     "iopub.execute_input": "2022-01-18T08:21:36.727262Z",
     "iopub.status.busy": "2022-01-18T08:21:36.726584Z",
     "iopub.status.idle": "2022-01-18T08:21:36.739961Z",
     "shell.execute_reply": "2022-01-18T08:21:36.740540Z",
     "shell.execute_reply.started": "2022-01-18T08:10:03.772057Z"
    },
    "id": "1bed3400",
    "papermill": {
     "duration": 0.08955,
     "end_time": "2022-01-18T08:21:36.740747",
     "exception": false,
     "start_time": "2022-01-18T08:21:36.651197",
     "status": "completed"
    },
    "tags": []
   },
   "outputs": [
    {
     "data": {
      "text/html": [
       "<div>\n",
       "<style scoped>\n",
       "    .dataframe tbody tr th:only-of-type {\n",
       "        vertical-align: middle;\n",
       "    }\n",
       "\n",
       "    .dataframe tbody tr th {\n",
       "        vertical-align: top;\n",
       "    }\n",
       "\n",
       "    .dataframe thead th {\n",
       "        text-align: right;\n",
       "    }\n",
       "</style>\n",
       "<table border=\"1\" class=\"dataframe\">\n",
       "  <thead>\n",
       "    <tr style=\"text-align: right;\">\n",
       "      <th></th>\n",
       "      <th>Unnamed: 0</th>\n",
       "      <th>customerEmail</th>\n",
       "      <th>transactionId</th>\n",
       "      <th>orderId</th>\n",
       "      <th>paymentMethodId</th>\n",
       "      <th>paymentMethodRegistrationFailure</th>\n",
       "      <th>paymentMethodType</th>\n",
       "      <th>paymentMethodProvider</th>\n",
       "      <th>transactionAmount</th>\n",
       "      <th>transactionFailed</th>\n",
       "      <th>orderState</th>\n",
       "    </tr>\n",
       "  </thead>\n",
       "  <tbody>\n",
       "    <tr>\n",
       "      <th>0</th>\n",
       "      <td>0</td>\n",
       "      <td>josephhoward@yahoo.com</td>\n",
       "      <td>a9lcj51r</td>\n",
       "      <td>vjbdvd</td>\n",
       "      <td>wt07xm68b</td>\n",
       "      <td>1</td>\n",
       "      <td>card</td>\n",
       "      <td>JCB 16 digit</td>\n",
       "      <td>18</td>\n",
       "      <td>0</td>\n",
       "      <td>pending</td>\n",
       "    </tr>\n",
       "    <tr>\n",
       "      <th>1</th>\n",
       "      <td>1</td>\n",
       "      <td>josephhoward@yahoo.com</td>\n",
       "      <td>y4wcv03i</td>\n",
       "      <td>yp6x27</td>\n",
       "      <td>wt07xm68b</td>\n",
       "      <td>1</td>\n",
       "      <td>card</td>\n",
       "      <td>JCB 16 digit</td>\n",
       "      <td>26</td>\n",
       "      <td>0</td>\n",
       "      <td>fulfilled</td>\n",
       "    </tr>\n",
       "    <tr>\n",
       "      <th>2</th>\n",
       "      <td>2</td>\n",
       "      <td>evansjeffery@yahoo.com</td>\n",
       "      <td>5mi94sfw</td>\n",
       "      <td>nlghpa</td>\n",
       "      <td>41ug157xz</td>\n",
       "      <td>0</td>\n",
       "      <td>bitcoin</td>\n",
       "      <td>American Express</td>\n",
       "      <td>45</td>\n",
       "      <td>0</td>\n",
       "      <td>fulfilled</td>\n",
       "    </tr>\n",
       "    <tr>\n",
       "      <th>3</th>\n",
       "      <td>3</td>\n",
       "      <td>evansjeffery@yahoo.com</td>\n",
       "      <td>br8ba1nu</td>\n",
       "      <td>uw0eeb</td>\n",
       "      <td>41ug157xz</td>\n",
       "      <td>0</td>\n",
       "      <td>bitcoin</td>\n",
       "      <td>American Express</td>\n",
       "      <td>23</td>\n",
       "      <td>0</td>\n",
       "      <td>fulfilled</td>\n",
       "    </tr>\n",
       "    <tr>\n",
       "      <th>4</th>\n",
       "      <td>4</td>\n",
       "      <td>evansjeffery@yahoo.com</td>\n",
       "      <td>a33145ss</td>\n",
       "      <td>bn44oh</td>\n",
       "      <td>y3xp697jx</td>\n",
       "      <td>1</td>\n",
       "      <td>bitcoin</td>\n",
       "      <td>VISA 16 digit</td>\n",
       "      <td>43</td>\n",
       "      <td>1</td>\n",
       "      <td>fulfilled</td>\n",
       "    </tr>\n",
       "  </tbody>\n",
       "</table>\n",
       "</div>"
      ],
      "text/plain": [
       "   Unnamed: 0           customerEmail transactionId orderId paymentMethodId  \\\n",
       "0           0  josephhoward@yahoo.com      a9lcj51r  vjbdvd       wt07xm68b   \n",
       "1           1  josephhoward@yahoo.com      y4wcv03i  yp6x27       wt07xm68b   \n",
       "2           2  evansjeffery@yahoo.com      5mi94sfw  nlghpa       41ug157xz   \n",
       "3           3  evansjeffery@yahoo.com      br8ba1nu  uw0eeb       41ug157xz   \n",
       "4           4  evansjeffery@yahoo.com      a33145ss  bn44oh       y3xp697jx   \n",
       "\n",
       "   paymentMethodRegistrationFailure paymentMethodType paymentMethodProvider  \\\n",
       "0                                 1              card          JCB 16 digit   \n",
       "1                                 1              card          JCB 16 digit   \n",
       "2                                 0           bitcoin      American Express   \n",
       "3                                 0           bitcoin      American Express   \n",
       "4                                 1           bitcoin         VISA 16 digit   \n",
       "\n",
       "   transactionAmount  transactionFailed orderState  \n",
       "0                 18                  0    pending  \n",
       "1                 26                  0  fulfilled  \n",
       "2                 45                  0  fulfilled  \n",
       "3                 23                  0  fulfilled  \n",
       "4                 43                  1  fulfilled  "
      ]
     },
     "execution_count": 7,
     "metadata": {},
     "output_type": "execute_result"
    }
   ],
   "source": [
    "# Showing first five lines from second dataset\n",
    "data2.head()"
   ]
  },
  {
   "cell_type": "markdown",
   "id": "ec564c6e",
   "metadata": {
    "id": "ec564c6e",
    "papermill": {
     "duration": 0.074903,
     "end_time": "2022-01-18T08:21:37.386510",
     "exception": false,
     "start_time": "2022-01-18T08:21:37.311607",
     "status": "completed"
    },
    "tags": []
   },
   "source": [
    "## Exploratory Data Analysis (EDA)"
   ]
  },
  {
   "cell_type": "markdown",
   "id": "e40db3a7",
   "metadata": {
    "id": "e40db3a7",
    "papermill": {
     "duration": 0.073671,
     "end_time": "2022-01-18T08:21:37.535338",
     "exception": false,
     "start_time": "2022-01-18T08:21:37.461667",
     "status": "completed"
    },
    "tags": []
   },
   "source": [
    "### Data Cleaning"
   ]
  },
  {
   "cell_type": "code",
   "execution_count": 8,
   "id": "9a17daa7",
   "metadata": {
    "execution": {
     "iopub.execute_input": "2022-01-18T08:21:37.690532Z",
     "iopub.status.busy": "2022-01-18T08:21:37.689789Z",
     "iopub.status.idle": "2022-01-18T08:21:37.698418Z",
     "shell.execute_reply": "2022-01-18T08:21:37.698951Z",
     "shell.execute_reply.started": "2022-01-18T08:10:03.937202Z"
    },
    "id": "9a17daa7",
    "papermill": {
     "duration": 0.089014,
     "end_time": "2022-01-18T08:21:37.699135",
     "exception": false,
     "start_time": "2022-01-18T08:21:37.610121",
     "status": "completed"
    },
    "tags": []
   },
   "outputs": [
    {
     "data": {
      "text/plain": [
       "False"
      ]
     },
     "execution_count": 8,
     "metadata": {},
     "output_type": "execute_result"
    }
   ],
   "source": [
    "data1.duplicated().any()"
   ]
  },
  {
   "cell_type": "code",
   "execution_count": 9,
   "id": "91fdea56",
   "metadata": {
    "execution": {
     "iopub.execute_input": "2022-01-18T08:21:37.851981Z",
     "iopub.status.busy": "2022-01-18T08:21:37.851170Z",
     "iopub.status.idle": "2022-01-18T08:21:37.858944Z",
     "shell.execute_reply": "2022-01-18T08:21:37.859532Z",
     "shell.execute_reply.started": "2022-01-18T08:10:03.945466Z"
    },
    "id": "91fdea56",
    "papermill": {
     "duration": 0.085792,
     "end_time": "2022-01-18T08:21:37.859710",
     "exception": false,
     "start_time": "2022-01-18T08:21:37.773918",
     "status": "completed"
    },
    "tags": []
   },
   "outputs": [
    {
     "data": {
      "text/plain": [
       "False"
      ]
     },
     "execution_count": 9,
     "metadata": {},
     "output_type": "execute_result"
    }
   ],
   "source": [
    "data2.duplicated().any()"
   ]
  },
  {
   "cell_type": "markdown",
   "id": "2b6567d0",
   "metadata": {
    "id": "2b6567d0",
    "papermill": {
     "duration": 0.075418,
     "end_time": "2022-01-18T08:21:38.010328",
     "exception": false,
     "start_time": "2022-01-18T08:21:37.934910",
     "status": "completed"
    },
    "tags": []
   },
   "source": [
    "### Check Missing Value"
   ]
  },
  {
   "cell_type": "code",
   "execution_count": 10,
   "id": "135c356a",
   "metadata": {
    "execution": {
     "iopub.execute_input": "2022-01-18T08:21:38.165354Z",
     "iopub.status.busy": "2022-01-18T08:21:38.164680Z",
     "iopub.status.idle": "2022-01-18T08:21:38.173926Z",
     "shell.execute_reply": "2022-01-18T08:21:38.173408Z",
     "shell.execute_reply.started": "2022-01-18T08:10:03.953776Z"
    },
    "id": "135c356a",
    "papermill": {
     "duration": 0.087192,
     "end_time": "2022-01-18T08:21:38.174090",
     "exception": false,
     "start_time": "2022-01-18T08:21:38.086898",
     "status": "completed"
    },
    "tags": []
   },
   "outputs": [
    {
     "data": {
      "text/plain": [
       "Unnamed: 0                False\n",
       "customerEmail             False\n",
       "customerPhone             False\n",
       "customerDevice            False\n",
       "customerIPAddress         False\n",
       "customerBillingAddress    False\n",
       "No_Transactions           False\n",
       "No_Orders                 False\n",
       "No_Payments               False\n",
       "Fraud                     False\n",
       "dtype: bool"
      ]
     },
     "execution_count": 10,
     "metadata": {},
     "output_type": "execute_result"
    }
   ],
   "source": [
    "data1.isna().any()"
   ]
  },
  {
   "cell_type": "code",
   "execution_count": 11,
   "id": "5cd492ea",
   "metadata": {
    "execution": {
     "iopub.execute_input": "2022-01-18T08:21:38.330128Z",
     "iopub.status.busy": "2022-01-18T08:21:38.329135Z",
     "iopub.status.idle": "2022-01-18T08:21:38.337759Z",
     "shell.execute_reply": "2022-01-18T08:21:38.338218Z",
     "shell.execute_reply.started": "2022-01-18T08:10:03.963337Z"
    },
    "id": "5cd492ea",
    "papermill": {
     "duration": 0.087841,
     "end_time": "2022-01-18T08:21:38.338414",
     "exception": false,
     "start_time": "2022-01-18T08:21:38.250573",
     "status": "completed"
    },
    "scrolled": true,
    "tags": []
   },
   "outputs": [
    {
     "data": {
      "text/plain": [
       "Unnamed: 0                          False\n",
       "customerEmail                       False\n",
       "transactionId                       False\n",
       "orderId                             False\n",
       "paymentMethodId                     False\n",
       "paymentMethodRegistrationFailure    False\n",
       "paymentMethodType                   False\n",
       "paymentMethodProvider               False\n",
       "transactionAmount                   False\n",
       "transactionFailed                   False\n",
       "orderState                          False\n",
       "dtype: bool"
      ]
     },
     "execution_count": 11,
     "metadata": {},
     "output_type": "execute_result"
    }
   ],
   "source": [
    "data2.isna().any()"
   ]
  },
  {
   "cell_type": "code",
   "execution_count": 12,
   "id": "f811e352",
   "metadata": {
    "execution": {
     "iopub.execute_input": "2022-01-18T08:21:38.498915Z",
     "iopub.status.busy": "2022-01-18T08:21:38.498166Z",
     "iopub.status.idle": "2022-01-18T08:21:38.502662Z",
     "shell.execute_reply": "2022-01-18T08:21:38.503271Z",
     "shell.execute_reply.started": "2022-01-18T08:10:03.970812Z"
    },
    "id": "f811e352",
    "papermill": {
     "duration": 0.089695,
     "end_time": "2022-01-18T08:21:38.503447",
     "exception": false,
     "start_time": "2022-01-18T08:21:38.413752",
     "status": "completed"
    },
    "tags": []
   },
   "outputs": [
    {
     "data": {
      "text/plain": [
       "(161, 136)"
      ]
     },
     "execution_count": 12,
     "metadata": {},
     "output_type": "execute_result"
    }
   ],
   "source": [
    "## See the difference email in data1 and data2\n",
    "data1['customerEmail'].nunique() , data2['customerEmail'].nunique()"
   ]
  },
  {
   "cell_type": "markdown",
   "id": "f51afb06",
   "metadata": {
    "id": "f51afb06",
    "papermill": {
     "duration": 0.076062,
     "end_time": "2022-01-18T08:21:38.656412",
     "exception": false,
     "start_time": "2022-01-18T08:21:38.580350",
     "status": "completed"
    },
    "tags": []
   },
   "source": [
    "## Data Visualization"
   ]
  },
  {
   "cell_type": "markdown",
   "id": "d95e6763",
   "metadata": {
    "id": "d95e6763",
    "papermill": {
     "duration": 0.076204,
     "end_time": "2022-01-18T08:21:38.808747",
     "exception": false,
     "start_time": "2022-01-18T08:21:38.732543",
     "status": "completed"
    },
    "tags": []
   },
   "source": [
    "### Which Payment Methods are most used??"
   ]
  },
  {
   "cell_type": "code",
   "execution_count": 13,
   "id": "c623MTn6xHT4",
   "metadata": {
    "id": "c623MTn6xHT4"
   },
   "outputs": [
    {
     "data": {
      "image/png": "[encoded data removed]",
      "text/plain": [
       "<Figure size 800x550 with 1 Axes>"
      ]
     },
     "metadata": {},
     "output_type": "display_data"
    }
   ],
   "source": [
    "sns.countplot(x='paymentMethodType', data=data2)\n",
    "ax = plt.gca()\n",
    "\n",
    "# Iterate through the list of axes' patches\n",
    "for p in ax.patches:\n",
    "    ax.text(p.get_x() + p.get_width()/2., p.get_height(), '%d' % int(p.get_height()), \n",
    "            fontsize=12, ha='center', va='bottom')\n",
    "plt.show()\n"
   ]
  },
  {
   "cell_type": "markdown",
   "id": "16e5229f",
   "metadata": {
    "id": "16e5229f",
    "papermill": {
     "duration": 0.076734,
     "end_time": "2022-01-18T08:21:39.342047",
     "exception": false,
     "start_time": "2022-01-18T08:21:39.265313",
     "status": "completed"
    },
    "tags": []
   },
   "source": [
    "### Result :\n",
    "- Payment Method that the most use is card\n",
    "- For other payment methods are relatively the same in use"
   ]
  },
  {
   "cell_type": "markdown",
   "id": "4a47fa26",
   "metadata": {
    "id": "4a47fa26",
    "papermill": {
     "duration": 0.076406,
     "end_time": "2022-01-18T08:21:39.494832",
     "exception": false,
     "start_time": "2022-01-18T08:21:39.418426",
     "status": "completed"
    },
    "tags": []
   },
   "source": [
    "### Which payment status appears most often??"
   ]
  },
  {
   "cell_type": "code",
   "execution_count": 14,
   "id": "f2d13020",
   "metadata": {
    "execution": {
     "iopub.execute_input": "2022-01-18T08:21:39.658325Z",
     "iopub.status.busy": "2022-01-18T08:21:39.657192Z",
     "iopub.status.idle": "2022-01-18T08:21:39.929976Z",
     "shell.execute_reply": "2022-01-18T08:21:39.929389Z",
     "shell.execute_reply.started": "2022-01-18T08:10:04.117511Z"
    },
    "id": "f2d13020",
    "papermill": {
     "duration": 0.358141,
     "end_time": "2022-01-18T08:21:39.930126",
     "exception": false,
     "start_time": "2022-01-18T08:21:39.571985",
     "status": "completed"
    },
    "scrolled": true,
    "tags": []
   },
   "outputs": [
    {
     "data": {
      "image/png": "[encoded data removed]",
      "text/plain": [
       "<Figure size 800x550 with 1 Axes>"
      ]
     },
     "metadata": {},
     "output_type": "display_data"
    }
   ],
   "source": [
    "sns.countplot(x='paymentMethodType',hue='orderState',data = data2)\n",
    "ax = plt.gca()\n",
    "\n",
    "# Iterate through the list of axes' patches\n",
    "for p in ax.patches:\n",
    "    ax.text(p.get_x() + p.get_width()/2., p.get_height(), '%d' % int(p.get_height()), \n",
    "            fontsize=12, ha='center', va='bottom')\n",
    "plt.show()"
   ]
  },
  {
   "cell_type": "markdown",
   "id": "7c90ab66",
   "metadata": {
    "id": "7c90ab66",
    "papermill": {
     "duration": 0.077679,
     "end_time": "2022-01-18T08:21:40.085582",
     "exception": false,
     "start_time": "2022-01-18T08:21:40.007903",
     "status": "completed"
    },
    "tags": []
   },
   "source": [
    "### Which payment providers the most 'failure' ???"
   ]
  },
  {
   "cell_type": "code",
   "execution_count": 15,
   "id": "1c7c0b31",
   "metadata": {
    "execution": {
     "iopub.execute_input": "2022-01-18T08:21:40.253297Z",
     "iopub.status.busy": "2022-01-18T08:21:40.252274Z",
     "iopub.status.idle": "2022-01-18T08:21:40.581660Z",
     "shell.execute_reply": "2022-01-18T08:21:40.582164Z",
     "shell.execute_reply.started": "2022-01-18T08:10:04.336287Z"
    },
    "id": "1c7c0b31",
    "papermill": {
     "duration": 0.417498,
     "end_time": "2022-01-18T08:21:40.582360",
     "exception": false,
     "start_time": "2022-01-18T08:21:40.164862",
     "status": "completed"
    },
    "scrolled": true,
    "tags": []
   },
   "outputs": [
    {
     "data": {
      "image/png": "[encoded data removed]",
      "text/plain": [
       "<Figure size 1500x500 with 1 Axes>"
      ]
     },
     "metadata": {},
     "output_type": "display_data"
    }
   ],
   "source": [
    "plt.figure(figsize=(15,5))\n",
    "sns.countplot(x='paymentMethodProvider',hue = 'paymentMethodRegistrationFailure',data=data2)\n",
    "plt.legend (['Success','Fail'])\n",
    "ax = plt.gca()\n",
    "\n",
    "# Iterate through the list of axes' patches\n",
    "for p in ax.patches:\n",
    "    height = np.nan_to_num(p.get_height(), 0)\n",
    "    ax.text(p.get_x()+0.2, p.get_y() + height, '%d' % height, \n",
    "            fontsize=12, ha='center', va='bottom')\n",
    "## tambahkan prameter angka\n",
    "plt.show()"
   ]
  },
  {
   "cell_type": "markdown",
   "id": "3f83096f",
   "metadata": {
    "id": "3f83096f",
    "papermill": {
     "duration": 0.081416,
     "end_time": "2022-01-18T08:21:40.744025",
     "exception": false,
     "start_time": "2022-01-18T08:21:40.662609",
     "status": "completed"
    },
    "tags": []
   },
   "source": [
    "### Total number of payments per Fraud Transactions"
   ]
  },
  {
   "cell_type": "code",
   "execution_count": 16,
   "id": "8d4955bb",
   "metadata": {
    "execution": {
     "iopub.execute_input": "2022-01-18T08:21:40.908493Z",
     "iopub.status.busy": "2022-01-18T08:21:40.907469Z",
     "iopub.status.idle": "2022-01-18T08:21:41.242206Z",
     "shell.execute_reply": "2022-01-18T08:21:41.242761Z",
     "shell.execute_reply.started": "2022-01-18T08:10:04.622195Z"
    },
    "id": "8d4955bb",
    "papermill": {
     "duration": 0.418127,
     "end_time": "2022-01-18T08:21:41.242940",
     "exception": false,
     "start_time": "2022-01-18T08:21:40.824813",
     "status": "completed"
    },
    "tags": []
   },
   "outputs": [
    {
     "data": {
      "image/png": "[encoded data removed]",
      "text/plain": [
       "<Figure size 1500x500 with 1 Axes>"
      ]
     },
     "metadata": {},
     "output_type": "display_data"
    }
   ],
   "source": [
    "plt.figure(figsize=(15,5))\n",
    "sns.countplot(x = 'No_Payments',hue = 'Fraud',data=data1)\n",
    "ax = plt.gca()\n",
    "\n",
    "# Iterate through the list of axes' patches\n",
    "for p in ax.patches:\n",
    "    height = np.nan_to_num(p.get_height(), 0)\n",
    "    ax.text(p.get_x()+0.2, p.get_y() + height, '%d' % height, \n",
    "            fontsize=12, ha='center', va='bottom')\n",
    "## tambahkan prameter angka\n",
    "plt.show()"
   ]
  },
  {
   "cell_type": "markdown",
   "id": "edbef795",
   "metadata": {
    "id": "edbef795",
    "papermill": {
     "duration": 0.079298,
     "end_time": "2022-01-18T08:21:41.402884",
     "exception": false,
     "start_time": "2022-01-18T08:21:41.323586",
     "status": "completed"
    },
    "tags": []
   },
   "source": [
    "### Result \n",
    "If the number of payements happened more than 4 times, it is a fraud"
   ]
  },
  {
   "cell_type": "markdown",
   "id": "73a2f823",
   "metadata": {
    "id": "73a2f823",
    "papermill": {
     "duration": 0.07917,
     "end_time": "2022-01-18T08:21:41.561693",
     "exception": false,
     "start_time": "2022-01-18T08:21:41.482523",
     "status": "completed"
    },
    "tags": []
   },
   "source": [
    "## Distribution of Transaction Amount"
   ]
  },
  {
   "cell_type": "code",
   "execution_count": 17,
   "id": "93b75268",
   "metadata": {
    "execution": {
     "iopub.execute_input": "2022-01-18T08:21:41.724494Z",
     "iopub.status.busy": "2022-01-18T08:21:41.723772Z",
     "iopub.status.idle": "2022-01-18T08:21:42.169228Z",
     "shell.execute_reply": "2022-01-18T08:21:42.169752Z",
     "shell.execute_reply.started": "2022-01-18T08:10:04.840456Z"
    },
    "id": "93b75268",
    "papermill": {
     "duration": 0.528726,
     "end_time": "2022-01-18T08:21:42.169943",
     "exception": false,
     "start_time": "2022-01-18T08:21:41.641217",
     "status": "completed"
    },
    "tags": []
   },
   "outputs": [
    {
     "data": {
      "text/plain": [
       "<seaborn.axisgrid.FacetGrid at 0x2ad841ce910>"
      ]
     },
     "execution_count": 17,
     "metadata": {},
     "output_type": "execute_result"
    },
    {
     "data": {
      "image/png": "[encoded data removed]",
      "text/plain": [
       "<Figure size 500x500 with 1 Axes>"
      ]
     },
     "metadata": {},
     "output_type": "display_data"
    }
   ],
   "source": [
    "sns.displot(data2['transactionAmount'])"
   ]
  },
  {
   "cell_type": "code",
   "execution_count": 18,
   "id": "04a8357b",
   "metadata": {
    "execution": {
     "iopub.execute_input": "2022-01-18T08:21:42.337009Z",
     "iopub.status.busy": "2022-01-18T08:21:42.335967Z",
     "iopub.status.idle": "2022-01-18T08:21:42.350342Z",
     "shell.execute_reply": "2022-01-18T08:21:42.350891Z",
     "shell.execute_reply.started": "2022-01-18T08:10:05.124884Z"
    },
    "id": "04a8357b",
    "papermill": {
     "duration": 0.100237,
     "end_time": "2022-01-18T08:21:42.351062",
     "exception": false,
     "start_time": "2022-01-18T08:21:42.250825",
     "status": "completed"
    },
    "tags": []
   },
   "outputs": [
    {
     "data": {
      "text/html": [
       "<div>\n",
       "<style scoped>\n",
       "    .dataframe tbody tr th:only-of-type {\n",
       "        vertical-align: middle;\n",
       "    }\n",
       "\n",
       "    .dataframe tbody tr th {\n",
       "        vertical-align: top;\n",
       "    }\n",
       "\n",
       "    .dataframe thead th {\n",
       "        text-align: right;\n",
       "    }\n",
       "</style>\n",
       "<table border=\"1\" class=\"dataframe\">\n",
       "  <thead>\n",
       "    <tr style=\"text-align: right;\">\n",
       "      <th></th>\n",
       "      <th>Unnamed: 0</th>\n",
       "      <th>customerEmail</th>\n",
       "      <th>transactionId</th>\n",
       "      <th>orderId</th>\n",
       "      <th>paymentMethodId</th>\n",
       "      <th>paymentMethodRegistrationFailure</th>\n",
       "      <th>paymentMethodType</th>\n",
       "      <th>paymentMethodProvider</th>\n",
       "      <th>transactionAmount</th>\n",
       "      <th>transactionFailed</th>\n",
       "      <th>orderState</th>\n",
       "    </tr>\n",
       "  </thead>\n",
       "  <tbody>\n",
       "    <tr>\n",
       "      <th>189</th>\n",
       "      <td>189</td>\n",
       "      <td>uguzman@yahoo.com</td>\n",
       "      <td>ftiso5mr</td>\n",
       "      <td>32rax6</td>\n",
       "      <td>73a2hlmnm</td>\n",
       "      <td>0</td>\n",
       "      <td>card</td>\n",
       "      <td>VISA 16 digit</td>\n",
       "      <td>353</td>\n",
       "      <td>1</td>\n",
       "      <td>fulfilled</td>\n",
       "    </tr>\n",
       "  </tbody>\n",
       "</table>\n",
       "</div>"
      ],
      "text/plain": [
       "     Unnamed: 0      customerEmail transactionId orderId paymentMethodId  \\\n",
       "189         189  uguzman@yahoo.com      ftiso5mr  32rax6       73a2hlmnm   \n",
       "\n",
       "     paymentMethodRegistrationFailure paymentMethodType paymentMethodProvider  \\\n",
       "189                                 0              card         VISA 16 digit   \n",
       "\n",
       "     transactionAmount  transactionFailed orderState  \n",
       "189                353                  1  fulfilled  "
      ]
     },
     "execution_count": 18,
     "metadata": {},
     "output_type": "execute_result"
    }
   ],
   "source": [
    "data2[data2['transactionAmount'] > 100]"
   ]
  },
  {
   "cell_type": "code",
   "execution_count": 19,
   "id": "bd0a3f09",
   "metadata": {
    "execution": {
     "iopub.execute_input": "2022-01-18T08:21:42.518709Z",
     "iopub.status.busy": "2022-01-18T08:21:42.517692Z",
     "iopub.status.idle": "2022-01-18T08:21:42.525557Z",
     "shell.execute_reply": "2022-01-18T08:21:42.526105Z",
     "shell.execute_reply.started": "2022-01-18T08:10:05.137819Z"
    },
    "id": "bd0a3f09",
    "papermill": {
     "duration": 0.093409,
     "end_time": "2022-01-18T08:21:42.526295",
     "exception": false,
     "start_time": "2022-01-18T08:21:42.432886",
     "status": "completed"
    },
    "tags": []
   },
   "outputs": [
    {
     "data": {
      "text/plain": [
       "55    True\n",
       "Name: Fraud, dtype: bool"
      ]
     },
     "execution_count": 19,
     "metadata": {},
     "output_type": "execute_result"
    }
   ],
   "source": [
    "data1[data1['customerEmail']=='uguzman@yahoo.com']['Fraud']"
   ]
  },
  {
   "cell_type": "markdown",
   "id": "b2dd541a",
   "metadata": {
    "id": "b2dd541a",
    "papermill": {
     "duration": 0.081134,
     "end_time": "2022-01-18T08:21:42.688939",
     "exception": false,
     "start_time": "2022-01-18T08:21:42.607805",
     "status": "completed"
    },
    "tags": []
   },
   "source": [
    "### Result\n",
    "There is 1 transaction above 100 USD and also is Fraud"
   ]
  },
  {
   "cell_type": "markdown",
   "id": "726bef2c",
   "metadata": {
    "id": "726bef2c",
    "papermill": {
     "duration": 0.082269,
     "end_time": "2022-01-18T08:21:42.854634",
     "exception": false,
     "start_time": "2022-01-18T08:21:42.772365",
     "status": "completed"
    },
    "tags": []
   },
   "source": [
    "## Comparasion fraud & non fraud transactions"
   ]
  },
  {
   "cell_type": "code",
   "execution_count": 20,
   "id": "74f60ae9",
   "metadata": {
    "execution": {
     "iopub.execute_input": "2022-01-18T08:21:43.024317Z",
     "iopub.status.busy": "2022-01-18T08:21:43.023313Z",
     "iopub.status.idle": "2022-01-18T08:21:43.187908Z",
     "shell.execute_reply": "2022-01-18T08:21:43.188542Z",
     "shell.execute_reply.started": "2022-01-18T08:10:05.151804Z"
    },
    "id": "74f60ae9",
    "papermill": {
     "duration": 0.251509,
     "end_time": "2022-01-18T08:21:43.188721",
     "exception": false,
     "start_time": "2022-01-18T08:21:42.937212",
     "status": "completed"
    },
    "tags": []
   },
   "outputs": [
    {
     "data": {
      "image/png": "[encoded data removed]",
      "text/plain": [
       "<Figure size 800x550 with 1 Axes>"
      ]
     },
     "metadata": {},
     "output_type": "display_data"
    }
   ],
   "source": [
    "sns.countplot(x= 'Fraud',data=data1)\n",
    "ax = plt.gca()\n",
    "\n",
    "# Iterate through the list of axes' patches\n",
    "for p in ax.patches:\n",
    "    height = np.nan_to_num(p.get_height(), 0)\n",
    "    ax.text(p.get_x()+0.4, p.get_y() + height, '%d' % height, \n",
    "            fontsize=15, ha='center', va='bottom')\n",
    "plt.show()"
   ]
  },
  {
   "cell_type": "markdown",
   "id": "9907bd1f",
   "metadata": {
    "id": "9907bd1f",
    "papermill": {
     "duration": 0.082889,
     "end_time": "2022-01-18T08:21:43.353674",
     "exception": false,
     "start_time": "2022-01-18T08:21:43.270785",
     "status": "completed"
    },
    "tags": []
   },
   "source": [
    "## Feature Engineering\n",
    "\n",
    "we join the data2 with the data1 because we want to see a pattern for fraud"
   ]
  },
  {
   "cell_type": "code",
   "execution_count": 21,
   "id": "530382a5",
   "metadata": {
    "execution": {
     "iopub.execute_input": "2022-01-18T08:21:43.522391Z",
     "iopub.status.busy": "2022-01-18T08:21:43.521415Z",
     "iopub.status.idle": "2022-01-18T08:21:43.528810Z",
     "shell.execute_reply": "2022-01-18T08:21:43.529443Z",
     "shell.execute_reply.started": "2022-01-18T08:10:05.250082Z"
    },
    "id": "530382a5",
    "papermill": {
     "duration": 0.093742,
     "end_time": "2022-01-18T08:21:43.529609",
     "exception": false,
     "start_time": "2022-01-18T08:21:43.435867",
     "status": "completed"
    },
    "tags": []
   },
   "outputs": [
    {
     "data": {
      "text/plain": [
       "(143, 10)"
      ]
     },
     "execution_count": 21,
     "metadata": {},
     "output_type": "execute_result"
    }
   ],
   "source": [
    "final = data1[data1['customerEmail'].isin(data2['customerEmail'])== True].reset_index(drop=True)\n",
    "final.shape"
   ]
  },
  {
   "cell_type": "code",
   "execution_count": 22,
   "id": "146edd8a",
   "metadata": {
    "execution": {
     "iopub.execute_input": "2022-01-18T08:21:43.708957Z",
     "iopub.status.busy": "2022-01-18T08:21:43.698073Z",
     "iopub.status.idle": "2022-01-18T08:21:43.711207Z",
     "shell.execute_reply": "2022-01-18T08:21:43.711687Z",
     "shell.execute_reply.started": "2022-01-18T08:10:05.261355Z"
    },
    "id": "146edd8a",
    "papermill": {
     "duration": 0.099483,
     "end_time": "2022-01-18T08:21:43.711862",
     "exception": false,
     "start_time": "2022-01-18T08:21:43.612379",
     "status": "completed"
    },
    "tags": []
   },
   "outputs": [
    {
     "data": {
      "text/html": [
       "<div>\n",
       "<style scoped>\n",
       "    .dataframe tbody tr th:only-of-type {\n",
       "        vertical-align: middle;\n",
       "    }\n",
       "\n",
       "    .dataframe tbody tr th {\n",
       "        vertical-align: top;\n",
       "    }\n",
       "\n",
       "    .dataframe thead th {\n",
       "        text-align: right;\n",
       "    }\n",
       "</style>\n",
       "<table border=\"1\" class=\"dataframe\">\n",
       "  <thead>\n",
       "    <tr style=\"text-align: right;\">\n",
       "      <th></th>\n",
       "      <th>Unnamed: 0</th>\n",
       "      <th>customerEmail</th>\n",
       "      <th>customerPhone</th>\n",
       "      <th>customerDevice</th>\n",
       "      <th>customerIPAddress</th>\n",
       "      <th>customerBillingAddress</th>\n",
       "      <th>No_Transactions</th>\n",
       "      <th>No_Orders</th>\n",
       "      <th>No_Payments</th>\n",
       "      <th>Fraud</th>\n",
       "    </tr>\n",
       "  </thead>\n",
       "  <tbody>\n",
       "    <tr>\n",
       "      <th>0</th>\n",
       "      <td>0</td>\n",
       "      <td>josephhoward@yahoo.com</td>\n",
       "      <td>400-108-5415</td>\n",
       "      <td>yyeiaxpltf82440jnb3v</td>\n",
       "      <td>8.129.104.40</td>\n",
       "      <td>5493 Jones Islands\\nBrownside, CA 51896</td>\n",
       "      <td>2</td>\n",
       "      <td>2</td>\n",
       "      <td>1</td>\n",
       "      <td>False</td>\n",
       "    </tr>\n",
       "    <tr>\n",
       "      <th>1</th>\n",
       "      <td>1</td>\n",
       "      <td>evansjeffery@yahoo.com</td>\n",
       "      <td>1-788-091-7546</td>\n",
       "      <td>r0jpm7xaeqqa3kr6mzum</td>\n",
       "      <td>219.173.211.202</td>\n",
       "      <td>356 Elizabeth Inlet Suite 120\\nPort Joshuabury...</td>\n",
       "      <td>3</td>\n",
       "      <td>3</td>\n",
       "      <td>7</td>\n",
       "      <td>True</td>\n",
       "    </tr>\n",
       "    <tr>\n",
       "      <th>2</th>\n",
       "      <td>2</td>\n",
       "      <td>andersonwilliam@yahoo.com</td>\n",
       "      <td>024.420.0375</td>\n",
       "      <td>4m7h5ipl1shyavt6vv2r</td>\n",
       "      <td>67b7:3db8:67e0:3bea:b9d0:90c1:2b60:b9f0</td>\n",
       "      <td>8478 Sean Ridges Apt. 441\\nDavisberg, PR 72250</td>\n",
       "      <td>5</td>\n",
       "      <td>3</td>\n",
       "      <td>2</td>\n",
       "      <td>False</td>\n",
       "    </tr>\n",
       "    <tr>\n",
       "      <th>3</th>\n",
       "      <td>3</td>\n",
       "      <td>rubenjuarez@yahoo.com</td>\n",
       "      <td>670.664.8168x94985</td>\n",
       "      <td>slovx60t0i558may4ks0</td>\n",
       "      <td>95de:8565:5a66:792c:26e0:6cfb:7d87:11af</td>\n",
       "      <td>7769 Elizabeth Bridge Apt. 343\\nNortonstad, FM...</td>\n",
       "      <td>3</td>\n",
       "      <td>3</td>\n",
       "      <td>1</td>\n",
       "      <td>False</td>\n",
       "    </tr>\n",
       "    <tr>\n",
       "      <th>4</th>\n",
       "      <td>4</td>\n",
       "      <td>uchen@malone.com</td>\n",
       "      <td>1-981-877-0870</td>\n",
       "      <td>j0pd24k5h8dl2fqu0cz4</td>\n",
       "      <td>196.89.235.192</td>\n",
       "      <td>148 Russell Lodge Apt. 445\\nPort Jenniferside,...</td>\n",
       "      <td>7</td>\n",
       "      <td>7</td>\n",
       "      <td>6</td>\n",
       "      <td>True</td>\n",
       "    </tr>\n",
       "  </tbody>\n",
       "</table>\n",
       "</div>"
      ],
      "text/plain": [
       "   Unnamed: 0              customerEmail       customerPhone  \\\n",
       "0           0     josephhoward@yahoo.com        400-108-5415   \n",
       "1           1     evansjeffery@yahoo.com      1-788-091-7546   \n",
       "2           2  andersonwilliam@yahoo.com        024.420.0375   \n",
       "3           3      rubenjuarez@yahoo.com  670.664.8168x94985   \n",
       "4           4           uchen@malone.com      1-981-877-0870   \n",
       "\n",
       "         customerDevice                        customerIPAddress  \\\n",
       "0  yyeiaxpltf82440jnb3v                             8.129.104.40   \n",
       "1  r0jpm7xaeqqa3kr6mzum                          219.173.211.202   \n",
       "2  4m7h5ipl1shyavt6vv2r  67b7:3db8:67e0:3bea:b9d0:90c1:2b60:b9f0   \n",
       "3  slovx60t0i558may4ks0  95de:8565:5a66:792c:26e0:6cfb:7d87:11af   \n",
       "4  j0pd24k5h8dl2fqu0cz4                           196.89.235.192   \n",
       "\n",
       "                              customerBillingAddress  No_Transactions  \\\n",
       "0            5493 Jones Islands\\nBrownside, CA 51896                2   \n",
       "1  356 Elizabeth Inlet Suite 120\\nPort Joshuabury...                3   \n",
       "2     8478 Sean Ridges Apt. 441\\nDavisberg, PR 72250                5   \n",
       "3  7769 Elizabeth Bridge Apt. 343\\nNortonstad, FM...                3   \n",
       "4  148 Russell Lodge Apt. 445\\nPort Jenniferside,...                7   \n",
       "\n",
       "   No_Orders  No_Payments  Fraud  \n",
       "0          2            1  False  \n",
       "1          3            7   True  \n",
       "2          3            2  False  \n",
       "3          3            1  False  \n",
       "4          7            6   True  "
      ]
     },
     "execution_count": 22,
     "metadata": {},
     "output_type": "execute_result"
    }
   ],
   "source": [
    "final.head()"
   ]
  },
  {
   "cell_type": "markdown",
   "id": "304469d1",
   "metadata": {
    "id": "304469d1",
    "papermill": {
     "duration": 0.084678,
     "end_time": "2022-01-18T08:21:43.880279",
     "exception": false,
     "start_time": "2022-01-18T08:21:43.795601",
     "status": "completed"
    },
    "tags": []
   },
   "source": [
    "we drop columns that have no effect"
   ]
  },
  {
   "cell_type": "code",
   "execution_count": 23,
   "id": "1653b082",
   "metadata": {
    "execution": {
     "iopub.execute_input": "2022-01-18T08:21:44.050259Z",
     "iopub.status.busy": "2022-01-18T08:21:44.049562Z",
     "iopub.status.idle": "2022-01-18T08:21:44.054201Z",
     "shell.execute_reply": "2022-01-18T08:21:44.054731Z",
     "shell.execute_reply.started": "2022-01-18T08:10:05.279308Z"
    },
    "id": "1653b082",
    "papermill": {
     "duration": 0.091008,
     "end_time": "2022-01-18T08:21:44.054907",
     "exception": false,
     "start_time": "2022-01-18T08:21:43.963899",
     "status": "completed"
    },
    "tags": []
   },
   "outputs": [],
   "source": [
    "final.drop('Unnamed: 0',axis = 1, inplace = True)"
   ]
  },
  {
   "cell_type": "code",
   "execution_count": 24,
   "id": "2a089724",
   "metadata": {
    "execution": {
     "iopub.execute_input": "2022-01-18T08:21:44.258761Z",
     "iopub.status.busy": "2022-01-18T08:21:44.248348Z",
     "iopub.status.idle": "2022-01-18T08:21:45.603169Z",
     "shell.execute_reply": "2022-01-18T08:21:45.602592Z",
     "shell.execute_reply.started": "2022-01-18T08:10:05.289022Z"
    },
    "id": "2a089724",
    "papermill": {
     "duration": 1.464741,
     "end_time": "2022-01-18T08:21:45.603354",
     "exception": false,
     "start_time": "2022-01-18T08:21:44.138613",
     "status": "completed"
    },
    "tags": []
   },
   "outputs": [],
   "source": [
    "# Total Failed transactions per customer\n",
    "No_transactionsFail = []\n",
    "for i in range(0,143):\n",
    "    s=0\n",
    "    for j in range(0,623):\n",
    "        if(final['customerEmail'][i]==data2['customerEmail'][j]):\n",
    "            s += data2['transactionFailed'][j]\n",
    "    No_transactionsFail.append(s)\n",
    "final['No_transactionsFail'] = No_transactionsFail"
   ]
  },
  {
   "cell_type": "code",
   "execution_count": 25,
   "id": "f519fc47",
   "metadata": {
    "execution": {
     "iopub.execute_input": "2022-01-18T08:21:45.779574Z",
     "iopub.status.busy": "2022-01-18T08:21:45.778767Z",
     "iopub.status.idle": "2022-01-18T08:21:47.133208Z",
     "shell.execute_reply": "2022-01-18T08:21:47.133718Z",
     "shell.execute_reply.started": "2022-01-18T08:10:06.352598Z"
    },
    "id": "f519fc47",
    "papermill": {
     "duration": 1.446744,
     "end_time": "2022-01-18T08:21:47.133904",
     "exception": false,
     "start_time": "2022-01-18T08:21:45.687160",
     "status": "completed"
    },
    "tags": []
   },
   "outputs": [],
   "source": [
    "# Total Amount for all transactions per customer\n",
    "Total_transaction_amt = []\n",
    "for i in range(0,143):\n",
    "    s=0\n",
    "    for j in range(0,623):\n",
    "        if(final['customerEmail'][i]==data2['customerEmail'][j]):\n",
    "            s += data2['transactionAmount'][j]\n",
    "    Total_transaction_amt.append(s)   \n",
    "final['Total_transaction_amt'] = Total_transaction_amt"
   ]
  },
  {
   "cell_type": "code",
   "execution_count": 26,
   "id": "c5c2b559",
   "metadata": {
    "execution": {
     "iopub.execute_input": "2022-01-18T08:21:47.311802Z",
     "iopub.status.busy": "2022-01-18T08:21:47.311106Z",
     "iopub.status.idle": "2022-01-18T08:21:48.662837Z",
     "shell.execute_reply": "2022-01-18T08:21:48.662268Z",
     "shell.execute_reply.started": "2022-01-18T08:10:07.368399Z"
    },
    "id": "c5c2b559",
    "papermill": {
     "duration": 1.444204,
     "end_time": "2022-01-18T08:21:48.663014",
     "exception": false,
     "start_time": "2022-01-18T08:21:47.218810",
     "status": "completed"
    },
    "tags": []
   },
   "outputs": [],
   "source": [
    "# Total number of payment method registrantion failure per customer\n",
    "paymentRegFailure = []\n",
    "for i in range(0,143):\n",
    "    s=0\n",
    "    for j in range(0,623):\n",
    "        if(final['customerEmail'][i]==data2['customerEmail'][j]):\n",
    "            s += data2['paymentMethodRegistrationFailure'][j]\n",
    "    paymentRegFailure.append(s)   \n",
    "final['PaymentRegFail'] = paymentRegFailure"
   ]
  },
  {
   "cell_type": "code",
   "execution_count": 27,
   "id": "0b8fe8ab",
   "metadata": {
    "execution": {
     "iopub.execute_input": "2022-01-18T08:21:48.837781Z",
     "iopub.status.busy": "2022-01-18T08:21:48.836734Z",
     "iopub.status.idle": "2022-01-18T08:21:48.839026Z",
     "shell.execute_reply": "2022-01-18T08:21:48.839685Z",
     "shell.execute_reply.started": "2022-01-18T08:10:09.107804Z"
    },
    "id": "0b8fe8ab",
    "papermill": {
     "duration": 0.093181,
     "end_time": "2022-01-18T08:21:48.839866",
     "exception": false,
     "start_time": "2022-01-18T08:21:48.746685",
     "status": "completed"
    },
    "tags": []
   },
   "outputs": [],
   "source": [
    "# Encoding columns to convert from categorical to numerical\n",
    "def col_make(column_name,category):\n",
    "    array = []\n",
    "    for i in range(0,143):\n",
    "        s=0\n",
    "        for j in range(0,623):\n",
    "            if(final['customerEmail'][i]==data2['customerEmail'][j]):\n",
    "                if data2[column_name][j]==category:\n",
    "                    s+=1\n",
    "        array.append(s)\n",
    "    return array "
   ]
  },
  {
   "cell_type": "code",
   "execution_count": 28,
   "id": "dd1385c6",
   "metadata": {
    "execution": {
     "iopub.execute_input": "2022-01-18T08:21:49.010510Z",
     "iopub.status.busy": "2022-01-18T08:21:49.009402Z",
     "iopub.status.idle": "2022-01-18T08:21:54.331455Z",
     "shell.execute_reply": "2022-01-18T08:21:54.330836Z",
     "shell.execute_reply.started": "2022-01-18T08:10:09.115150Z"
    },
    "id": "dd1385c6",
    "papermill": {
     "duration": 5.408569,
     "end_time": "2022-01-18T08:21:54.331634",
     "exception": false,
     "start_time": "2022-01-18T08:21:48.923065",
     "status": "completed"
    },
    "tags": []
   },
   "outputs": [],
   "source": [
    "# Encoding Payment Methods to Paypal/Apple/Bitcoin/Card\n",
    "PaypalPayments = col_make('paymentMethodType','paypal')\n",
    "ApplePayments = col_make('paymentMethodType','apple pay')\n",
    "BitcoinPayments = col_make('paymentMethodType','bitcoin')\n",
    "CardPayments = col_make('paymentMethodType','card')\n",
    "\n",
    "final['PaypalPayments']= PaypalPayments\n",
    "final['ApplePayments']= ApplePayments\n",
    "final['CardPayments']= CardPayments\n",
    "final['BitcoinPayments']= BitcoinPayments"
   ]
  },
  {
   "cell_type": "code",
   "execution_count": 29,
   "id": "96c7ffbc",
   "metadata": {
    "execution": {
     "iopub.execute_input": "2022-01-18T08:21:54.503535Z",
     "iopub.status.busy": "2022-01-18T08:21:54.502481Z",
     "iopub.status.idle": "2022-01-18T08:21:58.527972Z",
     "shell.execute_reply": "2022-01-18T08:21:58.527340Z",
     "shell.execute_reply.started": "2022-01-18T08:10:15.924156Z"
    },
    "id": "96c7ffbc",
    "papermill": {
     "duration": 4.113259,
     "end_time": "2022-01-18T08:21:58.528113",
     "exception": false,
     "start_time": "2022-01-18T08:21:54.414854",
     "status": "completed"
    },
    "tags": []
   },
   "outputs": [],
   "source": [
    "# Encoding Order State to fulfilled/failed/pending\n",
    "OrdersFulfilled = col_make('orderState','fulfilled')\n",
    "OrdersFailed =  col_make('orderState','failed')\n",
    "OrdersPending = col_make('orderState','pending')\n",
    "\n",
    "final['OrdersFulfilled'] = OrdersFulfilled\n",
    "final['OrdersPending'] = OrdersPending\n",
    "final['OrdersFailed'] = OrdersFailed"
   ]
  },
  {
   "cell_type": "code",
   "execution_count": 30,
   "id": "9df0fbdf",
   "metadata": {
    "execution": {
     "iopub.execute_input": "2022-01-18T08:21:58.714956Z",
     "iopub.status.busy": "2022-01-18T08:21:58.713917Z",
     "iopub.status.idle": "2022-01-18T08:22:12.113511Z",
     "shell.execute_reply": "2022-01-18T08:22:12.112903Z",
     "shell.execute_reply.started": "2022-01-18T08:10:19.793332Z"
    },
    "id": "9df0fbdf",
    "papermill": {
     "duration": 13.501955,
     "end_time": "2022-01-18T08:22:12.113660",
     "exception": false,
     "start_time": "2022-01-18T08:21:58.611705",
     "status": "completed"
    },
    "tags": []
   },
   "outputs": [],
   "source": [
    "# Encoding Provider to JCB 16 digit / American Express / VISA 16 digit / Discover / Voyager / VISA 13 digit / Maestro / Mastercard / Carte Blanche / JCB 15 digit\n",
    "JCB_16 = col_make('paymentMethodProvider','JCB 16 digit')\n",
    "AmericanExp = col_make('paymentMethodProvider','American Express')\n",
    "VISA_16 =  col_make('paymentMethodProvider','VISA 16 digit')\n",
    "Discover =  col_make('paymentMethodProvider','Discover')\n",
    "Voyager = col_make('paymentMethodProvider','Voyager')\n",
    "VISA_13 = col_make('paymentMethodProvider','VISA 13 digit')\n",
    "Maestro = col_make('paymentMethodProvider','Maestro')\n",
    "Mastercard = col_make('paymentMethodProvider','Mastercard')\n",
    "DC_CB =col_make('paymentMethodProvider','Diners Club / Carte Blanche')\n",
    "JCB_15= col_make('paymentMethodProvider','JCB 15 digit')\n",
    "\n",
    "final['JCB_16'] = JCB_16\n",
    "final['AmericanExp'] = AmericanExp \n",
    "final['VISA_16'] = VISA_16 \n",
    "final['Discover'] = Discover\n",
    "final['Voyager'] = Voyager \n",
    "final['VISA_13'] = VISA_13\n",
    "final['Maestro'] = Maestro \n",
    "final['Mastercard'] = Mastercard\n",
    "final['DC_CB'] = DC_CB \n",
    "final['JCB_15'] = JCB_15"
   ]
  },
  {
   "cell_type": "code",
   "execution_count": 31,
   "id": "71fd97f9",
   "metadata": {
    "execution": {
     "iopub.execute_input": "2022-01-18T08:22:12.290278Z",
     "iopub.status.busy": "2022-01-18T08:22:12.289289Z",
     "iopub.status.idle": "2022-01-18T08:22:13.637733Z",
     "shell.execute_reply": "2022-01-18T08:22:13.638219Z",
     "shell.execute_reply.started": "2022-01-18T08:10:29.674849Z"
    },
    "id": "71fd97f9",
    "papermill": {
     "duration": 1.440996,
     "end_time": "2022-01-18T08:22:13.638434",
     "exception": false,
     "start_time": "2022-01-18T08:22:12.197438",
     "status": "completed"
    },
    "tags": []
   },
   "outputs": [],
   "source": [
    "# Total number of failed orders\n",
    "Trns_fail_order_fulfilled = []\n",
    "for i in range(0,143):\n",
    "    s=0\n",
    "    for j in range(0,623):\n",
    "        if(final['customerEmail'][i]==data2['customerEmail'][j]):\n",
    "            if (data2['orderState'][j]=='fulfilled') & (data2['transactionFailed'][j]==1):\n",
    "                s+=1\n",
    "    Trns_fail_order_fulfilled.append(s)\n",
    "final['Trns_fail_order_fulfilled'] = Trns_fail_order_fulfilled"
   ]
  },
  {
   "cell_type": "code",
   "execution_count": 32,
   "id": "3d7ecde5",
   "metadata": {
    "execution": {
     "iopub.execute_input": "2022-01-18T08:22:13.812723Z",
     "iopub.status.busy": "2022-01-18T08:22:13.811614Z",
     "iopub.status.idle": "2022-01-18T08:22:13.831384Z",
     "shell.execute_reply": "2022-01-18T08:22:13.831934Z",
     "shell.execute_reply.started": "2022-01-18T08:10:30.687348Z"
    },
    "id": "3d7ecde5",
    "papermill": {
     "duration": 0.109609,
     "end_time": "2022-01-18T08:22:13.832110",
     "exception": false,
     "start_time": "2022-01-18T08:22:13.722501",
     "status": "completed"
    },
    "tags": []
   },
   "outputs": [
    {
     "data": {
      "text/html": [
       "<div>\n",
       "<style scoped>\n",
       "    .dataframe tbody tr th:only-of-type {\n",
       "        vertical-align: middle;\n",
       "    }\n",
       "\n",
       "    .dataframe tbody tr th {\n",
       "        vertical-align: top;\n",
       "    }\n",
       "\n",
       "    .dataframe thead th {\n",
       "        text-align: right;\n",
       "    }\n",
       "</style>\n",
       "<table border=\"1\" class=\"dataframe\">\n",
       "  <thead>\n",
       "    <tr style=\"text-align: right;\">\n",
       "      <th></th>\n",
       "      <th>customerEmail</th>\n",
       "      <th>customerPhone</th>\n",
       "      <th>customerDevice</th>\n",
       "      <th>customerIPAddress</th>\n",
       "      <th>customerBillingAddress</th>\n",
       "      <th>No_Transactions</th>\n",
       "      <th>No_Orders</th>\n",
       "      <th>No_Payments</th>\n",
       "      <th>Fraud</th>\n",
       "      <th>No_transactionsFail</th>\n",
       "      <th>...</th>\n",
       "      <th>AmericanExp</th>\n",
       "      <th>VISA_16</th>\n",
       "      <th>Discover</th>\n",
       "      <th>Voyager</th>\n",
       "      <th>VISA_13</th>\n",
       "      <th>Maestro</th>\n",
       "      <th>Mastercard</th>\n",
       "      <th>DC_CB</th>\n",
       "      <th>JCB_15</th>\n",
       "      <th>Trns_fail_order_fulfilled</th>\n",
       "    </tr>\n",
       "  </thead>\n",
       "  <tbody>\n",
       "    <tr>\n",
       "      <th>0</th>\n",
       "      <td>josephhoward@yahoo.com</td>\n",
       "      <td>400-108-5415</td>\n",
       "      <td>yyeiaxpltf82440jnb3v</td>\n",
       "      <td>8.129.104.40</td>\n",
       "      <td>5493 Jones Islands\\nBrownside, CA 51896</td>\n",
       "      <td>2</td>\n",
       "      <td>2</td>\n",
       "      <td>1</td>\n",
       "      <td>False</td>\n",
       "      <td>0</td>\n",
       "      <td>...</td>\n",
       "      <td>0</td>\n",
       "      <td>0</td>\n",
       "      <td>0</td>\n",
       "      <td>0</td>\n",
       "      <td>0</td>\n",
       "      <td>0</td>\n",
       "      <td>0</td>\n",
       "      <td>0</td>\n",
       "      <td>0</td>\n",
       "      <td>0</td>\n",
       "    </tr>\n",
       "    <tr>\n",
       "      <th>1</th>\n",
       "      <td>evansjeffery@yahoo.com</td>\n",
       "      <td>1-788-091-7546</td>\n",
       "      <td>r0jpm7xaeqqa3kr6mzum</td>\n",
       "      <td>219.173.211.202</td>\n",
       "      <td>356 Elizabeth Inlet Suite 120\\nPort Joshuabury...</td>\n",
       "      <td>3</td>\n",
       "      <td>3</td>\n",
       "      <td>7</td>\n",
       "      <td>True</td>\n",
       "      <td>1</td>\n",
       "      <td>...</td>\n",
       "      <td>2</td>\n",
       "      <td>1</td>\n",
       "      <td>0</td>\n",
       "      <td>0</td>\n",
       "      <td>0</td>\n",
       "      <td>0</td>\n",
       "      <td>0</td>\n",
       "      <td>0</td>\n",
       "      <td>0</td>\n",
       "      <td>1</td>\n",
       "    </tr>\n",
       "    <tr>\n",
       "      <th>2</th>\n",
       "      <td>andersonwilliam@yahoo.com</td>\n",
       "      <td>024.420.0375</td>\n",
       "      <td>4m7h5ipl1shyavt6vv2r</td>\n",
       "      <td>67b7:3db8:67e0:3bea:b9d0:90c1:2b60:b9f0</td>\n",
       "      <td>8478 Sean Ridges Apt. 441\\nDavisberg, PR 72250</td>\n",
       "      <td>5</td>\n",
       "      <td>3</td>\n",
       "      <td>2</td>\n",
       "      <td>False</td>\n",
       "      <td>2</td>\n",
       "      <td>...</td>\n",
       "      <td>0</td>\n",
       "      <td>0</td>\n",
       "      <td>1</td>\n",
       "      <td>0</td>\n",
       "      <td>0</td>\n",
       "      <td>0</td>\n",
       "      <td>0</td>\n",
       "      <td>0</td>\n",
       "      <td>0</td>\n",
       "      <td>2</td>\n",
       "    </tr>\n",
       "    <tr>\n",
       "      <th>3</th>\n",
       "      <td>rubenjuarez@yahoo.com</td>\n",
       "      <td>670.664.8168x94985</td>\n",
       "      <td>slovx60t0i558may4ks0</td>\n",
       "      <td>95de:8565:5a66:792c:26e0:6cfb:7d87:11af</td>\n",
       "      <td>7769 Elizabeth Bridge Apt. 343\\nNortonstad, FM...</td>\n",
       "      <td>3</td>\n",
       "      <td>3</td>\n",
       "      <td>1</td>\n",
       "      <td>False</td>\n",
       "      <td>0</td>\n",
       "      <td>...</td>\n",
       "      <td>0</td>\n",
       "      <td>0</td>\n",
       "      <td>0</td>\n",
       "      <td>3</td>\n",
       "      <td>0</td>\n",
       "      <td>0</td>\n",
       "      <td>0</td>\n",
       "      <td>0</td>\n",
       "      <td>0</td>\n",
       "      <td>0</td>\n",
       "    </tr>\n",
       "    <tr>\n",
       "      <th>4</th>\n",
       "      <td>uchen@malone.com</td>\n",
       "      <td>1-981-877-0870</td>\n",
       "      <td>j0pd24k5h8dl2fqu0cz4</td>\n",
       "      <td>196.89.235.192</td>\n",
       "      <td>148 Russell Lodge Apt. 445\\nPort Jenniferside,...</td>\n",
       "      <td>7</td>\n",
       "      <td>7</td>\n",
       "      <td>6</td>\n",
       "      <td>True</td>\n",
       "      <td>2</td>\n",
       "      <td>...</td>\n",
       "      <td>1</td>\n",
       "      <td>2</td>\n",
       "      <td>0</td>\n",
       "      <td>0</td>\n",
       "      <td>1</td>\n",
       "      <td>0</td>\n",
       "      <td>0</td>\n",
       "      <td>0</td>\n",
       "      <td>0</td>\n",
       "      <td>2</td>\n",
       "    </tr>\n",
       "  </tbody>\n",
       "</table>\n",
       "<p>5 rows × 30 columns</p>\n",
       "</div>"
      ],
      "text/plain": [
       "               customerEmail       customerPhone        customerDevice  \\\n",
       "0     josephhoward@yahoo.com        400-108-5415  yyeiaxpltf82440jnb3v   \n",
       "1     evansjeffery@yahoo.com      1-788-091-7546  r0jpm7xaeqqa3kr6mzum   \n",
       "2  andersonwilliam@yahoo.com        024.420.0375  4m7h5ipl1shyavt6vv2r   \n",
       "3      rubenjuarez@yahoo.com  670.664.8168x94985  slovx60t0i558may4ks0   \n",
       "4           uchen@malone.com      1-981-877-0870  j0pd24k5h8dl2fqu0cz4   \n",
       "\n",
       "                         customerIPAddress  \\\n",
       "0                             8.129.104.40   \n",
       "1                          219.173.211.202   \n",
       "2  67b7:3db8:67e0:3bea:b9d0:90c1:2b60:b9f0   \n",
       "3  95de:8565:5a66:792c:26e0:6cfb:7d87:11af   \n",
       "4                           196.89.235.192   \n",
       "\n",
       "                              customerBillingAddress  No_Transactions  \\\n",
       "0            5493 Jones Islands\\nBrownside, CA 51896                2   \n",
       "1  356 Elizabeth Inlet Suite 120\\nPort Joshuabury...                3   \n",
       "2     8478 Sean Ridges Apt. 441\\nDavisberg, PR 72250                5   \n",
       "3  7769 Elizabeth Bridge Apt. 343\\nNortonstad, FM...                3   \n",
       "4  148 Russell Lodge Apt. 445\\nPort Jenniferside,...                7   \n",
       "\n",
       "   No_Orders  No_Payments  Fraud  No_transactionsFail  ...  AmericanExp  \\\n",
       "0          2            1  False                    0  ...            0   \n",
       "1          3            7   True                    1  ...            2   \n",
       "2          3            2  False                    2  ...            0   \n",
       "3          3            1  False                    0  ...            0   \n",
       "4          7            6   True                    2  ...            1   \n",
       "\n",
       "   VISA_16  Discover  Voyager  VISA_13  Maestro  Mastercard  DC_CB  JCB_15  \\\n",
       "0        0         0        0        0        0           0      0       0   \n",
       "1        1         0        0        0        0           0      0       0   \n",
       "2        0         1        0        0        0           0      0       0   \n",
       "3        0         0        3        0        0           0      0       0   \n",
       "4        2         0        0        1        0           0      0       0   \n",
       "\n",
       "   Trns_fail_order_fulfilled  \n",
       "0                          0  \n",
       "1                          1  \n",
       "2                          2  \n",
       "3                          0  \n",
       "4                          2  \n",
       "\n",
       "[5 rows x 30 columns]"
      ]
     },
     "execution_count": 32,
     "metadata": {},
     "output_type": "execute_result"
    }
   ],
   "source": [
    "final.head()"
   ]
  },
  {
   "cell_type": "code",
   "execution_count": 33,
   "id": "bef48ca8",
   "metadata": {
    "execution": {
     "iopub.execute_input": "2022-01-18T08:22:14.006168Z",
     "iopub.status.busy": "2022-01-18T08:22:14.005522Z",
     "iopub.status.idle": "2022-01-18T08:22:14.312301Z",
     "shell.execute_reply": "2022-01-18T08:22:14.311651Z",
     "shell.execute_reply.started": "2022-01-18T08:10:30.708386Z"
    },
    "id": "bef48ca8",
    "papermill": {
     "duration": 0.395186,
     "end_time": "2022-01-18T08:22:14.312449",
     "exception": false,
     "start_time": "2022-01-18T08:22:13.917263",
     "status": "completed"
    },
    "tags": []
   },
   "outputs": [],
   "source": [
    "# Check duplication for the IP address\n",
    "Duplicate_IP = []\n",
    "for i in range(0,143):\n",
    "    s=0\n",
    "    for j in range(0,143):\n",
    "        if(final['customerIPAddress'][i]==final['customerIPAddress'][j]):\n",
    "            s+=1\n",
    "    s-=1        \n",
    "    Duplicate_IP.append(s)\n",
    "final['Duplicate_IP'] = Duplicate_IP"
   ]
  },
  {
   "cell_type": "code",
   "execution_count": 34,
   "id": "5a7b676a",
   "metadata": {
    "execution": {
     "iopub.execute_input": "2022-01-18T08:22:14.491754Z",
     "iopub.status.busy": "2022-01-18T08:22:14.491008Z",
     "iopub.status.idle": "2022-01-18T08:22:14.794149Z",
     "shell.execute_reply": "2022-01-18T08:22:14.793524Z",
     "shell.execute_reply.started": "2022-01-18T08:10:30.942901Z"
    },
    "id": "5a7b676a",
    "papermill": {
     "duration": 0.397369,
     "end_time": "2022-01-18T08:22:14.794314",
     "exception": false,
     "start_time": "2022-01-18T08:22:14.396945",
     "status": "completed"
    },
    "tags": []
   },
   "outputs": [],
   "source": [
    "# Check duplication for the billing address\n",
    "Duplicate_Address = []\n",
    "for i in range(0,143):\n",
    "    s=0\n",
    "    for j in range(0,143):\n",
    "        if(final['customerBillingAddress'][i]==final['customerBillingAddress'][j]):\n",
    "            s+=1\n",
    "    s-=1        \n",
    "    Duplicate_Address.append(s)\n",
    "final['Duplicate_Address']=Duplicate_Address"
   ]
  },
  {
   "cell_type": "code",
   "execution_count": 35,
   "id": "f2b01edf",
   "metadata": {
    "execution": {
     "iopub.execute_input": "2022-01-18T08:22:14.974608Z",
     "iopub.status.busy": "2022-01-18T08:22:14.973912Z",
     "iopub.status.idle": "2022-01-18T08:22:14.998150Z",
     "shell.execute_reply": "2022-01-18T08:22:14.998774Z",
     "shell.execute_reply.started": "2022-01-18T08:10:31.173555Z"
    },
    "id": "f2b01edf",
    "papermill": {
     "duration": 0.119113,
     "end_time": "2022-01-18T08:22:14.998945",
     "exception": false,
     "start_time": "2022-01-18T08:22:14.879832",
     "status": "completed"
    },
    "scrolled": true,
    "tags": []
   },
   "outputs": [
    {
     "data": {
      "text/html": [
       "<div>\n",
       "<style scoped>\n",
       "    .dataframe tbody tr th:only-of-type {\n",
       "        vertical-align: middle;\n",
       "    }\n",
       "\n",
       "    .dataframe tbody tr th {\n",
       "        vertical-align: top;\n",
       "    }\n",
       "\n",
       "    .dataframe thead th {\n",
       "        text-align: right;\n",
       "    }\n",
       "</style>\n",
       "<table border=\"1\" class=\"dataframe\">\n",
       "  <thead>\n",
       "    <tr style=\"text-align: right;\">\n",
       "      <th></th>\n",
       "      <th>customerEmail</th>\n",
       "      <th>customerPhone</th>\n",
       "      <th>customerDevice</th>\n",
       "      <th>customerIPAddress</th>\n",
       "      <th>customerBillingAddress</th>\n",
       "      <th>No_Transactions</th>\n",
       "      <th>No_Orders</th>\n",
       "      <th>No_Payments</th>\n",
       "      <th>No_transactionsFail</th>\n",
       "      <th>Total_transaction_amt</th>\n",
       "      <th>...</th>\n",
       "      <th>Voyager</th>\n",
       "      <th>VISA_13</th>\n",
       "      <th>Maestro</th>\n",
       "      <th>Mastercard</th>\n",
       "      <th>DC_CB</th>\n",
       "      <th>JCB_15</th>\n",
       "      <th>Trns_fail_order_fulfilled</th>\n",
       "      <th>Duplicate_IP</th>\n",
       "      <th>Duplicate_Address</th>\n",
       "      <th>Fraud</th>\n",
       "    </tr>\n",
       "  </thead>\n",
       "  <tbody>\n",
       "    <tr>\n",
       "      <th>0</th>\n",
       "      <td>josephhoward@yahoo.com</td>\n",
       "      <td>400-108-5415</td>\n",
       "      <td>yyeiaxpltf82440jnb3v</td>\n",
       "      <td>8.129.104.40</td>\n",
       "      <td>5493 Jones Islands\\nBrownside, CA 51896</td>\n",
       "      <td>2</td>\n",
       "      <td>2</td>\n",
       "      <td>1</td>\n",
       "      <td>0</td>\n",
       "      <td>44</td>\n",
       "      <td>...</td>\n",
       "      <td>0</td>\n",
       "      <td>0</td>\n",
       "      <td>0</td>\n",
       "      <td>0</td>\n",
       "      <td>0</td>\n",
       "      <td>0</td>\n",
       "      <td>0</td>\n",
       "      <td>0</td>\n",
       "      <td>0</td>\n",
       "      <td>0</td>\n",
       "    </tr>\n",
       "    <tr>\n",
       "      <th>1</th>\n",
       "      <td>evansjeffery@yahoo.com</td>\n",
       "      <td>1-788-091-7546</td>\n",
       "      <td>r0jpm7xaeqqa3kr6mzum</td>\n",
       "      <td>219.173.211.202</td>\n",
       "      <td>356 Elizabeth Inlet Suite 120\\nPort Joshuabury...</td>\n",
       "      <td>3</td>\n",
       "      <td>3</td>\n",
       "      <td>7</td>\n",
       "      <td>1</td>\n",
       "      <td>111</td>\n",
       "      <td>...</td>\n",
       "      <td>0</td>\n",
       "      <td>0</td>\n",
       "      <td>0</td>\n",
       "      <td>0</td>\n",
       "      <td>0</td>\n",
       "      <td>0</td>\n",
       "      <td>1</td>\n",
       "      <td>0</td>\n",
       "      <td>0</td>\n",
       "      <td>1</td>\n",
       "    </tr>\n",
       "    <tr>\n",
       "      <th>2</th>\n",
       "      <td>andersonwilliam@yahoo.com</td>\n",
       "      <td>024.420.0375</td>\n",
       "      <td>4m7h5ipl1shyavt6vv2r</td>\n",
       "      <td>67b7:3db8:67e0:3bea:b9d0:90c1:2b60:b9f0</td>\n",
       "      <td>8478 Sean Ridges Apt. 441\\nDavisberg, PR 72250</td>\n",
       "      <td>5</td>\n",
       "      <td>3</td>\n",
       "      <td>2</td>\n",
       "      <td>2</td>\n",
       "      <td>131</td>\n",
       "      <td>...</td>\n",
       "      <td>0</td>\n",
       "      <td>0</td>\n",
       "      <td>0</td>\n",
       "      <td>0</td>\n",
       "      <td>0</td>\n",
       "      <td>0</td>\n",
       "      <td>2</td>\n",
       "      <td>0</td>\n",
       "      <td>0</td>\n",
       "      <td>0</td>\n",
       "    </tr>\n",
       "    <tr>\n",
       "      <th>3</th>\n",
       "      <td>rubenjuarez@yahoo.com</td>\n",
       "      <td>670.664.8168x94985</td>\n",
       "      <td>slovx60t0i558may4ks0</td>\n",
       "      <td>95de:8565:5a66:792c:26e0:6cfb:7d87:11af</td>\n",
       "      <td>7769 Elizabeth Bridge Apt. 343\\nNortonstad, FM...</td>\n",
       "      <td>3</td>\n",
       "      <td>3</td>\n",
       "      <td>1</td>\n",
       "      <td>0</td>\n",
       "      <td>85</td>\n",
       "      <td>...</td>\n",
       "      <td>3</td>\n",
       "      <td>0</td>\n",
       "      <td>0</td>\n",
       "      <td>0</td>\n",
       "      <td>0</td>\n",
       "      <td>0</td>\n",
       "      <td>0</td>\n",
       "      <td>0</td>\n",
       "      <td>0</td>\n",
       "      <td>0</td>\n",
       "    </tr>\n",
       "    <tr>\n",
       "      <th>4</th>\n",
       "      <td>uchen@malone.com</td>\n",
       "      <td>1-981-877-0870</td>\n",
       "      <td>j0pd24k5h8dl2fqu0cz4</td>\n",
       "      <td>196.89.235.192</td>\n",
       "      <td>148 Russell Lodge Apt. 445\\nPort Jenniferside,...</td>\n",
       "      <td>7</td>\n",
       "      <td>7</td>\n",
       "      <td>6</td>\n",
       "      <td>2</td>\n",
       "      <td>411</td>\n",
       "      <td>...</td>\n",
       "      <td>0</td>\n",
       "      <td>1</td>\n",
       "      <td>0</td>\n",
       "      <td>0</td>\n",
       "      <td>0</td>\n",
       "      <td>0</td>\n",
       "      <td>2</td>\n",
       "      <td>0</td>\n",
       "      <td>0</td>\n",
       "      <td>1</td>\n",
       "    </tr>\n",
       "  </tbody>\n",
       "</table>\n",
       "<p>5 rows × 32 columns</p>\n",
       "</div>"
      ],
      "text/plain": [
       "               customerEmail       customerPhone        customerDevice  \\\n",
       "0     josephhoward@yahoo.com        400-108-5415  yyeiaxpltf82440jnb3v   \n",
       "1     evansjeffery@yahoo.com      1-788-091-7546  r0jpm7xaeqqa3kr6mzum   \n",
       "2  andersonwilliam@yahoo.com        024.420.0375  4m7h5ipl1shyavt6vv2r   \n",
       "3      rubenjuarez@yahoo.com  670.664.8168x94985  slovx60t0i558may4ks0   \n",
       "4           uchen@malone.com      1-981-877-0870  j0pd24k5h8dl2fqu0cz4   \n",
       "\n",
       "                         customerIPAddress  \\\n",
       "0                             8.129.104.40   \n",
       "1                          219.173.211.202   \n",
       "2  67b7:3db8:67e0:3bea:b9d0:90c1:2b60:b9f0   \n",
       "3  95de:8565:5a66:792c:26e0:6cfb:7d87:11af   \n",
       "4                           196.89.235.192   \n",
       "\n",
       "                              customerBillingAddress  No_Transactions  \\\n",
       "0            5493 Jones Islands\\nBrownside, CA 51896                2   \n",
       "1  356 Elizabeth Inlet Suite 120\\nPort Joshuabury...                3   \n",
       "2     8478 Sean Ridges Apt. 441\\nDavisberg, PR 72250                5   \n",
       "3  7769 Elizabeth Bridge Apt. 343\\nNortonstad, FM...                3   \n",
       "4  148 Russell Lodge Apt. 445\\nPort Jenniferside,...                7   \n",
       "\n",
       "   No_Orders  No_Payments  No_transactionsFail  Total_transaction_amt  ...  \\\n",
       "0          2            1                    0                     44  ...   \n",
       "1          3            7                    1                    111  ...   \n",
       "2          3            2                    2                    131  ...   \n",
       "3          3            1                    0                     85  ...   \n",
       "4          7            6                    2                    411  ...   \n",
       "\n",
       "   Voyager  VISA_13  Maestro  Mastercard  DC_CB  JCB_15  \\\n",
       "0        0        0        0           0      0       0   \n",
       "1        0        0        0           0      0       0   \n",
       "2        0        0        0           0      0       0   \n",
       "3        3        0        0           0      0       0   \n",
       "4        0        1        0           0      0       0   \n",
       "\n",
       "   Trns_fail_order_fulfilled  Duplicate_IP  Duplicate_Address  Fraud  \n",
       "0                          0             0                  0      0  \n",
       "1                          1             0                  0      1  \n",
       "2                          2             0                  0      0  \n",
       "3                          0             0                  0      0  \n",
       "4                          2             0                  0      1  \n",
       "\n",
       "[5 rows x 32 columns]"
      ]
     },
     "execution_count": 35,
     "metadata": {},
     "output_type": "execute_result"
    }
   ],
   "source": [
    "# Encoding target feature\n",
    "final = pd.get_dummies(final,columns=['Fraud'],prefix=['Fraud'],drop_first=True)\n",
    "final = final.rename(columns={\"Fraud_True\": \"Fraud\"})\n",
    "final.head()"
   ]
  },
  {
   "cell_type": "code",
   "execution_count": 36,
   "id": "dd557500",
   "metadata": {
    "execution": {
     "iopub.execute_input": "2022-01-18T08:22:15.171881Z",
     "iopub.status.busy": "2022-01-18T08:22:15.171261Z",
     "iopub.status.idle": "2022-01-18T08:22:15.331492Z",
     "shell.execute_reply": "2022-01-18T08:22:15.332034Z",
     "shell.execute_reply.started": "2022-01-18T08:10:31.196088Z"
    },
    "id": "dd557500",
    "papermill": {
     "duration": 0.248249,
     "end_time": "2022-01-18T08:22:15.332223",
     "exception": false,
     "start_time": "2022-01-18T08:22:15.083974",
     "status": "completed"
    },
    "tags": []
   },
   "outputs": [
    {
     "data": {
      "image/png": "[encoded data removed]",
      "text/plain": [
       "<Figure size 800x550 with 1 Axes>"
      ]
     },
     "metadata": {},
     "output_type": "display_data"
    }
   ],
   "source": [
    "sns.countplot(x= 'Fraud',data=final)\n",
    "ax = plt.gca()\n",
    "\n",
    "# Iterate through the list of axes' patches\n",
    "for p in ax.patches:\n",
    "    height = np.nan_to_num(p.get_height(), 0)\n",
    "    ax.text(p.get_x()+0.4, p.get_y() + height, '%d' % height, \n",
    "            fontsize=15, ha='center', va='bottom')\n",
    "plt.show()"
   ]
  },
  {
   "cell_type": "code",
   "execution_count": 37,
   "id": "203de87c",
   "metadata": {
    "execution": {
     "iopub.execute_input": "2022-01-18T08:22:15.508393Z",
     "iopub.status.busy": "2022-01-18T08:22:15.507743Z",
     "iopub.status.idle": "2022-01-18T08:22:15.529703Z",
     "shell.execute_reply": "2022-01-18T08:22:15.530340Z",
     "shell.execute_reply.started": "2022-01-18T08:10:31.294896Z"
    },
    "id": "203de87c",
    "papermill": {
     "duration": 0.111254,
     "end_time": "2022-01-18T08:22:15.530531",
     "exception": false,
     "start_time": "2022-01-18T08:22:15.419277",
     "status": "completed"
    },
    "tags": []
   },
   "outputs": [
    {
     "data": {
      "text/html": [
       "<div>\n",
       "<style scoped>\n",
       "    .dataframe tbody tr th:only-of-type {\n",
       "        vertical-align: middle;\n",
       "    }\n",
       "\n",
       "    .dataframe tbody tr th {\n",
       "        vertical-align: top;\n",
       "    }\n",
       "\n",
       "    .dataframe thead th {\n",
       "        text-align: right;\n",
       "    }\n",
       "</style>\n",
       "<table border=\"1\" class=\"dataframe\">\n",
       "  <thead>\n",
       "    <tr style=\"text-align: right;\">\n",
       "      <th></th>\n",
       "      <th>customerEmail</th>\n",
       "      <th>customerPhone</th>\n",
       "      <th>customerDevice</th>\n",
       "      <th>customerIPAddress</th>\n",
       "      <th>customerBillingAddress</th>\n",
       "      <th>No_Transactions</th>\n",
       "      <th>No_Orders</th>\n",
       "      <th>No_Payments</th>\n",
       "      <th>No_transactionsFail</th>\n",
       "      <th>Total_transaction_amt</th>\n",
       "      <th>...</th>\n",
       "      <th>Voyager</th>\n",
       "      <th>VISA_13</th>\n",
       "      <th>Maestro</th>\n",
       "      <th>Mastercard</th>\n",
       "      <th>DC_CB</th>\n",
       "      <th>JCB_15</th>\n",
       "      <th>Trns_fail_order_fulfilled</th>\n",
       "      <th>Duplicate_IP</th>\n",
       "      <th>Duplicate_Address</th>\n",
       "      <th>Fraud</th>\n",
       "    </tr>\n",
       "  </thead>\n",
       "  <tbody>\n",
       "    <tr>\n",
       "      <th>39</th>\n",
       "      <td>jamescampbell@randall-pacheco.biz</td>\n",
       "      <td>599-142-6783</td>\n",
       "      <td>eaul63h9guyvwuymfn3z</td>\n",
       "      <td>45.203.99.249</td>\n",
       "      <td>29408 Lisa Lock\\nPort Jennifer, LA 26501-7040</td>\n",
       "      <td>7</td>\n",
       "      <td>3</td>\n",
       "      <td>2</td>\n",
       "      <td>4</td>\n",
       "      <td>146</td>\n",
       "      <td>...</td>\n",
       "      <td>0</td>\n",
       "      <td>2</td>\n",
       "      <td>0</td>\n",
       "      <td>0</td>\n",
       "      <td>0</td>\n",
       "      <td>0</td>\n",
       "      <td>4</td>\n",
       "      <td>3</td>\n",
       "      <td>0</td>\n",
       "      <td>1</td>\n",
       "    </tr>\n",
       "    <tr>\n",
       "      <th>67</th>\n",
       "      <td>warrenedward@arnold.com</td>\n",
       "      <td>201.737.5119x64000</td>\n",
       "      <td>6py7ewqjkxjw8zjl9eri</td>\n",
       "      <td>45.203.99.249</td>\n",
       "      <td>49680 Brian Squares Apt. 122\\nPort Walterburgh...</td>\n",
       "      <td>4</td>\n",
       "      <td>4</td>\n",
       "      <td>14</td>\n",
       "      <td>0</td>\n",
       "      <td>117</td>\n",
       "      <td>...</td>\n",
       "      <td>1</td>\n",
       "      <td>1</td>\n",
       "      <td>0</td>\n",
       "      <td>0</td>\n",
       "      <td>0</td>\n",
       "      <td>0</td>\n",
       "      <td>0</td>\n",
       "      <td>3</td>\n",
       "      <td>2</td>\n",
       "      <td>1</td>\n",
       "    </tr>\n",
       "    <tr>\n",
       "      <th>73</th>\n",
       "      <td>shelby24@hotmail.com</td>\n",
       "      <td>(071)934-3315x27613</td>\n",
       "      <td>obb41ux0zfa2td5ajo9s</td>\n",
       "      <td>45.203.99.249</td>\n",
       "      <td>3271 Cynthia Groves\\nPort Jeremyberg, CO 27305</td>\n",
       "      <td>5</td>\n",
       "      <td>4</td>\n",
       "      <td>2</td>\n",
       "      <td>1</td>\n",
       "      <td>192</td>\n",
       "      <td>...</td>\n",
       "      <td>0</td>\n",
       "      <td>0</td>\n",
       "      <td>0</td>\n",
       "      <td>2</td>\n",
       "      <td>3</td>\n",
       "      <td>0</td>\n",
       "      <td>0</td>\n",
       "      <td>3</td>\n",
       "      <td>0</td>\n",
       "      <td>1</td>\n",
       "    </tr>\n",
       "    <tr>\n",
       "      <th>118</th>\n",
       "      <td>christinemills@mcgee.com</td>\n",
       "      <td>(651)355-4709</td>\n",
       "      <td>zbn9it3s7yl69bjtrnqf</td>\n",
       "      <td>45.203.99.249</td>\n",
       "      <td>5156 Greene Park Apt. 748\\nNew Sandra, CA 1480...</td>\n",
       "      <td>5</td>\n",
       "      <td>5</td>\n",
       "      <td>2</td>\n",
       "      <td>0</td>\n",
       "      <td>125</td>\n",
       "      <td>...</td>\n",
       "      <td>5</td>\n",
       "      <td>0</td>\n",
       "      <td>0</td>\n",
       "      <td>0</td>\n",
       "      <td>0</td>\n",
       "      <td>0</td>\n",
       "      <td>0</td>\n",
       "      <td>3</td>\n",
       "      <td>0</td>\n",
       "      <td>1</td>\n",
       "    </tr>\n",
       "  </tbody>\n",
       "</table>\n",
       "<p>4 rows × 32 columns</p>\n",
       "</div>"
      ],
      "text/plain": [
       "                         customerEmail        customerPhone  \\\n",
       "39   jamescampbell@randall-pacheco.biz         599-142-6783   \n",
       "67             warrenedward@arnold.com   201.737.5119x64000   \n",
       "73                shelby24@hotmail.com  (071)934-3315x27613   \n",
       "118           christinemills@mcgee.com        (651)355-4709   \n",
       "\n",
       "           customerDevice customerIPAddress  \\\n",
       "39   eaul63h9guyvwuymfn3z     45.203.99.249   \n",
       "67   6py7ewqjkxjw8zjl9eri     45.203.99.249   \n",
       "73   obb41ux0zfa2td5ajo9s     45.203.99.249   \n",
       "118  zbn9it3s7yl69bjtrnqf     45.203.99.249   \n",
       "\n",
       "                                customerBillingAddress  No_Transactions  \\\n",
       "39       29408 Lisa Lock\\nPort Jennifer, LA 26501-7040                7   \n",
       "67   49680 Brian Squares Apt. 122\\nPort Walterburgh...                4   \n",
       "73      3271 Cynthia Groves\\nPort Jeremyberg, CO 27305                5   \n",
       "118  5156 Greene Park Apt. 748\\nNew Sandra, CA 1480...                5   \n",
       "\n",
       "     No_Orders  No_Payments  No_transactionsFail  Total_transaction_amt  ...  \\\n",
       "39           3            2                    4                    146  ...   \n",
       "67           4           14                    0                    117  ...   \n",
       "73           4            2                    1                    192  ...   \n",
       "118          5            2                    0                    125  ...   \n",
       "\n",
       "     Voyager  VISA_13  Maestro  Mastercard  DC_CB  JCB_15  \\\n",
       "39         0        2        0           0      0       0   \n",
       "67         1        1        0           0      0       0   \n",
       "73         0        0        0           2      3       0   \n",
       "118        5        0        0           0      0       0   \n",
       "\n",
       "     Trns_fail_order_fulfilled  Duplicate_IP  Duplicate_Address  Fraud  \n",
       "39                           4             3                  0      1  \n",
       "67                           0             3                  2      1  \n",
       "73                           0             3                  0      1  \n",
       "118                          0             3                  0      1  \n",
       "\n",
       "[4 rows x 32 columns]"
      ]
     },
     "execution_count": 37,
     "metadata": {},
     "output_type": "execute_result"
    }
   ],
   "source": [
    "final[final['Duplicate_IP']>0]"
   ]
  },
  {
   "cell_type": "markdown",
   "id": "22f38ffd",
   "metadata": {
    "id": "22f38ffd",
    "papermill": {
     "duration": 0.086283,
     "end_time": "2022-01-18T08:22:15.706179",
     "exception": false,
     "start_time": "2022-01-18T08:22:15.619896",
     "status": "completed"
    },
    "tags": []
   },
   "source": [
    "There are 4 customers who have the same \"IP Address\" and it is impossible for one device to have the same IP address, so it has to be fraudulent."
   ]
  },
  {
   "cell_type": "code",
   "execution_count": 38,
   "id": "046a95cd",
   "metadata": {
    "execution": {
     "iopub.execute_input": "2022-01-18T08:22:15.901549Z",
     "iopub.status.busy": "2022-01-18T08:22:15.900526Z",
     "iopub.status.idle": "2022-01-18T08:22:15.904510Z",
     "shell.execute_reply": "2022-01-18T08:22:15.903978Z",
     "shell.execute_reply.started": "2022-01-18T08:10:31.316715Z"
    },
    "id": "046a95cd",
    "papermill": {
     "duration": 0.112193,
     "end_time": "2022-01-18T08:22:15.904670",
     "exception": false,
     "start_time": "2022-01-18T08:22:15.792477",
     "status": "completed"
    },
    "tags": []
   },
   "outputs": [
    {
     "data": {
      "text/html": [
       "<div>\n",
       "<style scoped>\n",
       "    .dataframe tbody tr th:only-of-type {\n",
       "        vertical-align: middle;\n",
       "    }\n",
       "\n",
       "    .dataframe tbody tr th {\n",
       "        vertical-align: top;\n",
       "    }\n",
       "\n",
       "    .dataframe thead th {\n",
       "        text-align: right;\n",
       "    }\n",
       "</style>\n",
       "<table border=\"1\" class=\"dataframe\">\n",
       "  <thead>\n",
       "    <tr style=\"text-align: right;\">\n",
       "      <th></th>\n",
       "      <th>customerEmail</th>\n",
       "      <th>customerPhone</th>\n",
       "      <th>customerDevice</th>\n",
       "      <th>customerIPAddress</th>\n",
       "      <th>customerBillingAddress</th>\n",
       "      <th>No_Transactions</th>\n",
       "      <th>No_Orders</th>\n",
       "      <th>No_Payments</th>\n",
       "      <th>No_transactionsFail</th>\n",
       "      <th>Total_transaction_amt</th>\n",
       "      <th>...</th>\n",
       "      <th>Voyager</th>\n",
       "      <th>VISA_13</th>\n",
       "      <th>Maestro</th>\n",
       "      <th>Mastercard</th>\n",
       "      <th>DC_CB</th>\n",
       "      <th>JCB_15</th>\n",
       "      <th>Trns_fail_order_fulfilled</th>\n",
       "      <th>Duplicate_IP</th>\n",
       "      <th>Duplicate_Address</th>\n",
       "      <th>Fraud</th>\n",
       "    </tr>\n",
       "  </thead>\n",
       "  <tbody>\n",
       "    <tr>\n",
       "      <th>47</th>\n",
       "      <td>feliciabrown@gmail.com</td>\n",
       "      <td>(226)129-2677</td>\n",
       "      <td>z7xkuohhjbtiqs6q9rk9</td>\n",
       "      <td>115.137.171.103</td>\n",
       "      <td>49680 Brian Squares Apt. 122\\nPort Walterburgh...</td>\n",
       "      <td>1</td>\n",
       "      <td>1</td>\n",
       "      <td>1</td>\n",
       "      <td>0</td>\n",
       "      <td>41</td>\n",
       "      <td>...</td>\n",
       "      <td>0</td>\n",
       "      <td>0</td>\n",
       "      <td>0</td>\n",
       "      <td>0</td>\n",
       "      <td>0</td>\n",
       "      <td>0</td>\n",
       "      <td>0</td>\n",
       "      <td>0</td>\n",
       "      <td>2</td>\n",
       "      <td>1</td>\n",
       "    </tr>\n",
       "    <tr>\n",
       "      <th>67</th>\n",
       "      <td>warrenedward@arnold.com</td>\n",
       "      <td>201.737.5119x64000</td>\n",
       "      <td>6py7ewqjkxjw8zjl9eri</td>\n",
       "      <td>45.203.99.249</td>\n",
       "      <td>49680 Brian Squares Apt. 122\\nPort Walterburgh...</td>\n",
       "      <td>4</td>\n",
       "      <td>4</td>\n",
       "      <td>14</td>\n",
       "      <td>0</td>\n",
       "      <td>117</td>\n",
       "      <td>...</td>\n",
       "      <td>1</td>\n",
       "      <td>1</td>\n",
       "      <td>0</td>\n",
       "      <td>0</td>\n",
       "      <td>0</td>\n",
       "      <td>0</td>\n",
       "      <td>0</td>\n",
       "      <td>3</td>\n",
       "      <td>2</td>\n",
       "      <td>1</td>\n",
       "    </tr>\n",
       "    <tr>\n",
       "      <th>75</th>\n",
       "      <td>brittanydean@hotmail.com</td>\n",
       "      <td>06238721842</td>\n",
       "      <td>yq8xiivmx4prlgx0gofo</td>\n",
       "      <td>3517:8e52:885:8640:a59:f5fd:cb33:b06a</td>\n",
       "      <td>49680 Brian Squares Apt. 122\\nPort Walterburgh...</td>\n",
       "      <td>6</td>\n",
       "      <td>4</td>\n",
       "      <td>1</td>\n",
       "      <td>2</td>\n",
       "      <td>202</td>\n",
       "      <td>...</td>\n",
       "      <td>6</td>\n",
       "      <td>0</td>\n",
       "      <td>0</td>\n",
       "      <td>0</td>\n",
       "      <td>0</td>\n",
       "      <td>0</td>\n",
       "      <td>2</td>\n",
       "      <td>0</td>\n",
       "      <td>2</td>\n",
       "      <td>1</td>\n",
       "    </tr>\n",
       "  </tbody>\n",
       "</table>\n",
       "<p>3 rows × 32 columns</p>\n",
       "</div>"
      ],
      "text/plain": [
       "               customerEmail       customerPhone        customerDevice  \\\n",
       "47    feliciabrown@gmail.com       (226)129-2677  z7xkuohhjbtiqs6q9rk9   \n",
       "67   warrenedward@arnold.com  201.737.5119x64000  6py7ewqjkxjw8zjl9eri   \n",
       "75  brittanydean@hotmail.com         06238721842  yq8xiivmx4prlgx0gofo   \n",
       "\n",
       "                        customerIPAddress  \\\n",
       "47                        115.137.171.103   \n",
       "67                          45.203.99.249   \n",
       "75  3517:8e52:885:8640:a59:f5fd:cb33:b06a   \n",
       "\n",
       "                               customerBillingAddress  No_Transactions  \\\n",
       "47  49680 Brian Squares Apt. 122\\nPort Walterburgh...                1   \n",
       "67  49680 Brian Squares Apt. 122\\nPort Walterburgh...                4   \n",
       "75  49680 Brian Squares Apt. 122\\nPort Walterburgh...                6   \n",
       "\n",
       "    No_Orders  No_Payments  No_transactionsFail  Total_transaction_amt  ...  \\\n",
       "47          1            1                    0                     41  ...   \n",
       "67          4           14                    0                    117  ...   \n",
       "75          4            1                    2                    202  ...   \n",
       "\n",
       "    Voyager  VISA_13  Maestro  Mastercard  DC_CB  JCB_15  \\\n",
       "47        0        0        0           0      0       0   \n",
       "67        1        1        0           0      0       0   \n",
       "75        6        0        0           0      0       0   \n",
       "\n",
       "    Trns_fail_order_fulfilled  Duplicate_IP  Duplicate_Address  Fraud  \n",
       "47                          0             0                  2      1  \n",
       "67                          0             3                  2      1  \n",
       "75                          2             0                  2      1  \n",
       "\n",
       "[3 rows x 32 columns]"
      ]
     },
     "execution_count": 38,
     "metadata": {},
     "output_type": "execute_result"
    }
   ],
   "source": [
    "final[final['Duplicate_Address']>0]"
   ]
  },
  {
   "cell_type": "markdown",
   "id": "81993195",
   "metadata": {
    "id": "81993195",
    "papermill": {
     "duration": 0.088972,
     "end_time": "2022-01-18T08:22:16.080566",
     "exception": false,
     "start_time": "2022-01-18T08:22:15.991594",
     "status": "completed"
    },
    "tags": []
   },
   "source": [
    "There are 3 transactions from different customers but have the same customerBillingAddress, can be done by the same customer"
   ]
  },
  {
   "cell_type": "code",
   "execution_count": 39,
   "id": "9dd3d0b0",
   "metadata": {
    "execution": {
     "iopub.execute_input": "2022-01-18T08:22:16.296889Z",
     "iopub.status.busy": "2022-01-18T08:22:16.264922Z",
     "iopub.status.idle": "2022-01-18T08:22:16.575181Z",
     "shell.execute_reply": "2022-01-18T08:22:16.574110Z",
     "shell.execute_reply.started": "2022-01-18T08:10:31.337098Z"
    },
    "id": "9dd3d0b0",
    "papermill": {
     "duration": 0.407042,
     "end_time": "2022-01-18T08:22:16.575373",
     "exception": false,
     "start_time": "2022-01-18T08:22:16.168331",
     "status": "completed"
    },
    "tags": []
   },
   "outputs": [
    {
     "data": {
      "image/png": "[encoded data removed]",
      "text/plain": [
       "<Figure size 800x550 with 1 Axes>"
      ]
     },
     "metadata": {},
     "output_type": "display_data"
    }
   ],
   "source": [
    "sns.countplot(x = final['OrdersFulfilled'], hue = final['Fraud'])\n",
    "plt.show()"
   ]
  },
  {
   "cell_type": "markdown",
   "id": "5e047e47",
   "metadata": {
    "id": "5e047e47",
    "papermill": {
     "duration": 0.088024,
     "end_time": "2022-01-18T08:22:16.751572",
     "exception": false,
     "start_time": "2022-01-18T08:22:16.663548",
     "status": "completed"
    },
    "tags": []
   },
   "source": [
    "we can see that if the Fulfilled Order Amount is greater than 8 then the transaction is has to be \"Fraud\""
   ]
  },
  {
   "cell_type": "code",
   "execution_count": 40,
   "id": "6815f02c",
   "metadata": {
    "execution": {
     "iopub.execute_input": "2022-01-18T08:22:16.943559Z",
     "iopub.status.busy": "2022-01-18T08:22:16.940539Z",
     "iopub.status.idle": "2022-01-18T08:22:17.625055Z",
     "shell.execute_reply": "2022-01-18T08:22:17.625597Z",
     "shell.execute_reply.started": "2022-01-18T08:10:31.580105Z"
    },
    "id": "6815f02c",
    "papermill": {
     "duration": 0.783922,
     "end_time": "2022-01-18T08:22:17.625778",
     "exception": false,
     "start_time": "2022-01-18T08:22:16.841856",
     "status": "completed"
    },
    "tags": []
   },
   "outputs": [
    {
     "data": {
      "image/png": "[encoded data removed]",
      "text/plain": [
       "<Figure size 2000x500 with 2 Axes>"
      ]
     },
     "metadata": {},
     "output_type": "display_data"
    }
   ],
   "source": [
    "corr = final.corr()\n",
    "corr2 = corr.iloc[-1:,:]\n",
    "\n",
    "plt.figure(figsize=(20, 5))\n",
    "ax = sns.heatmap(corr2, annot=True, vmin=-1, vmax=1, center=0)\n",
    "bottom, top = ax.get_ylim()\n",
    "ax.set_ylim(bottom + 0.5, top - 0.5)\n",
    "plt.title('Heatmap Correlation for fraud')\n",
    "plt.show()"
   ]
  },
  {
   "cell_type": "markdown",
   "id": "993061c9",
   "metadata": {
    "id": "993061c9",
    "papermill": {
     "duration": 0.088949,
     "end_time": "2022-01-18T08:22:17.806026",
     "exception": false,
     "start_time": "2022-01-18T08:22:17.717077",
     "status": "completed"
    },
    "tags": []
   },
   "source": [
    "The correlation formed between fraud and other variables tends to be not strong, because the data is too little"
   ]
  },
  {
   "cell_type": "markdown",
   "id": "3773e610",
   "metadata": {
    "id": "3773e610",
    "papermill": {
     "duration": 0.095179,
     "end_time": "2022-01-18T08:22:18.010746",
     "exception": false,
     "start_time": "2022-01-18T08:22:17.915567",
     "status": "completed"
    },
    "tags": []
   },
   "source": [
    "### Create variable target"
   ]
  },
  {
   "cell_type": "code",
   "execution_count": 41,
   "id": "43ca6b3d",
   "metadata": {
    "execution": {
     "iopub.execute_input": "2022-01-18T08:22:18.212570Z",
     "iopub.status.busy": "2022-01-18T08:22:18.211838Z",
     "iopub.status.idle": "2022-01-18T08:22:18.214276Z",
     "shell.execute_reply": "2022-01-18T08:22:18.213750Z",
     "shell.execute_reply.started": "2022-01-18T08:10:32.091883Z"
    },
    "id": "43ca6b3d",
    "papermill": {
     "duration": 0.110477,
     "end_time": "2022-01-18T08:22:18.214439",
     "exception": false,
     "start_time": "2022-01-18T08:22:18.103962",
     "status": "completed"
    },
    "tags": []
   },
   "outputs": [],
   "source": [
    "x = final.drop(['customerEmail','customerPhone', 'customerDevice', 'customerIPAddress',\n",
    "       'customerBillingAddress','Fraud'], axis=1)\n",
    "y = final['Fraud']"
   ]
  },
  {
   "cell_type": "markdown",
   "id": "a5033ad4",
   "metadata": {
    "id": "a5033ad4",
    "papermill": {
     "duration": 0.089152,
     "end_time": "2022-01-18T08:22:18.393826",
     "exception": false,
     "start_time": "2022-01-18T08:22:18.304674",
     "status": "completed"
    },
    "tags": []
   },
   "source": [
    "## Split, Train, Test Data"
   ]
  },
  {
   "cell_type": "code",
   "execution_count": 42,
   "id": "03298b13",
   "metadata": {
    "execution": {
     "iopub.execute_input": "2022-01-18T08:22:18.581502Z",
     "iopub.status.busy": "2022-01-18T08:22:18.580765Z",
     "iopub.status.idle": "2022-01-18T08:22:18.751178Z",
     "shell.execute_reply": "2022-01-18T08:22:18.750591Z",
     "shell.execute_reply.started": "2022-01-18T08:10:32.097659Z"
    },
    "id": "03298b13",
    "papermill": {
     "duration": 0.266395,
     "end_time": "2022-01-18T08:22:18.751351",
     "exception": false,
     "start_time": "2022-01-18T08:22:18.484956",
     "status": "completed"
    },
    "tags": []
   },
   "outputs": [],
   "source": [
    "from sklearn.model_selection import train_test_split"
   ]
  },
  {
   "cell_type": "code",
   "execution_count": 43,
   "id": "dca2cbe5",
   "metadata": {
    "execution": {
     "iopub.execute_input": "2022-01-18T08:22:18.939674Z",
     "iopub.status.busy": "2022-01-18T08:22:18.938973Z",
     "iopub.status.idle": "2022-01-18T08:22:18.945787Z",
     "shell.execute_reply": "2022-01-18T08:22:18.946418Z",
     "shell.execute_reply.started": "2022-01-18T08:10:32.106749Z"
    },
    "id": "dca2cbe5",
    "papermill": {
     "duration": 0.103222,
     "end_time": "2022-01-18T08:22:18.946595",
     "exception": false,
     "start_time": "2022-01-18T08:22:18.843373",
     "status": "completed"
    },
    "tags": []
   },
   "outputs": [],
   "source": [
    "x_train, x_test, y_train, y_test = train_test_split(x, y, test_size=0.2, random_state=42)"
   ]
  },
  {
   "cell_type": "code",
   "execution_count": 44,
   "id": "df21b26e",
   "metadata": {
    "execution": {
     "iopub.execute_input": "2022-01-18T08:22:19.131082Z",
     "iopub.status.busy": "2022-01-18T08:22:19.130401Z",
     "iopub.status.idle": "2022-01-18T08:22:19.135914Z",
     "shell.execute_reply": "2022-01-18T08:22:19.136450Z",
     "shell.execute_reply.started": "2022-01-18T08:10:32.116513Z"
    },
    "id": "df21b26e",
    "papermill": {
     "duration": 0.099061,
     "end_time": "2022-01-18T08:22:19.136647",
     "exception": false,
     "start_time": "2022-01-18T08:22:19.037586",
     "status": "completed"
    },
    "tags": []
   },
   "outputs": [
    {
     "data": {
      "text/plain": [
       "(114, 26)"
      ]
     },
     "execution_count": 44,
     "metadata": {},
     "output_type": "execute_result"
    }
   ],
   "source": [
    "x_train.shape"
   ]
  },
  {
   "cell_type": "code",
   "execution_count": 45,
   "id": "f0104ba8",
   "metadata": {
    "execution": {
     "iopub.execute_input": "2022-01-18T08:22:19.327383Z",
     "iopub.status.busy": "2022-01-18T08:22:19.325447Z",
     "iopub.status.idle": "2022-01-18T08:22:19.330747Z",
     "shell.execute_reply": "2022-01-18T08:22:19.331285Z",
     "shell.execute_reply.started": "2022-01-18T08:10:32.128582Z"
    },
    "id": "f0104ba8",
    "papermill": {
     "duration": 0.102513,
     "end_time": "2022-01-18T08:22:19.331456",
     "exception": false,
     "start_time": "2022-01-18T08:22:19.228943",
     "status": "completed"
    },
    "tags": []
   },
   "outputs": [
    {
     "data": {
      "text/plain": [
       "(29, 26)"
      ]
     },
     "execution_count": 45,
     "metadata": {},
     "output_type": "execute_result"
    }
   ],
   "source": [
    "x_test.shape"
   ]
  },
  {
   "cell_type": "markdown",
   "id": "d81688b3",
   "metadata": {
    "id": "d81688b3",
    "papermill": {
     "duration": 0.090475,
     "end_time": "2022-01-18T08:22:19.512852",
     "exception": false,
     "start_time": "2022-01-18T08:22:19.422377",
     "status": "completed"
    },
    "tags": []
   },
   "source": [
    "## Machine Learning"
   ]
  },
  {
   "cell_type": "code",
   "execution_count": 46,
   "id": "46f16c18",
   "metadata": {
    "execution": {
     "iopub.execute_input": "2022-01-18T08:22:19.699312Z",
     "iopub.status.busy": "2022-01-18T08:22:19.698582Z",
     "iopub.status.idle": "2022-01-18T08:22:19.888579Z",
     "shell.execute_reply": "2022-01-18T08:22:19.887807Z",
     "shell.execute_reply.started": "2022-01-18T08:10:32.138058Z"
    },
    "id": "46f16c18",
    "papermill": {
     "duration": 0.284259,
     "end_time": "2022-01-18T08:22:19.888732",
     "exception": false,
     "start_time": "2022-01-18T08:22:19.604473",
     "status": "completed"
    },
    "tags": []
   },
   "outputs": [],
   "source": [
    "from sklearn.ensemble import RandomForestClassifier\n",
    "from sklearn.linear_model import LogisticRegression\n",
    "from sklearn.metrics import accuracy_score\n",
    "from sklearn.metrics import confusion_matrix\n",
    "from sklearn.metrics import classification_report\n",
    "from sklearn.metrics import confusion_matrix\n",
    "from sklearn.metrics import accuracy_score,precision_score,recall_score,roc_auc_score\n",
    "from sklearn.model_selection import GridSearchCV , RandomizedSearchCV"
   ]
  },
  {
   "cell_type": "markdown",
   "id": "5874c227",
   "metadata": {
    "id": "5874c227",
    "papermill": {
     "duration": 0.098195,
     "end_time": "2022-01-18T08:22:21.065133",
     "exception": false,
     "start_time": "2022-01-18T08:22:20.966938",
     "status": "completed"
    },
    "tags": []
   },
   "source": [
    "## Logistic Regression"
   ]
  },
  {
   "cell_type": "code",
   "execution_count": 47,
   "id": "e50043bb",
   "metadata": {
    "execution": {
     "iopub.execute_input": "2022-01-18T08:22:21.254895Z",
     "iopub.status.busy": "2022-01-18T08:22:21.253858Z",
     "iopub.status.idle": "2022-01-18T08:22:21.409394Z",
     "shell.execute_reply": "2022-01-18T08:22:21.408807Z",
     "shell.execute_reply.started": "2022-01-18T08:10:32.338859Z"
    },
    "id": "e50043bb",
    "papermill": {
     "duration": 0.250588,
     "end_time": "2022-01-18T08:22:21.409536",
     "exception": false,
     "start_time": "2022-01-18T08:22:21.158948",
     "status": "completed"
    },
    "tags": []
   },
   "outputs": [
    {
     "data": {
      "text/html": [
       "<style>#sk-container-id-1 {color: black;background-color: white;}#sk-container-id-1 pre{padding: 0;}#sk-container-id-1 div.sk-toggleable {background-color: white;}#sk-container-id-1 label.sk-toggleable__label {cursor: pointer;display: block;width: 100%;margin-bottom: 0;padding: 0.3em;box-sizing: border-box;text-align: center;}#sk-container-id-1 label.sk-toggleable__label-arrow:before {content: \"▸\";float: left;margin-right: 0.25em;color: #696969;}#sk-container-id-1 label.sk-toggleable__label-arrow:hover:before {color: black;}#sk-container-id-1 div.sk-estimator:hover label.sk-toggleable__label-arrow:before {color: black;}#sk-container-id-1 div.sk-toggleable__content {max-height: 0;max-width: 0;overflow: hidden;text-align: left;background-color: #f0f8ff;}#sk-container-id-1 div.sk-toggleable__content pre {margin: 0.2em;color: black;border-radius: 0.25em;background-color: #f0f8ff;}#sk-container-id-1 input.sk-toggleable__control:checked~div.sk-toggleable__content {max-height: 200px;max-width: 100%;overflow: auto;}#sk-container-id-1 input.sk-toggleable__control:checked~label.sk-toggleable__label-arrow:before {content: \"▾\";}#sk-container-id-1 div.sk-estimator input.sk-toggleable__control:checked~label.sk-toggleable__label {background-color: #d4ebff;}#sk-container-id-1 div.sk-label input.sk-toggleable__control:checked~label.sk-toggleable__label {background-color: #d4ebff;}#sk-container-id-1 input.sk-hidden--visually {border: 0;clip: rect(1px 1px 1px 1px);clip: rect(1px, 1px, 1px, 1px);height: 1px;margin: -1px;overflow: hidden;padding: 0;position: absolute;width: 1px;}#sk-container-id-1 div.sk-estimator {font-family: monospace;background-color: #f0f8ff;border: 1px dotted black;border-radius: 0.25em;box-sizing: border-box;margin-bottom: 0.5em;}#sk-container-id-1 div.sk-estimator:hover {background-color: #d4ebff;}#sk-container-id-1 div.sk-parallel-item::after {content: \"\";width: 100%;border-bottom: 1px solid gray;flex-grow: 1;}#sk-container-id-1 div.sk-label:hover label.sk-toggleable__label {background-color: #d4ebff;}#sk-container-id-1 div.sk-serial::before {content: \"\";position: absolute;border-left: 1px solid gray;box-sizing: border-box;top: 0;bottom: 0;left: 50%;z-index: 0;}#sk-container-id-1 div.sk-serial {display: flex;flex-direction: column;align-items: center;background-color: white;padding-right: 0.2em;padding-left: 0.2em;position: relative;}#sk-container-id-1 div.sk-item {position: relative;z-index: 1;}#sk-container-id-1 div.sk-parallel {display: flex;align-items: stretch;justify-content: center;background-color: white;position: relative;}#sk-container-id-1 div.sk-item::before, #sk-container-id-1 div.sk-parallel-item::before {content: \"\";position: absolute;border-left: 1px solid gray;box-sizing: border-box;top: 0;bottom: 0;left: 50%;z-index: -1;}#sk-container-id-1 div.sk-parallel-item {display: flex;flex-direction: column;z-index: 1;position: relative;background-color: white;}#sk-container-id-1 div.sk-parallel-item:first-child::after {align-self: flex-end;width: 50%;}#sk-container-id-1 div.sk-parallel-item:last-child::after {align-self: flex-start;width: 50%;}#sk-container-id-1 div.sk-parallel-item:only-child::after {width: 0;}#sk-container-id-1 div.sk-dashed-wrapped {border: 1px dashed gray;margin: 0 0.4em 0.5em 0.4em;box-sizing: border-box;padding-bottom: 0.4em;background-color: white;}#sk-container-id-1 div.sk-label label {font-family: monospace;font-weight: bold;display: inline-block;line-height: 1.2em;}#sk-container-id-1 div.sk-label-container {text-align: center;}#sk-container-id-1 div.sk-container {/* jupyter's `normalize.less` sets `[hidden] { display: none; }` but bootstrap.min.css set `[hidden] { display: none !important; }` so we also need the `!important` here to be able to override the default hidden behavior on the sphinx rendered scikit-learn.org. See: https://github.com/scikit-learn/scikit-learn/issues/21755 */display: inline-block !important;position: relative;}#sk-container-id-1 div.sk-text-repr-fallback {display: none;}</style><div id=\"sk-container-id-1\" class=\"sk-top-container\"><div class=\"sk-text-repr-fallback\"><pre>LogisticRegression(solver=&#x27;liblinear&#x27;)</pre><b>In a Jupyter environment, please rerun this cell to show the HTML representation or trust the notebook. <br />On GitHub, the HTML representation is unable to render, please try loading this page with nbviewer.org.</b></div><div class=\"sk-container\" hidden><div class=\"sk-item\"><div class=\"sk-estimator sk-toggleable\"><input class=\"sk-toggleable__control sk-hidden--visually\" id=\"sk-estimator-id-1\" type=\"checkbox\" checked><label for=\"sk-estimator-id-1\" class=\"sk-toggleable__label sk-toggleable__label-arrow\">LogisticRegression</label><div class=\"sk-toggleable__content\"><pre>LogisticRegression(solver=&#x27;liblinear&#x27;)</pre></div></div></div></div></div>"
      ],
      "text/plain": [
       "LogisticRegression(solver='liblinear')"
      ]
     },
     "execution_count": 47,
     "metadata": {},
     "output_type": "execute_result"
    }
   ],
   "source": [
    "Lr_model = LogisticRegression(solver='liblinear')\n",
    "Lr_model.fit(x_train,y_train)"
   ]
  },
  {
   "cell_type": "code",
   "execution_count": 48,
   "id": "ddffdb2d",
   "metadata": {
    "execution": {
     "iopub.execute_input": "2022-01-18T08:22:21.596951Z",
     "iopub.status.busy": "2022-01-18T08:22:21.595923Z",
     "iopub.status.idle": "2022-01-18T08:22:21.805629Z",
     "shell.execute_reply": "2022-01-18T08:22:21.806133Z",
     "shell.execute_reply.started": "2022-01-18T08:10:32.451184Z"
    },
    "id": "ddffdb2d",
    "papermill": {
     "duration": 0.305411,
     "end_time": "2022-01-18T08:22:21.806323",
     "exception": false,
     "start_time": "2022-01-18T08:22:21.500912",
     "status": "completed"
    },
    "tags": []
   },
   "outputs": [],
   "source": [
    "y_pred_lr= Lr_model.predict(x_test)"
   ]
  },
  {
   "cell_type": "code",
   "execution_count": 49,
   "id": "55b4288f",
   "metadata": {
    "execution": {
     "iopub.execute_input": "2022-01-18T08:22:22.009014Z",
     "iopub.status.busy": "2022-01-18T08:22:22.008129Z",
     "iopub.status.idle": "2022-01-18T08:22:22.010970Z",
     "shell.execute_reply": "2022-01-18T08:22:22.011479Z",
     "shell.execute_reply.started": "2022-01-18T08:10:32.593936Z"
    },
    "id": "55b4288f",
    "papermill": {
     "duration": 0.10501,
     "end_time": "2022-01-18T08:22:22.011649",
     "exception": false,
     "start_time": "2022-01-18T08:22:21.906639",
     "status": "completed"
    },
    "tags": []
   },
   "outputs": [
    {
     "name": "stdout",
     "output_type": "stream",
     "text": [
      "              precision    recall  f1-score   support\n",
      "\n",
      "           0       0.83      0.83      0.83        18\n",
      "           1       0.73      0.73      0.73        11\n",
      "\n",
      "    accuracy                           0.79        29\n",
      "   macro avg       0.78      0.78      0.78        29\n",
      "weighted avg       0.79      0.79      0.79        29\n",
      "\n"
     ]
    },
    {
     "data": {
      "image/png": "[encoded data removed]",
      "text/plain": [
       "<Figure size 800x550 with 2 Axes>"
      ]
     },
     "metadata": {},
     "output_type": "display_data"
    }
   ],
   "source": [
    "print(classification_report(y_test, y_pred_lr))\n",
    "sns.heatmap(confusion_matrix(y_test, y_pred_lr), annot = True)\n",
    "plt.show()"
   ]
  },
  {
   "cell_type": "markdown",
   "id": "8aa5f214",
   "metadata": {
    "id": "8aa5f214",
    "papermill": {
     "duration": 0.098992,
     "end_time": "2022-01-18T08:22:22.870538",
     "exception": false,
     "start_time": "2022-01-18T08:22:22.771546",
     "status": "completed"
    },
    "tags": []
   },
   "source": [
    "## Random Forest"
   ]
  },
  {
   "cell_type": "code",
   "execution_count": 50,
   "id": "4963fab4",
   "metadata": {
    "execution": {
     "iopub.execute_input": "2022-01-18T08:22:23.071347Z",
     "iopub.status.busy": "2022-01-18T08:22:23.070576Z",
     "iopub.status.idle": "2022-01-18T08:22:23.075575Z",
     "shell.execute_reply": "2022-01-18T08:22:23.076223Z",
     "shell.execute_reply.started": "2022-01-18T08:10:32.786515Z"
    },
    "id": "4963fab4",
    "papermill": {
     "duration": 0.109397,
     "end_time": "2022-01-18T08:22:23.076465",
     "exception": false,
     "start_time": "2022-01-18T08:22:22.967068",
     "status": "completed"
    },
    "tags": []
   },
   "outputs": [],
   "source": [
    "model_rf = RandomForestClassifier()\n",
    "model_rf = model_rf.fit(x_train, y_train)\n",
    "y_pred_rd = model_rf.predict(x_test)"
   ]
  },
  {
   "cell_type": "code",
   "execution_count": 51,
   "id": "32cc6372",
   "metadata": {
    "execution": {
     "iopub.execute_input": "2022-01-18T08:22:23.272606Z",
     "iopub.status.busy": "2022-01-18T08:22:23.271922Z",
     "iopub.status.idle": "2022-01-18T08:22:23.525044Z",
     "shell.execute_reply": "2022-01-18T08:22:23.524351Z",
     "shell.execute_reply.started": "2022-01-18T08:10:32.794070Z"
    },
    "id": "32cc6372",
    "papermill": {
     "duration": 0.352501,
     "end_time": "2022-01-18T08:22:23.525196",
     "exception": false,
     "start_time": "2022-01-18T08:22:23.172695",
     "status": "completed"
    },
    "tags": []
   },
   "outputs": [
    {
     "name": "stdout",
     "output_type": "stream",
     "text": [
      "              precision    recall  f1-score   support\n",
      "\n",
      "           0       0.83      0.83      0.83        18\n",
      "           1       0.73      0.73      0.73        11\n",
      "\n",
      "    accuracy                           0.79        29\n",
      "   macro avg       0.78      0.78      0.78        29\n",
      "weighted avg       0.79      0.79      0.79        29\n",
      "\n"
     ]
    },
    {
     "data": {
      "text/plain": [
       "<Axes: >"
      ]
     },
     "execution_count": 51,
     "metadata": {},
     "output_type": "execute_result"
    },
    {
     "data": {
      "image/png": "[encoded data removed]",
      "text/plain": [
       "<Figure size 800x550 with 2 Axes>"
      ]
     },
     "metadata": {},
     "output_type": "display_data"
    }
   ],
   "source": [
    "print(classification_report(y_test, y_pred_rd))\n",
    "sns.heatmap(confusion_matrix(y_test, y_pred_rd), annot = True)"
   ]
  },
  {
   "cell_type": "code",
   "execution_count": 52,
   "id": "e6125b30",
   "metadata": {
    "execution": {
     "iopub.execute_input": "2022-01-18T08:22:24.768955Z",
     "iopub.status.busy": "2022-01-18T08:22:24.760447Z",
     "iopub.status.idle": "2022-01-18T08:22:24.793373Z",
     "shell.execute_reply": "2022-01-18T08:22:24.793956Z",
     "shell.execute_reply.started": "2022-01-18T08:10:33.335966Z"
    },
    "id": "e6125b30",
    "papermill": {
     "duration": 0.13456,
     "end_time": "2022-01-18T08:22:24.794134",
     "exception": false,
     "start_time": "2022-01-18T08:22:24.659574",
     "status": "completed"
    },
    "tags": []
   },
   "outputs": [
    {
     "data": {
      "text/html": [
       "<div>\n",
       "<style scoped>\n",
       "    .dataframe tbody tr th:only-of-type {\n",
       "        vertical-align: middle;\n",
       "    }\n",
       "\n",
       "    .dataframe tbody tr th {\n",
       "        vertical-align: top;\n",
       "    }\n",
       "\n",
       "    .dataframe thead th {\n",
       "        text-align: right;\n",
       "    }\n",
       "</style>\n",
       "<table border=\"1\" class=\"dataframe\">\n",
       "  <thead>\n",
       "    <tr style=\"text-align: right;\">\n",
       "      <th></th>\n",
       "      <th>Accuracy</th>\n",
       "      <th>Precision</th>\n",
       "      <th>Recall</th>\n",
       "      <th>ROC_score</th>\n",
       "    </tr>\n",
       "  </thead>\n",
       "  <tbody>\n",
       "    <tr>\n",
       "      <th>lr</th>\n",
       "      <td>0.793103</td>\n",
       "      <td>0.727273</td>\n",
       "      <td>0.727273</td>\n",
       "      <td>0.780303</td>\n",
       "    </tr>\n",
       "    <tr>\n",
       "      <th>rd</th>\n",
       "      <td>0.793103</td>\n",
       "      <td>0.727273</td>\n",
       "      <td>0.727273</td>\n",
       "      <td>0.780303</td>\n",
       "    </tr>\n",
       "  </tbody>\n",
       "</table>\n",
       "</div>"
      ],
      "text/plain": [
       "    Accuracy  Precision    Recall  ROC_score\n",
       "lr  0.793103   0.727273  0.727273   0.780303\n",
       "rd  0.793103   0.727273  0.727273   0.780303"
      ]
     },
     "execution_count": 52,
     "metadata": {},
     "output_type": "execute_result"
    }
   ],
   "source": [
    "accuracy, precision, recall, roc = [],[],[],[]\n",
    "predictions = [y_pred_lr,y_pred_rd]\n",
    "\n",
    "               \n",
    "for i in range (len(predictions)):\n",
    "    accuracy.append(accuracy_score(y_test, predictions[i]))\n",
    "    precision.append(precision_score(y_test, predictions[i]))\n",
    "    recall.append(recall_score(y_test, predictions[i]))\n",
    "    roc.append(roc_auc_score(y_test, predictions[i]))\n",
    "\n",
    "compare = pd.DataFrame ({'Accuracy': accuracy, 'Precision': precision, 'Recall': recall, 'ROC_score':roc}, index=[\"lr\",\"rd\"])\n",
    "compare.sort_values('Accuracy', ascending=False)"
   ]
  },
  {
   "cell_type": "code",
   "execution_count": 53,
   "id": "08aac54e",
   "metadata": {
    "execution": {
     "iopub.execute_input": "2022-01-18T08:22:24.992264Z",
     "iopub.status.busy": "2022-01-18T08:22:24.991585Z",
     "iopub.status.idle": "2022-01-18T08:22:25.001992Z",
     "shell.execute_reply": "2022-01-18T08:22:25.002544Z",
     "shell.execute_reply.started": "2022-01-18T08:10:33.367127Z"
    },
    "id": "08aac54e",
    "papermill": {
     "duration": 0.111278,
     "end_time": "2022-01-18T08:22:25.002723",
     "exception": false,
     "start_time": "2022-01-18T08:22:24.891445",
     "status": "completed"
    },
    "tags": []
   },
   "outputs": [],
   "source": [
    "model_params = {\n",
    "    'random_forest': {\n",
    "        'model': RandomForestClassifier(),\n",
    "        'params' : {\n",
    "            'n_estimators': [i for i in range(1,100,5)],\n",
    "            'criterion' : ['gini', 'entropy'],\n",
    "            'max_features' : ['auto', 'sqrt', 'log2'],\n",
    "            'n_jobs' : [-1]\n",
    "        }\n",
    "    },\n",
    "    'logistic_regression' : {\n",
    "        'model': LogisticRegression(),\n",
    "        'params': {\n",
    "            'C': [1.0, 2.0, 4.0, 6.0, 8.0, 10.0],\n",
    "            'penalty' : ['l1', 'l2', 'elasticnet'],\n",
    "            'solver' : ['newton-cg', 'lbfgs', 'liblinear', 'sag', 'saga'],\n",
    "            'multi_class' : ['auto', 'ovr', 'multinomial'],\n",
    "            'n_jobs' : [-1]\n",
    "        }\n",
    "    }\n",
    "}"
   ]
  },
  {
   "cell_type": "markdown",
   "id": "b1ccf535",
   "metadata": {
    "id": "b1ccf535",
    "papermill": {
     "duration": 0.09742,
     "end_time": "2022-01-18T08:22:25.198741",
     "exception": false,
     "start_time": "2022-01-18T08:22:25.101321",
     "status": "completed"
    },
    "tags": []
   },
   "source": [
    "## GridSearchCV"
   ]
  },
  {
   "cell_type": "code",
   "execution_count": 54,
   "id": "7cd06605",
   "metadata": {
    "execution": {
     "iopub.execute_input": "2022-01-18T08:22:25.398759Z",
     "iopub.status.busy": "2022-01-18T08:22:25.398041Z",
     "iopub.status.idle": "2022-01-18T08:28:40.851510Z",
     "shell.execute_reply": "2022-01-18T08:28:40.850712Z",
     "shell.execute_reply.started": "2022-01-18T08:10:33.375647Z"
    },
    "id": "7cd06605",
    "papermill": {
     "duration": 375.554599,
     "end_time": "2022-01-18T08:28:40.851714",
     "exception": false,
     "start_time": "2022-01-18T08:22:25.297115",
     "status": "completed"
    },
    "tags": []
   },
   "outputs": [
    {
     "data": {
      "text/html": [
       "<div>\n",
       "<style scoped>\n",
       "    .dataframe tbody tr th:only-of-type {\n",
       "        vertical-align: middle;\n",
       "    }\n",
       "\n",
       "    .dataframe tbody tr th {\n",
       "        vertical-align: top;\n",
       "    }\n",
       "\n",
       "    .dataframe thead th {\n",
       "        text-align: right;\n",
       "    }\n",
       "</style>\n",
       "<table border=\"1\" class=\"dataframe\">\n",
       "  <thead>\n",
       "    <tr style=\"text-align: right;\">\n",
       "      <th></th>\n",
       "      <th>model</th>\n",
       "      <th>best_score</th>\n",
       "      <th>best_params</th>\n",
       "    </tr>\n",
       "  </thead>\n",
       "  <tbody>\n",
       "    <tr>\n",
       "      <th>0</th>\n",
       "      <td>random_forest</td>\n",
       "      <td>0.798814</td>\n",
       "      <td>{'criterion': 'entropy', 'max_features': 'log2...</td>\n",
       "    </tr>\n",
       "    <tr>\n",
       "      <th>1</th>\n",
       "      <td>logistic_regression</td>\n",
       "      <td>0.754941</td>\n",
       "      <td>{'C': 2.0, 'multi_class': 'auto', 'n_jobs': -1...</td>\n",
       "    </tr>\n",
       "  </tbody>\n",
       "</table>\n",
       "</div>"
      ],
      "text/plain": [
       "                 model  best_score  \\\n",
       "0        random_forest    0.798814   \n",
       "1  logistic_regression    0.754941   \n",
       "\n",
       "                                         best_params  \n",
       "0  {'criterion': 'entropy', 'max_features': 'log2...  \n",
       "1  {'C': 2.0, 'multi_class': 'auto', 'n_jobs': -1...  "
      ]
     },
     "execution_count": 54,
     "metadata": {},
     "output_type": "execute_result"
    }
   ],
   "source": [
    "scores = []\n",
    "\n",
    "for model_name, mp in model_params.items():\n",
    "    clf =  GridSearchCV(mp['model'], mp['params'], cv=5, return_train_score=False)\n",
    "    clf.fit(x_train, y_train)\n",
    "    scores.append({\n",
    "        'model': model_name,\n",
    "        'best_score': clf.best_score_,\n",
    "        'best_params': clf.best_params_\n",
    "    })\n",
    "    \n",
    "data = pd.DataFrame(scores,columns=['model','best_score','best_params'])\n",
    "data"
   ]
  },
  {
   "cell_type": "markdown",
   "id": "cfeb7799",
   "metadata": {
    "id": "cfeb7799",
    "papermill": {
     "duration": 0.098254,
     "end_time": "2022-01-18T08:28:41.048429",
     "exception": false,
     "start_time": "2022-01-18T08:28:40.950175",
     "status": "completed"
    },
    "tags": []
   },
   "source": [
    "## RandomizedSearchCV"
   ]
  },
  {
   "cell_type": "code",
   "execution_count": 55,
   "id": "dde8fa05",
   "metadata": {
    "execution": {
     "iopub.execute_input": "2022-01-18T08:28:41.250983Z",
     "iopub.status.busy": "2022-01-18T08:28:41.250304Z",
     "iopub.status.idle": "2022-01-18T08:29:09.905461Z",
     "shell.execute_reply": "2022-01-18T08:29:09.905959Z",
     "shell.execute_reply.started": "2022-01-18T08:15:55.321478Z"
    },
    "id": "dde8fa05",
    "papermill": {
     "duration": 28.757566,
     "end_time": "2022-01-18T08:29:09.906141",
     "exception": false,
     "start_time": "2022-01-18T08:28:41.148575",
     "status": "completed"
    },
    "tags": []
   },
   "outputs": [
    {
     "data": {
      "text/html": [
       "<div>\n",
       "<style scoped>\n",
       "    .dataframe tbody tr th:only-of-type {\n",
       "        vertical-align: middle;\n",
       "    }\n",
       "\n",
       "    .dataframe tbody tr th {\n",
       "        vertical-align: top;\n",
       "    }\n",
       "\n",
       "    .dataframe thead th {\n",
       "        text-align: right;\n",
       "    }\n",
       "</style>\n",
       "<table border=\"1\" class=\"dataframe\">\n",
       "  <thead>\n",
       "    <tr style=\"text-align: right;\">\n",
       "      <th></th>\n",
       "      <th>model</th>\n",
       "      <th>best_score</th>\n",
       "      <th>best_params</th>\n",
       "    </tr>\n",
       "  </thead>\n",
       "  <tbody>\n",
       "    <tr>\n",
       "      <th>0</th>\n",
       "      <td>random_forest</td>\n",
       "      <td>0.781423</td>\n",
       "      <td>{'n_jobs': -1, 'n_estimators': 66, 'max_featur...</td>\n",
       "    </tr>\n",
       "    <tr>\n",
       "      <th>1</th>\n",
       "      <td>logistic_regression</td>\n",
       "      <td>0.728854</td>\n",
       "      <td>{'solver': 'newton-cg', 'penalty': 'l2', 'n_jo...</td>\n",
       "    </tr>\n",
       "  </tbody>\n",
       "</table>\n",
       "</div>"
      ],
      "text/plain": [
       "                 model  best_score  \\\n",
       "0        random_forest    0.781423   \n",
       "1  logistic_regression    0.728854   \n",
       "\n",
       "                                         best_params  \n",
       "0  {'n_jobs': -1, 'n_estimators': 66, 'max_featur...  \n",
       "1  {'solver': 'newton-cg', 'penalty': 'l2', 'n_jo...  "
      ]
     },
     "execution_count": 55,
     "metadata": {},
     "output_type": "execute_result"
    }
   ],
   "source": [
    "scores = []\n",
    "\n",
    "for model_name, mp in model_params.items():\n",
    "    clf_random =  RandomizedSearchCV(mp['model'], mp['params'], cv=5, return_train_score=False)\n",
    "    clf_random.fit(x_train, y_train)\n",
    "    scores.append({\n",
    "        'model': model_name,\n",
    "        'best_score': clf_random.best_score_,\n",
    "        'best_params': clf_random.best_params_\n",
    "    })\n",
    "    \n",
    "data1 = pd.DataFrame(scores,columns=['model','best_score','best_params'])\n",
    "data1"
   ]
  },
  {
   "cell_type": "code",
   "execution_count": 56,
   "id": "aa48101c",
   "metadata": {
    "execution": {
     "iopub.execute_input": "2022-01-18T08:29:10.113546Z",
     "iopub.status.busy": "2022-01-18T08:29:10.112492Z",
     "iopub.status.idle": "2022-01-18T08:29:10.118910Z",
     "shell.execute_reply": "2022-01-18T08:29:10.119542Z",
     "shell.execute_reply.started": "2022-01-18T08:16:05.700047Z"
    },
    "id": "aa48101c",
    "papermill": {
     "duration": 0.110751,
     "end_time": "2022-01-18T08:29:10.119721",
     "exception": false,
     "start_time": "2022-01-18T08:29:10.008970",
     "status": "completed"
    },
    "scrolled": false,
    "tags": []
   },
   "outputs": [
    {
     "data": {
      "text/plain": [
       "{'criterion': 'entropy',\n",
       " 'max_features': 'log2',\n",
       " 'n_estimators': 66,\n",
       " 'n_jobs': -1}"
      ]
     },
     "execution_count": 56,
     "metadata": {},
     "output_type": "execute_result"
    }
   ],
   "source": [
    "data['best_params'][0]"
   ]
  },
  {
   "cell_type": "code",
   "execution_count": 57,
   "id": "e182c1c1",
   "metadata": {
    "execution": {
     "iopub.execute_input": "2022-01-18T08:29:10.324224Z",
     "iopub.status.busy": "2022-01-18T08:29:10.323216Z",
     "iopub.status.idle": "2022-01-18T08:29:10.327570Z",
     "shell.execute_reply": "2022-01-18T08:29:10.328166Z",
     "shell.execute_reply.started": "2022-01-18T08:16:57.676378Z"
    },
    "id": "e182c1c1",
    "papermill": {
     "duration": 0.107868,
     "end_time": "2022-01-18T08:29:10.328355",
     "exception": false,
     "start_time": "2022-01-18T08:29:10.220487",
     "status": "completed"
    },
    "tags": []
   },
   "outputs": [],
   "source": [
    "model = RandomForestClassifier(criterion='entropy',max_features='log2',n_estimators=66,n_jobs=-1)"
   ]
  },
  {
   "cell_type": "code",
   "execution_count": 58,
   "id": "2da42b30",
   "metadata": {
    "execution": {
     "iopub.execute_input": "2022-01-18T08:29:10.534669Z",
     "iopub.status.busy": "2022-01-18T08:29:10.533670Z",
     "iopub.status.idle": "2022-01-18T08:29:10.654069Z",
     "shell.execute_reply": "2022-01-18T08:29:10.653451Z",
     "shell.execute_reply.started": "2022-01-18T08:17:00.882262Z"
    },
    "id": "2da42b30",
    "papermill": {
     "duration": 0.224097,
     "end_time": "2022-01-18T08:29:10.654213",
     "exception": false,
     "start_time": "2022-01-18T08:29:10.430116",
     "status": "completed"
    },
    "tags": []
   },
   "outputs": [
    {
     "data": {
      "text/html": [
       "<style>#sk-container-id-2 {color: black;background-color: white;}#sk-container-id-2 pre{padding: 0;}#sk-container-id-2 div.sk-toggleable {background-color: white;}#sk-container-id-2 label.sk-toggleable__label {cursor: pointer;display: block;width: 100%;margin-bottom: 0;padding: 0.3em;box-sizing: border-box;text-align: center;}#sk-container-id-2 label.sk-toggleable__label-arrow:before {content: \"▸\";float: left;margin-right: 0.25em;color: #696969;}#sk-container-id-2 label.sk-toggleable__label-arrow:hover:before {color: black;}#sk-container-id-2 div.sk-estimator:hover label.sk-toggleable__label-arrow:before {color: black;}#sk-container-id-2 div.sk-toggleable__content {max-height: 0;max-width: 0;overflow: hidden;text-align: left;background-color: #f0f8ff;}#sk-container-id-2 div.sk-toggleable__content pre {margin: 0.2em;color: black;border-radius: 0.25em;background-color: #f0f8ff;}#sk-container-id-2 input.sk-toggleable__control:checked~div.sk-toggleable__content {max-height: 200px;max-width: 100%;overflow: auto;}#sk-container-id-2 input.sk-toggleable__control:checked~label.sk-toggleable__label-arrow:before {content: \"▾\";}#sk-container-id-2 div.sk-estimator input.sk-toggleable__control:checked~label.sk-toggleable__label {background-color: #d4ebff;}#sk-container-id-2 div.sk-label input.sk-toggleable__control:checked~label.sk-toggleable__label {background-color: #d4ebff;}#sk-container-id-2 input.sk-hidden--visually {border: 0;clip: rect(1px 1px 1px 1px);clip: rect(1px, 1px, 1px, 1px);height: 1px;margin: -1px;overflow: hidden;padding: 0;position: absolute;width: 1px;}#sk-container-id-2 div.sk-estimator {font-family: monospace;background-color: #f0f8ff;border: 1px dotted black;border-radius: 0.25em;box-sizing: border-box;margin-bottom: 0.5em;}#sk-container-id-2 div.sk-estimator:hover {background-color: #d4ebff;}#sk-container-id-2 div.sk-parallel-item::after {content: \"\";width: 100%;border-bottom: 1px solid gray;flex-grow: 1;}#sk-container-id-2 div.sk-label:hover label.sk-toggleable__label {background-color: #d4ebff;}#sk-container-id-2 div.sk-serial::before {content: \"\";position: absolute;border-left: 1px solid gray;box-sizing: border-box;top: 0;bottom: 0;left: 50%;z-index: 0;}#sk-container-id-2 div.sk-serial {display: flex;flex-direction: column;align-items: center;background-color: white;padding-right: 0.2em;padding-left: 0.2em;position: relative;}#sk-container-id-2 div.sk-item {position: relative;z-index: 1;}#sk-container-id-2 div.sk-parallel {display: flex;align-items: stretch;justify-content: center;background-color: white;position: relative;}#sk-container-id-2 div.sk-item::before, #sk-container-id-2 div.sk-parallel-item::before {content: \"\";position: absolute;border-left: 1px solid gray;box-sizing: border-box;top: 0;bottom: 0;left: 50%;z-index: -1;}#sk-container-id-2 div.sk-parallel-item {display: flex;flex-direction: column;z-index: 1;position: relative;background-color: white;}#sk-container-id-2 div.sk-parallel-item:first-child::after {align-self: flex-end;width: 50%;}#sk-container-id-2 div.sk-parallel-item:last-child::after {align-self: flex-start;width: 50%;}#sk-container-id-2 div.sk-parallel-item:only-child::after {width: 0;}#sk-container-id-2 div.sk-dashed-wrapped {border: 1px dashed gray;margin: 0 0.4em 0.5em 0.4em;box-sizing: border-box;padding-bottom: 0.4em;background-color: white;}#sk-container-id-2 div.sk-label label {font-family: monospace;font-weight: bold;display: inline-block;line-height: 1.2em;}#sk-container-id-2 div.sk-label-container {text-align: center;}#sk-container-id-2 div.sk-container {/* jupyter's `normalize.less` sets `[hidden] { display: none; }` but bootstrap.min.css set `[hidden] { display: none !important; }` so we also need the `!important` here to be able to override the default hidden behavior on the sphinx rendered scikit-learn.org. See: https://github.com/scikit-learn/scikit-learn/issues/21755 */display: inline-block !important;position: relative;}#sk-container-id-2 div.sk-text-repr-fallback {display: none;}</style><div id=\"sk-container-id-2\" class=\"sk-top-container\"><div class=\"sk-text-repr-fallback\"><pre>RandomForestClassifier(criterion=&#x27;entropy&#x27;, max_features=&#x27;log2&#x27;,\n",
       "                       n_estimators=66, n_jobs=-1)</pre><b>In a Jupyter environment, please rerun this cell to show the HTML representation or trust the notebook. <br />On GitHub, the HTML representation is unable to render, please try loading this page with nbviewer.org.</b></div><div class=\"sk-container\" hidden><div class=\"sk-item\"><div class=\"sk-estimator sk-toggleable\"><input class=\"sk-toggleable__control sk-hidden--visually\" id=\"sk-estimator-id-2\" type=\"checkbox\" checked><label for=\"sk-estimator-id-2\" class=\"sk-toggleable__label sk-toggleable__label-arrow\">RandomForestClassifier</label><div class=\"sk-toggleable__content\"><pre>RandomForestClassifier(criterion=&#x27;entropy&#x27;, max_features=&#x27;log2&#x27;,\n",
       "                       n_estimators=66, n_jobs=-1)</pre></div></div></div></div></div>"
      ],
      "text/plain": [
       "RandomForestClassifier(criterion='entropy', max_features='log2',\n",
       "                       n_estimators=66, n_jobs=-1)"
      ]
     },
     "execution_count": 58,
     "metadata": {},
     "output_type": "execute_result"
    }
   ],
   "source": [
    "model.fit(x_train, y_train)"
   ]
  },
  {
   "cell_type": "code",
   "execution_count": 59,
   "id": "dfc0f12f",
   "metadata": {},
   "outputs": [],
   "source": [
    "# Predict the values for the test split\n",
    "y_pred = model.predict(x_test)"
   ]
  },
  {
   "cell_type": "code",
   "execution_count": 60,
   "id": "a0ee7cbb",
   "metadata": {},
   "outputs": [
    {
     "data": {
      "text/plain": [
       "array([0, 0, 1, 0, 1, 0, 0, 1, 1, 0, 0, 1, 0, 0, 0, 0, 1, 0, 1, 0, 0, 0,\n",
       "       0, 0, 1, 1, 0, 1, 0], dtype=uint8)"
      ]
     },
     "execution_count": 60,
     "metadata": {},
     "output_type": "execute_result"
    }
   ],
   "source": [
    "y_pred"
   ]
  },
  {
   "cell_type": "code",
   "execution_count": 61,
   "id": "ace9cd42",
   "metadata": {},
   "outputs": [
    {
     "name": "stdout",
     "output_type": "stream",
     "text": [
      "              precision    recall  f1-score   support\n",
      "\n",
      "           0       0.84      0.89      0.86        18\n",
      "           1       0.80      0.73      0.76        11\n",
      "\n",
      "    accuracy                           0.83        29\n",
      "   macro avg       0.82      0.81      0.81        29\n",
      "weighted avg       0.83      0.83      0.83        29\n",
      "\n"
     ]
    },
    {
     "data": {
      "text/plain": [
       "<Axes: >"
      ]
     },
     "execution_count": 61,
     "metadata": {},
     "output_type": "execute_result"
    },
    {
     "data": {
      "image/png": "[encoded data removed]",
      "text/plain": [
       "<Figure size 800x550 with 2 Axes>"
      ]
     },
     "metadata": {},
     "output_type": "display_data"
    }
   ],
   "source": [
    "print(classification_report(y_test, y_pred))\n",
    "sns.heatmap(confusion_matrix(y_test, y_pred), annot = True)"
   ]
  }
 ],
 "metadata": {
  "accelerator": "TPU",
  "colab": {
   "private_outputs": true,
   "provenance": []
  },
  "gpuClass": "standard",
  "kernelspec": {
   "display_name": "Python 3 (ipykernel)",
   "language": "python",
   "name": "python3"
  },
  "language_info": {
   "codemirror_mode": {
    "name": "ipython",
    "version": 3
   },
   "file_extension": ".py",
   "mimetype": "text/x-python",
   "name": "python",
   "nbconvert_exporter": "python",
   "pygments_lexer": "ipython3",
   "version": "3.9.7"
  },
  "papermill": {
   "default_parameters": {},
   "duration": 469.559465,
   "end_time": "2022-01-18T08:29:14.138179",
   "environment_variables": {},
   "exception": null,
   "input_path": "__notebook__.ipynb",
   "output_path": "__notebook__.ipynb",
   "parameters": {},
   "start_time": "2022-01-18T08:21:24.578714",
   "version": "2.3.3"
  }
 },
 "nbformat": 4,
 "nbformat_minor": 5
}
